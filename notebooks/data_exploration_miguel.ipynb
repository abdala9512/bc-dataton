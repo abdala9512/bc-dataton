{
 "cells": [
  {
   "cell_type": "markdown",
   "id": "aging-backup",
   "metadata": {},
   "source": [
    "# Data Exploration"
   ]
  },
  {
   "cell_type": "code",
   "execution_count": 1,
   "id": "green-chinese",
   "metadata": {},
   "outputs": [],
   "source": [
    "import pandas as pd\n",
    "import numpy as np\n",
    "import matplotlib\n",
    "import matplotlib.pyplot as plt\n",
    "import seaborn as sns\n",
    "\n",
    "import random\n",
    "\n",
    "from tensorflow.keras.models import Sequential\n",
    "from tensorflow.keras.layers import Dense, BatchNormalization,Dropout\n",
    "\n",
    "from sklearn.ensemble import RandomForestRegressor\n",
    "from sklearn.model_selection import train_test_split\n",
    "from sklearn.metrics import mean_absolute_percentage_error\n",
    "\n",
    "from sklearn.model_selection import KFold\n",
    "from sklearn.model_selection import cross_val_score\n",
    "\n",
    "import statsmodels.api as sm\n",
    "from statsmodels.formula.api import ols, glm\n",
    "import xgboost as xgb\n",
    "from catboost import CatBoostRegressor\n",
    "\n",
    "%matplotlib inline\n",
    "\n",
    "pd.set_option('display.float_format', lambda x: '%.5f' % x)\n",
    "\n",
    "sns.set_style(\"white\")\n",
    "matplotlib.rc('xtick', labelsize=15)\n",
    "matplotlib.rc('ytick', labelsize=15)\n",
    "plt.rcParams['figure.figsize'] = [16.0, 10.0]"
   ]
  },
  {
   "cell_type": "code",
   "execution_count": 2,
   "id": "british-moderator",
   "metadata": {},
   "outputs": [],
   "source": [
    "dates = [\n",
    "    '201902', '201903', '201904', '201905', '201907', '201908', '201909',\n",
    "    '201910', '201911', '202001', '202002', '202003', '202004', '202005',\n",
    "    '202007', '202008', '202009', '202010', '202011'\n",
    "]\n",
    "seed=111\n",
    "p = 0.1\n",
    "bc_dataframe = []\n",
    "for date in dates:\n",
    "    df = pd.read_csv(\n",
    "             f\"train_{date}_cleaned.csv\",\n",
    "             header=0,\n",
    "             skiprows=lambda i: i>0 and random.random() > p\n",
    "    ).drop(\"Unnamed: 0\", axis=1)\n",
    "    bc_dataframe.append(df)\n",
    "bc_dataframe = pd.concat(bc_dataframe, axis=0)"
   ]
  },
  {
   "cell_type": "code",
   "execution_count": 244,
   "id": "brown-testing",
   "metadata": {
    "scrolled": false
   },
   "outputs": [
    {
     "data": {
      "text/html": [
       "<div>\n",
       "<style scoped>\n",
       "    .dataframe tbody tr th:only-of-type {\n",
       "        vertical-align: middle;\n",
       "    }\n",
       "\n",
       "    .dataframe tbody tr th {\n",
       "        vertical-align: top;\n",
       "    }\n",
       "\n",
       "    .dataframe thead th {\n",
       "        text-align: right;\n",
       "    }\n",
       "</style>\n",
       "<table border=\"1\" class=\"dataframe\">\n",
       "  <thead>\n",
       "    <tr style=\"text-align: right;\">\n",
       "      <th></th>\n",
       "      <th>periodo</th>\n",
       "      <th>id_cli</th>\n",
       "      <th>edad</th>\n",
       "      <th>genero</th>\n",
       "      <th>estado_civil</th>\n",
       "      <th>ult_actual</th>\n",
       "      <th>ind_mora_vigente</th>\n",
       "      <th>departamento_residencia</th>\n",
       "      <th>mora_max</th>\n",
       "      <th>cupo_total_tc</th>\n",
       "      <th>...</th>\n",
       "      <th>cuota_tc_mdo</th>\n",
       "      <th>saldo_no_rot_mdo</th>\n",
       "      <th>cuota_libranza_sf</th>\n",
       "      <th>cant_oblig_tot_sf</th>\n",
       "      <th>ind</th>\n",
       "      <th>rep_calif_cred</th>\n",
       "      <th>convenio_lib</th>\n",
       "      <th>ingreso_nomina</th>\n",
       "      <th>ingreso_segurida_social</th>\n",
       "      <th>gasto_familiar</th>\n",
       "    </tr>\n",
       "  </thead>\n",
       "  <tbody>\n",
       "    <tr>\n",
       "      <th>0</th>\n",
       "      <td>201902</td>\n",
       "      <td>8584182</td>\n",
       "      <td>68</td>\n",
       "      <td>M</td>\n",
       "      <td>CAS</td>\n",
       "      <td>20181112</td>\n",
       "      <td>N</td>\n",
       "      <td>BOGOTA D.C.</td>\n",
       "      <td>Entre 0 y 30 dias</td>\n",
       "      <td>0.00000</td>\n",
       "      <td>...</td>\n",
       "      <td>1921000.00000</td>\n",
       "      <td>44551000.00000</td>\n",
       "      <td>0.00000</td>\n",
       "      <td>3</td>\n",
       "      <td>375066.18500</td>\n",
       "      <td>B</td>\n",
       "      <td>S</td>\n",
       "      <td>0.00000</td>\n",
       "      <td>0.00000</td>\n",
       "      <td>1198992.00000</td>\n",
       "    </tr>\n",
       "    <tr>\n",
       "      <th>1</th>\n",
       "      <td>201902</td>\n",
       "      <td>309996</td>\n",
       "      <td>46</td>\n",
       "      <td>F</td>\n",
       "      <td>CAS</td>\n",
       "      <td>20190104</td>\n",
       "      <td>N</td>\n",
       "      <td>ANTIOQUIA</td>\n",
       "      <td>Entre 0 y 30 dias</td>\n",
       "      <td>0.00000</td>\n",
       "      <td>...</td>\n",
       "      <td>226000.00000</td>\n",
       "      <td>79861000.00000</td>\n",
       "      <td>0.00000</td>\n",
       "      <td>4</td>\n",
       "      <td>8050836.86250</td>\n",
       "      <td>F</td>\n",
       "      <td>N</td>\n",
       "      <td>0.00000</td>\n",
       "      <td>0.00000</td>\n",
       "      <td>1097495.00000</td>\n",
       "    </tr>\n",
       "    <tr>\n",
       "      <th>2</th>\n",
       "      <td>201902</td>\n",
       "      <td>2936047</td>\n",
       "      <td>42</td>\n",
       "      <td>M</td>\n",
       "      <td>CAS</td>\n",
       "      <td>20180810</td>\n",
       "      <td>N</td>\n",
       "      <td>ANTIOQUIA</td>\n",
       "      <td>Entre 0 y 30 dias</td>\n",
       "      <td>0.00000</td>\n",
       "      <td>...</td>\n",
       "      <td>0.00000</td>\n",
       "      <td>0.00000</td>\n",
       "      <td>0.00000</td>\n",
       "      <td>0</td>\n",
       "      <td>5213508.40500</td>\n",
       "      <td>NApl</td>\n",
       "      <td>N</td>\n",
       "      <td>0.00000</td>\n",
       "      <td>0.00000</td>\n",
       "      <td>0.00000</td>\n",
       "    </tr>\n",
       "    <tr>\n",
       "      <th>3</th>\n",
       "      <td>201902</td>\n",
       "      <td>3904495</td>\n",
       "      <td>38</td>\n",
       "      <td>F</td>\n",
       "      <td>SOL</td>\n",
       "      <td>20180707</td>\n",
       "      <td>N</td>\n",
       "      <td>ANTIOQUIA</td>\n",
       "      <td>NApl</td>\n",
       "      <td>0.00000</td>\n",
       "      <td>...</td>\n",
       "      <td>0.00000</td>\n",
       "      <td>5346000.00000</td>\n",
       "      <td>0.00000</td>\n",
       "      <td>0</td>\n",
       "      <td>-4780750.00000</td>\n",
       "      <td>H</td>\n",
       "      <td>N</td>\n",
       "      <td>0.00000</td>\n",
       "      <td>0.00000</td>\n",
       "      <td>385939.00000</td>\n",
       "    </tr>\n",
       "    <tr>\n",
       "      <th>4</th>\n",
       "      <td>201902</td>\n",
       "      <td>2585668</td>\n",
       "      <td>26</td>\n",
       "      <td>F</td>\n",
       "      <td>SOL</td>\n",
       "      <td>20180526</td>\n",
       "      <td>N</td>\n",
       "      <td>ATLANTICO</td>\n",
       "      <td>Entre 0 y 30 dias</td>\n",
       "      <td>4700000.00000</td>\n",
       "      <td>...</td>\n",
       "      <td>0.00000</td>\n",
       "      <td>0.00000</td>\n",
       "      <td>0.00000</td>\n",
       "      <td>1</td>\n",
       "      <td>1717007.00000</td>\n",
       "      <td>C</td>\n",
       "      <td>N</td>\n",
       "      <td>0.00000</td>\n",
       "      <td>0.00000</td>\n",
       "      <td>99922.00000</td>\n",
       "    </tr>\n",
       "    <tr>\n",
       "      <th>...</th>\n",
       "      <td>...</td>\n",
       "      <td>...</td>\n",
       "      <td>...</td>\n",
       "      <td>...</td>\n",
       "      <td>...</td>\n",
       "      <td>...</td>\n",
       "      <td>...</td>\n",
       "      <td>...</td>\n",
       "      <td>...</td>\n",
       "      <td>...</td>\n",
       "      <td>...</td>\n",
       "      <td>...</td>\n",
       "      <td>...</td>\n",
       "      <td>...</td>\n",
       "      <td>...</td>\n",
       "      <td>...</td>\n",
       "      <td>...</td>\n",
       "      <td>...</td>\n",
       "      <td>...</td>\n",
       "      <td>...</td>\n",
       "      <td>...</td>\n",
       "    </tr>\n",
       "    <tr>\n",
       "      <th>110767</th>\n",
       "      <td>202011</td>\n",
       "      <td>4699764</td>\n",
       "      <td>27</td>\n",
       "      <td>M</td>\n",
       "      <td>SOL</td>\n",
       "      <td>20190404</td>\n",
       "      <td>N</td>\n",
       "      <td>ANTIOQUIA</td>\n",
       "      <td>Entre 0 y 30 dias</td>\n",
       "      <td>2000000.00000</td>\n",
       "      <td>...</td>\n",
       "      <td>0.00000</td>\n",
       "      <td>13511000.00000</td>\n",
       "      <td>0.00000</td>\n",
       "      <td>2</td>\n",
       "      <td>-225525.00000</td>\n",
       "      <td>A</td>\n",
       "      <td>N</td>\n",
       "      <td>0.00000</td>\n",
       "      <td>1956240.00000</td>\n",
       "      <td>3525617.99000</td>\n",
       "    </tr>\n",
       "    <tr>\n",
       "      <th>110768</th>\n",
       "      <td>202011</td>\n",
       "      <td>616871</td>\n",
       "      <td>48</td>\n",
       "      <td>M</td>\n",
       "      <td>SOL</td>\n",
       "      <td>20200218</td>\n",
       "      <td>N</td>\n",
       "      <td>TOLIMA</td>\n",
       "      <td>Entre 0 y 30 dias</td>\n",
       "      <td>8800000.00000</td>\n",
       "      <td>...</td>\n",
       "      <td>0.00000</td>\n",
       "      <td>0.00000</td>\n",
       "      <td>0.00000</td>\n",
       "      <td>6</td>\n",
       "      <td>197543.80000</td>\n",
       "      <td>C</td>\n",
       "      <td>N</td>\n",
       "      <td>1854243.50000</td>\n",
       "      <td>0.00000</td>\n",
       "      <td>122040.00000</td>\n",
       "    </tr>\n",
       "    <tr>\n",
       "      <th>110769</th>\n",
       "      <td>202011</td>\n",
       "      <td>2863977</td>\n",
       "      <td>34</td>\n",
       "      <td>M</td>\n",
       "      <td>NI</td>\n",
       "      <td>20180526</td>\n",
       "      <td>N</td>\n",
       "      <td>VALLE</td>\n",
       "      <td>Mas de 60</td>\n",
       "      <td>0.00000</td>\n",
       "      <td>...</td>\n",
       "      <td>235000.00000</td>\n",
       "      <td>24870000.00000</td>\n",
       "      <td>16314000.00000</td>\n",
       "      <td>7</td>\n",
       "      <td>-34644450.00000</td>\n",
       "      <td>G</td>\n",
       "      <td>N</td>\n",
       "      <td>0.00000</td>\n",
       "      <td>2780000.00000</td>\n",
       "      <td>433419.00000</td>\n",
       "    </tr>\n",
       "    <tr>\n",
       "      <th>110770</th>\n",
       "      <td>202011</td>\n",
       "      <td>4763067</td>\n",
       "      <td>37</td>\n",
       "      <td>M</td>\n",
       "      <td>SOL</td>\n",
       "      <td>20200902</td>\n",
       "      <td>N</td>\n",
       "      <td>BOGOTA D.C.</td>\n",
       "      <td>Entre 0 y 30 dias</td>\n",
       "      <td>23400000.00000</td>\n",
       "      <td>...</td>\n",
       "      <td>1142000.00000</td>\n",
       "      <td>203000.00000</td>\n",
       "      <td>0.00000</td>\n",
       "      <td>3</td>\n",
       "      <td>35616749.06250</td>\n",
       "      <td>C</td>\n",
       "      <td>N</td>\n",
       "      <td>0.00000</td>\n",
       "      <td>828116.00000</td>\n",
       "      <td>0.00000</td>\n",
       "    </tr>\n",
       "    <tr>\n",
       "      <th>110771</th>\n",
       "      <td>202011</td>\n",
       "      <td>3895049</td>\n",
       "      <td>30</td>\n",
       "      <td>M</td>\n",
       "      <td>UL</td>\n",
       "      <td>20200612</td>\n",
       "      <td>NApl</td>\n",
       "      <td>ANTIOQUIA</td>\n",
       "      <td>Entre 0 y 30 dias</td>\n",
       "      <td>11500000.00000</td>\n",
       "      <td>...</td>\n",
       "      <td>0.00000</td>\n",
       "      <td>59000.00000</td>\n",
       "      <td>0.00000</td>\n",
       "      <td>2</td>\n",
       "      <td>1250080.00000</td>\n",
       "      <td>H</td>\n",
       "      <td>S</td>\n",
       "      <td>2260967.00000</td>\n",
       "      <td>2132000.00000</td>\n",
       "      <td>70700.00000</td>\n",
       "    </tr>\n",
       "  </tbody>\n",
       "</table>\n",
       "<p>2097753 rows × 39 columns</p>\n",
       "</div>"
      ],
      "text/plain": [
       "        periodo   id_cli  edad genero estado_civil  ult_actual  \\\n",
       "0        201902  8584182    68      M          CAS    20181112   \n",
       "1        201902   309996    46      F          CAS    20190104   \n",
       "2        201902  2936047    42      M          CAS    20180810   \n",
       "3        201902  3904495    38      F          SOL    20180707   \n",
       "4        201902  2585668    26      F          SOL    20180526   \n",
       "...         ...      ...   ...    ...          ...         ...   \n",
       "110767   202011  4699764    27      M          SOL    20190404   \n",
       "110768   202011   616871    48      M          SOL    20200218   \n",
       "110769   202011  2863977    34      M           NI    20180526   \n",
       "110770   202011  4763067    37      M          SOL    20200902   \n",
       "110771   202011  3895049    30      M           UL    20200612   \n",
       "\n",
       "       ind_mora_vigente departamento_residencia           mora_max  \\\n",
       "0                     N             BOGOTA D.C.  Entre 0 y 30 dias   \n",
       "1                     N               ANTIOQUIA  Entre 0 y 30 dias   \n",
       "2                     N               ANTIOQUIA  Entre 0 y 30 dias   \n",
       "3                     N               ANTIOQUIA               NApl   \n",
       "4                     N               ATLANTICO  Entre 0 y 30 dias   \n",
       "...                 ...                     ...                ...   \n",
       "110767                N               ANTIOQUIA  Entre 0 y 30 dias   \n",
       "110768                N                  TOLIMA  Entre 0 y 30 dias   \n",
       "110769                N                   VALLE          Mas de 60   \n",
       "110770                N             BOGOTA D.C.  Entre 0 y 30 dias   \n",
       "110771             NApl               ANTIOQUIA  Entre 0 y 30 dias   \n",
       "\n",
       "        cupo_total_tc  ...  cuota_tc_mdo  saldo_no_rot_mdo  cuota_libranza_sf  \\\n",
       "0             0.00000  ... 1921000.00000    44551000.00000            0.00000   \n",
       "1             0.00000  ...  226000.00000    79861000.00000            0.00000   \n",
       "2             0.00000  ...       0.00000           0.00000            0.00000   \n",
       "3             0.00000  ...       0.00000     5346000.00000            0.00000   \n",
       "4       4700000.00000  ...       0.00000           0.00000            0.00000   \n",
       "...               ...  ...           ...               ...                ...   \n",
       "110767  2000000.00000  ...       0.00000    13511000.00000            0.00000   \n",
       "110768  8800000.00000  ...       0.00000           0.00000            0.00000   \n",
       "110769        0.00000  ...  235000.00000    24870000.00000     16314000.00000   \n",
       "110770 23400000.00000  ... 1142000.00000      203000.00000            0.00000   \n",
       "110771 11500000.00000  ...       0.00000       59000.00000            0.00000   \n",
       "\n",
       "        cant_oblig_tot_sf             ind  rep_calif_cred  convenio_lib  \\\n",
       "0                       3    375066.18500               B             S   \n",
       "1                       4   8050836.86250               F             N   \n",
       "2                       0   5213508.40500            NApl             N   \n",
       "3                       0  -4780750.00000               H             N   \n",
       "4                       1   1717007.00000               C             N   \n",
       "...                   ...             ...             ...           ...   \n",
       "110767                  2   -225525.00000               A             N   \n",
       "110768                  6    197543.80000               C             N   \n",
       "110769                  7 -34644450.00000               G             N   \n",
       "110770                  3  35616749.06250               C             N   \n",
       "110771                  2   1250080.00000               H             S   \n",
       "\n",
       "       ingreso_nomina  ingreso_segurida_social gasto_familiar  \n",
       "0             0.00000                  0.00000  1198992.00000  \n",
       "1             0.00000                  0.00000  1097495.00000  \n",
       "2             0.00000                  0.00000        0.00000  \n",
       "3             0.00000                  0.00000   385939.00000  \n",
       "4             0.00000                  0.00000    99922.00000  \n",
       "...               ...                      ...            ...  \n",
       "110767        0.00000            1956240.00000  3525617.99000  \n",
       "110768  1854243.50000                  0.00000   122040.00000  \n",
       "110769        0.00000            2780000.00000   433419.00000  \n",
       "110770        0.00000             828116.00000        0.00000  \n",
       "110771  2260967.00000            2132000.00000    70700.00000  \n",
       "\n",
       "[2097753 rows x 39 columns]"
      ]
     },
     "execution_count": 244,
     "metadata": {},
     "output_type": "execute_result"
    }
   ],
   "source": [
    "bc_dataframe"
   ]
  },
  {
   "cell_type": "code",
   "execution_count": 13,
   "id": "posted-bulgarian",
   "metadata": {},
   "outputs": [
    {
     "name": "stdout",
     "output_type": "stream",
     "text": [
      "<class 'pandas.core.frame.DataFrame'>\n",
      "Int64Index: 210123 entries, 0 to 11011\n",
      "Data columns (total 39 columns):\n",
      " #   Column                         Non-Null Count   Dtype  \n",
      "---  ------                         --------------   -----  \n",
      " 0   periodo                        210123 non-null  int64  \n",
      " 1   id_cli                         210123 non-null  int64  \n",
      " 2   edad                           210123 non-null  int64  \n",
      " 3   genero                         210123 non-null  object \n",
      " 4   estado_civil                   210123 non-null  object \n",
      " 5   ult_actual                     210123 non-null  int64  \n",
      " 6   ind_mora_vigente               210123 non-null  object \n",
      " 7   departamento_residencia        210123 non-null  object \n",
      " 8   mora_max                       210123 non-null  object \n",
      " 9   cupo_total_tc                  210123 non-null  float64\n",
      " 10  cuota_tc_bancolombia           210123 non-null  float64\n",
      " 11  nro_tot_cuentas                210123 non-null  int64  \n",
      " 12  ctas_activas                   210123 non-null  int64  \n",
      " 13  cuota_cred_hipot               210123 non-null  float64\n",
      " 14  mediana_nom3                   210123 non-null  float64\n",
      " 15  mediana_pen3                   210123 non-null  float64\n",
      " 16  ingreso_nompen                 210123 non-null  float64\n",
      " 17  cat_ingreso                    210123 non-null  object \n",
      " 18  ingreso_final                  208589 non-null  float64\n",
      " 19  cant_mora_30_tdc_ult_3m_sf     210123 non-null  object \n",
      " 20  cant_mora_30_consum_ult_3m_sf  210123 non-null  object \n",
      " 21  cuota_de_vivienda              210123 non-null  float64\n",
      " 22  cuota_de_consumo               210123 non-null  float64\n",
      " 23  cuota_rotativos                210123 non-null  float64\n",
      " 24  cuota_tarjeta_de_credito       210123 non-null  float64\n",
      " 25  cuota_de_sector_solidario      210123 non-null  float64\n",
      " 26  cuota_sector_real_comercio     210123 non-null  float64\n",
      " 27  cupo_tc_mdo                    210123 non-null  float64\n",
      " 28  saldo_prom3_tdc_mdo            210123 non-null  float64\n",
      " 29  cuota_tc_mdo                   210123 non-null  float64\n",
      " 30  saldo_no_rot_mdo               210123 non-null  float64\n",
      " 31  cuota_libranza_sf              210123 non-null  float64\n",
      " 32  cant_oblig_tot_sf              210123 non-null  int64  \n",
      " 33  ind                            210031 non-null  float64\n",
      " 34  rep_calif_cred                 210123 non-null  object \n",
      " 35  convenio_lib                   210123 non-null  object \n",
      " 36  ingreso_nomina                 210123 non-null  float64\n",
      " 37  ingreso_segurida_social        210123 non-null  float64\n",
      " 38  gasto_familiar                 210123 non-null  float64\n",
      "dtypes: float64(22), int64(7), object(10)\n",
      "memory usage: 64.1+ MB\n"
     ]
    }
   ],
   "source": [
    "bc_dataframe.info()"
   ]
  },
  {
   "cell_type": "code",
   "execution_count": 5,
   "id": "answering-prisoner",
   "metadata": {},
   "outputs": [
    {
     "data": {
      "text/plain": [
       "<AxesSubplot:>"
      ]
     },
     "execution_count": 5,
     "metadata": {},
     "output_type": "execute_result"
    },
    {
     "data": {
      "image/png": "[encoded data removed]",
      "text/plain": [
       "<Figure size 1152x720 with 1 Axes>"
      ]
     },
     "metadata": {},
     "output_type": "display_data"
    }
   ],
   "source": [
    "bc_dataframe[(bc_dataframe['gasto_familiar'] < 10000000) &\n",
    "             (bc_dataframe['gasto_familiar'] >= 0)]['gasto_familiar'].hist()"
   ]
  },
  {
   "cell_type": "code",
   "execution_count": 40,
   "id": "warming-compression",
   "metadata": {},
   "outputs": [
    {
     "data": {
      "text/plain": [
       "<AxesSubplot:>"
      ]
     },
     "execution_count": 40,
     "metadata": {},
     "output_type": "execute_result"
    },
    {
     "data": {
      "image/png": "[encoded data removed]",
      "text/plain": [
       "<Figure size 1152x720 with 1 Axes>"
      ]
     },
     "metadata": {},
     "output_type": "display_data"
    }
   ],
   "source": [
    "bc_dataframe[(bc_dataframe['ind'] >=-10000000) &\n",
    "            (bc_dataframe['ind'] < 10000000)]['ind'].hist(bins=30)"
   ]
  },
  {
   "cell_type": "code",
   "execution_count": 49,
   "id": "british-investor",
   "metadata": {},
   "outputs": [
    {
     "data": {
      "text/plain": [
       "<AxesSubplot:>"
      ]
     },
     "execution_count": 49,
     "metadata": {},
     "output_type": "execute_result"
    },
    {
     "data": {
      "image/png": "[encoded data removed]",
      "text/plain": [
       "<Figure size 1152x720 with 1 Axes>"
      ]
     },
     "metadata": {},
     "output_type": "display_data"
    }
   ],
   "source": [
    "bc_dataframe[(bc_dataframe['ingreso_final'] < 100000)]['ingreso_final'].hist()"
   ]
  },
  {
   "cell_type": "code",
   "execution_count": 90,
   "id": "helpful-greensboro",
   "metadata": {},
   "outputs": [
    {
     "name": "stdout",
     "output_type": "stream",
     "text": [
      "Porcentaje de personas con gastos familiares entre 0 y 10 millones: 0.9955978165169924\n"
     ]
    }
   ],
   "source": [
    "pct_spending=len(bc_dataframe[(bc_dataframe['gasto_familiar'] < 10000000) &\n",
    "             (bc_dataframe['gasto_familiar'] >= 0)]['gasto_familiar']) / len(bc_dataframe)\n",
    "print(f\"Porcentaje de personas con gastos familiares entre 0 y 10 millones: {pct_spending}\")"
   ]
  },
  {
   "cell_type": "code",
   "execution_count": 7,
   "id": "amended-reaction",
   "metadata": {},
   "outputs": [
    {
     "data": {
      "text/plain": [
       "<AxesSubplot:>"
      ]
     },
     "execution_count": 7,
     "metadata": {},
     "output_type": "execute_result"
    },
    {
     "data": {
      "image/png": "[encoded data removed]",
      "text/plain": [
       "<Figure size 1152x720 with 1 Axes>"
      ]
     },
     "metadata": {},
     "output_type": "display_data"
    }
   ],
   "source": [
    "bc_dataframe['edad'].hist()"
   ]
  },
  {
   "cell_type": "code",
   "execution_count": 8,
   "id": "vanilla-kennedy",
   "metadata": {},
   "outputs": [
    {
     "name": "stderr",
     "output_type": "stream",
     "text": [
      "g:\\mi unidad\\packen\\data analysis\\python\\p_projects\\bc-dataton\\venv\\lib\\site-packages\\seaborn\\_decorators.py:36: FutureWarning: Pass the following variables as keyword args: x, y. From version 0.12, the only valid positional argument will be `data`, and passing other arguments without an explicit keyword will result in an error or misinterpretation.\n",
      "  warnings.warn(\n"
     ]
    },
    {
     "data": {
      "text/plain": [
       "<AxesSubplot:xlabel='edad', ylabel='gasto_familiar'>"
      ]
     },
     "execution_count": 8,
     "metadata": {},
     "output_type": "execute_result"
    },
    {
     "data": {
      "image/png": "[encoded data removed]",
      "text/plain": [
       "<Figure size 1152x720 with 1 Axes>"
      ]
     },
     "metadata": {},
     "output_type": "display_data"
    }
   ],
   "source": [
    "sns.scatterplot(bc_dataframe['edad'], bc_dataframe['gasto_familiar'])"
   ]
  },
  {
   "cell_type": "code",
   "execution_count": 17,
   "id": "favorite-banking",
   "metadata": {},
   "outputs": [
    {
     "data": {
      "text/plain": [
       "<AxesSubplot:xlabel='genero'>"
      ]
     },
     "execution_count": 17,
     "metadata": {},
     "output_type": "execute_result"
    },
    {
     "data": {
      "image/png": "[encoded data removed]",
      "text/plain": [
       "<Figure size 1152x720 with 1 Axes>"
      ]
     },
     "metadata": {},
     "output_type": "display_data"
    }
   ],
   "source": [
    "bc_dataframe.groupby('genero')['gasto_familiar'].mean().plot(kind='bar')"
   ]
  },
  {
   "cell_type": "code",
   "execution_count": 22,
   "id": "breeding-conversation",
   "metadata": {},
   "outputs": [
    {
     "data": {
      "text/html": [
       "<div>\n",
       "<style scoped>\n",
       "    .dataframe tbody tr th:only-of-type {\n",
       "        vertical-align: middle;\n",
       "    }\n",
       "\n",
       "    .dataframe tbody tr th {\n",
       "        vertical-align: top;\n",
       "    }\n",
       "\n",
       "    .dataframe thead th {\n",
       "        text-align: right;\n",
       "    }\n",
       "</style>\n",
       "<table border=\"1\" class=\"dataframe\">\n",
       "  <thead>\n",
       "    <tr style=\"text-align: right;\">\n",
       "      <th></th>\n",
       "      <th>periodo</th>\n",
       "      <th>id_cli</th>\n",
       "      <th>edad</th>\n",
       "      <th>genero</th>\n",
       "      <th>estado_civil</th>\n",
       "      <th>ult_actual</th>\n",
       "      <th>ind_mora_vigente</th>\n",
       "      <th>departamento_residencia</th>\n",
       "      <th>mora_max</th>\n",
       "      <th>cupo_total_tc</th>\n",
       "      <th>...</th>\n",
       "      <th>cuota_tc_mdo</th>\n",
       "      <th>saldo_no_rot_mdo</th>\n",
       "      <th>cuota_libranza_sf</th>\n",
       "      <th>cant_oblig_tot_sf</th>\n",
       "      <th>ind</th>\n",
       "      <th>rep_calif_cred</th>\n",
       "      <th>convenio_lib</th>\n",
       "      <th>ingreso_nomina</th>\n",
       "      <th>ingreso_segurida_social</th>\n",
       "      <th>gasto_familiar</th>\n",
       "    </tr>\n",
       "  </thead>\n",
       "  <tbody>\n",
       "  </tbody>\n",
       "</table>\n",
       "<p>0 rows × 39 columns</p>\n",
       "</div>"
      ],
      "text/plain": [
       "Empty DataFrame\n",
       "Columns: [periodo, id_cli, edad, genero, estado_civil, ult_actual, ind_mora_vigente, departamento_residencia, mora_max, cupo_total_tc, cuota_tc_bancolombia, nro_tot_cuentas, ctas_activas, cuota_cred_hipot, mediana_nom3, mediana_pen3, ingreso_nompen, cat_ingreso, ingreso_final, cant_mora_30_tdc_ult_3m_sf, cant_mora_30_consum_ult_3m_sf, cuota_de_vivienda, cuota_de_consumo, cuota_rotativos, cuota_tarjeta_de_credito, cuota_de_sector_solidario, cuota_sector_real_comercio, cupo_tc_mdo, saldo_prom3_tdc_mdo, cuota_tc_mdo, saldo_no_rot_mdo, cuota_libranza_sf, cant_oblig_tot_sf, ind, rep_calif_cred, convenio_lib, ingreso_nomina, ingreso_segurida_social, gasto_familiar]\n",
       "Index: []\n",
       "\n",
       "[0 rows x 39 columns]"
      ]
     },
     "execution_count": 22,
     "metadata": {},
     "output_type": "execute_result"
    }
   ],
   "source": [
    "bc_dataframe[bc_dataframe['gasto_familiar'] < 0]"
   ]
  },
  {
   "cell_type": "code",
   "execution_count": 32,
   "id": "coordinated-developer",
   "metadata": {},
   "outputs": [
    {
     "data": {
      "text/plain": [
       "<AxesSubplot:>"
      ]
     },
     "execution_count": 32,
     "metadata": {},
     "output_type": "execute_result"
    },
    {
     "data": {
      "image/png": "[encoded data removed]",
      "text/plain": [
       "<Figure size 1152x720 with 1 Axes>"
      ]
     },
     "metadata": {},
     "output_type": "display_data"
    }
   ],
   "source": [
    "bc_dataframe['cant_oblig_tot_sf'].value_counts().plot(kind='bar')"
   ]
  },
  {
   "cell_type": "code",
   "execution_count": 53,
   "id": "forward-invitation",
   "metadata": {
    "scrolled": false
   },
   "outputs": [
    {
     "data": {
      "text/html": [
       "<div>\n",
       "<style scoped>\n",
       "    .dataframe tbody tr th:only-of-type {\n",
       "        vertical-align: middle;\n",
       "    }\n",
       "\n",
       "    .dataframe tbody tr th {\n",
       "        vertical-align: top;\n",
       "    }\n",
       "\n",
       "    .dataframe thead th {\n",
       "        text-align: right;\n",
       "    }\n",
       "</style>\n",
       "<table border=\"1\" class=\"dataframe\">\n",
       "  <thead>\n",
       "    <tr style=\"text-align: right;\">\n",
       "      <th></th>\n",
       "      <th>periodo</th>\n",
       "      <th>id_cli</th>\n",
       "      <th>edad</th>\n",
       "      <th>genero</th>\n",
       "      <th>estado_civil</th>\n",
       "      <th>ult_actual</th>\n",
       "      <th>ind_mora_vigente</th>\n",
       "      <th>departamento_residencia</th>\n",
       "      <th>mora_max</th>\n",
       "      <th>cupo_total_tc</th>\n",
       "      <th>...</th>\n",
       "      <th>cuota_tc_mdo</th>\n",
       "      <th>saldo_no_rot_mdo</th>\n",
       "      <th>cuota_libranza_sf</th>\n",
       "      <th>cant_oblig_tot_sf</th>\n",
       "      <th>ind</th>\n",
       "      <th>rep_calif_cred</th>\n",
       "      <th>convenio_lib</th>\n",
       "      <th>ingreso_nomina</th>\n",
       "      <th>ingreso_segurida_social</th>\n",
       "      <th>gasto_familiar</th>\n",
       "    </tr>\n",
       "  </thead>\n",
       "  <tbody>\n",
       "    <tr>\n",
       "      <th>3</th>\n",
       "      <td>201902</td>\n",
       "      <td>3905021</td>\n",
       "      <td>28</td>\n",
       "      <td>F</td>\n",
       "      <td>SOL</td>\n",
       "      <td>20180824</td>\n",
       "      <td>N</td>\n",
       "      <td>BOGOTA D.C.</td>\n",
       "      <td>Entre 0 y 30 dias</td>\n",
       "      <td>0.0</td>\n",
       "      <td>...</td>\n",
       "      <td>2333000.0</td>\n",
       "      <td>17821000.0</td>\n",
       "      <td>0.0</td>\n",
       "      <td>5</td>\n",
       "      <td>-2.011812e+05</td>\n",
       "      <td>D</td>\n",
       "      <td>N</td>\n",
       "      <td>1840000.0</td>\n",
       "      <td>0.0</td>\n",
       "      <td>0.0</td>\n",
       "    </tr>\n",
       "    <tr>\n",
       "      <th>22</th>\n",
       "      <td>201902</td>\n",
       "      <td>2114397</td>\n",
       "      <td>44</td>\n",
       "      <td>F</td>\n",
       "      <td>SOL</td>\n",
       "      <td>20180906</td>\n",
       "      <td>N</td>\n",
       "      <td>CUNDINAMARCA</td>\n",
       "      <td>NApl</td>\n",
       "      <td>0.0</td>\n",
       "      <td>...</td>\n",
       "      <td>0.0</td>\n",
       "      <td>64124000.0</td>\n",
       "      <td>0.0</td>\n",
       "      <td>1</td>\n",
       "      <td>5.457897e+05</td>\n",
       "      <td>B</td>\n",
       "      <td>N</td>\n",
       "      <td>0.0</td>\n",
       "      <td>0.0</td>\n",
       "      <td>0.0</td>\n",
       "    </tr>\n",
       "    <tr>\n",
       "      <th>31</th>\n",
       "      <td>201902</td>\n",
       "      <td>8132417</td>\n",
       "      <td>58</td>\n",
       "      <td>M</td>\n",
       "      <td>CAS</td>\n",
       "      <td>20180823</td>\n",
       "      <td>N</td>\n",
       "      <td>CORDOBA</td>\n",
       "      <td>Entre 0 y 30 dias</td>\n",
       "      <td>7300000.0</td>\n",
       "      <td>...</td>\n",
       "      <td>237000.0</td>\n",
       "      <td>1721000.0</td>\n",
       "      <td>0.0</td>\n",
       "      <td>6</td>\n",
       "      <td>1.435327e+04</td>\n",
       "      <td>C</td>\n",
       "      <td>N</td>\n",
       "      <td>0.0</td>\n",
       "      <td>0.0</td>\n",
       "      <td>0.0</td>\n",
       "    </tr>\n",
       "    <tr>\n",
       "      <th>45</th>\n",
       "      <td>201902</td>\n",
       "      <td>8167939</td>\n",
       "      <td>69</td>\n",
       "      <td>F</td>\n",
       "      <td>NI</td>\n",
       "      <td>20180817</td>\n",
       "      <td>N</td>\n",
       "      <td>BOGOTA D.C.</td>\n",
       "      <td>Entre 0 y 30 dias</td>\n",
       "      <td>0.0</td>\n",
       "      <td>...</td>\n",
       "      <td>0.0</td>\n",
       "      <td>131769000.0</td>\n",
       "      <td>0.0</td>\n",
       "      <td>1</td>\n",
       "      <td>-5.671765e+05</td>\n",
       "      <td>H</td>\n",
       "      <td>N</td>\n",
       "      <td>0.0</td>\n",
       "      <td>0.0</td>\n",
       "      <td>0.0</td>\n",
       "    </tr>\n",
       "    <tr>\n",
       "      <th>51</th>\n",
       "      <td>201902</td>\n",
       "      <td>966757</td>\n",
       "      <td>38</td>\n",
       "      <td>F</td>\n",
       "      <td>SOL</td>\n",
       "      <td>20181023</td>\n",
       "      <td>N</td>\n",
       "      <td>ESTADO EXTERIOR</td>\n",
       "      <td>NApl</td>\n",
       "      <td>0.0</td>\n",
       "      <td>...</td>\n",
       "      <td>0.0</td>\n",
       "      <td>0.0</td>\n",
       "      <td>0.0</td>\n",
       "      <td>0</td>\n",
       "      <td>1.147500e+05</td>\n",
       "      <td>NApl</td>\n",
       "      <td>N</td>\n",
       "      <td>0.0</td>\n",
       "      <td>0.0</td>\n",
       "      <td>0.0</td>\n",
       "    </tr>\n",
       "    <tr>\n",
       "      <th>...</th>\n",
       "      <td>...</td>\n",
       "      <td>...</td>\n",
       "      <td>...</td>\n",
       "      <td>...</td>\n",
       "      <td>...</td>\n",
       "      <td>...</td>\n",
       "      <td>...</td>\n",
       "      <td>...</td>\n",
       "      <td>...</td>\n",
       "      <td>...</td>\n",
       "      <td>...</td>\n",
       "      <td>...</td>\n",
       "      <td>...</td>\n",
       "      <td>...</td>\n",
       "      <td>...</td>\n",
       "      <td>...</td>\n",
       "      <td>...</td>\n",
       "      <td>...</td>\n",
       "      <td>...</td>\n",
       "      <td>...</td>\n",
       "      <td>...</td>\n",
       "    </tr>\n",
       "    <tr>\n",
       "      <th>10936</th>\n",
       "      <td>202011</td>\n",
       "      <td>1503360</td>\n",
       "      <td>38</td>\n",
       "      <td>F</td>\n",
       "      <td>SOL</td>\n",
       "      <td>20200803</td>\n",
       "      <td>S</td>\n",
       "      <td>VALLE</td>\n",
       "      <td>Entre 0 y 30 dias</td>\n",
       "      <td>0.0</td>\n",
       "      <td>...</td>\n",
       "      <td>0.0</td>\n",
       "      <td>46000.0</td>\n",
       "      <td>0.0</td>\n",
       "      <td>2</td>\n",
       "      <td>-6.752020e+05</td>\n",
       "      <td>G</td>\n",
       "      <td>N</td>\n",
       "      <td>1719000.0</td>\n",
       "      <td>1200000.0</td>\n",
       "      <td>0.0</td>\n",
       "    </tr>\n",
       "    <tr>\n",
       "      <th>10945</th>\n",
       "      <td>202011</td>\n",
       "      <td>164784</td>\n",
       "      <td>46</td>\n",
       "      <td>F</td>\n",
       "      <td>NI</td>\n",
       "      <td>20190117</td>\n",
       "      <td>N</td>\n",
       "      <td>BOGOTA D.C.</td>\n",
       "      <td>NApl</td>\n",
       "      <td>0.0</td>\n",
       "      <td>...</td>\n",
       "      <td>16000.0</td>\n",
       "      <td>3517000.0</td>\n",
       "      <td>0.0</td>\n",
       "      <td>2</td>\n",
       "      <td>3.998452e+05</td>\n",
       "      <td>H</td>\n",
       "      <td>S</td>\n",
       "      <td>1047036.0</td>\n",
       "      <td>1331000.0</td>\n",
       "      <td>0.0</td>\n",
       "    </tr>\n",
       "    <tr>\n",
       "      <th>10970</th>\n",
       "      <td>202011</td>\n",
       "      <td>2085434</td>\n",
       "      <td>39</td>\n",
       "      <td>F</td>\n",
       "      <td>UL</td>\n",
       "      <td>20190722</td>\n",
       "      <td>N</td>\n",
       "      <td>BOLIVAR</td>\n",
       "      <td>Entre 0 y 30 dias</td>\n",
       "      <td>0.0</td>\n",
       "      <td>...</td>\n",
       "      <td>470000.0</td>\n",
       "      <td>96120000.0</td>\n",
       "      <td>0.0</td>\n",
       "      <td>7</td>\n",
       "      <td>-4.103800e+05</td>\n",
       "      <td>D</td>\n",
       "      <td>N</td>\n",
       "      <td>0.0</td>\n",
       "      <td>828116.0</td>\n",
       "      <td>0.0</td>\n",
       "    </tr>\n",
       "    <tr>\n",
       "      <th>10985</th>\n",
       "      <td>202011</td>\n",
       "      <td>909574</td>\n",
       "      <td>40</td>\n",
       "      <td>M</td>\n",
       "      <td>CAS</td>\n",
       "      <td>20200617</td>\n",
       "      <td>N</td>\n",
       "      <td>ATLANTICO</td>\n",
       "      <td>NApl</td>\n",
       "      <td>0.0</td>\n",
       "      <td>...</td>\n",
       "      <td>0.0</td>\n",
       "      <td>0.0</td>\n",
       "      <td>0.0</td>\n",
       "      <td>0</td>\n",
       "      <td>2.439291e+06</td>\n",
       "      <td>C</td>\n",
       "      <td>N</td>\n",
       "      <td>0.0</td>\n",
       "      <td>4099648.0</td>\n",
       "      <td>0.0</td>\n",
       "    </tr>\n",
       "    <tr>\n",
       "      <th>10990</th>\n",
       "      <td>202011</td>\n",
       "      <td>2844891</td>\n",
       "      <td>31</td>\n",
       "      <td>F</td>\n",
       "      <td>NI</td>\n",
       "      <td>20200831</td>\n",
       "      <td>N</td>\n",
       "      <td>NORTE DE SANTANDER</td>\n",
       "      <td>Entre 31 y 60 dias</td>\n",
       "      <td>5400000.0</td>\n",
       "      <td>...</td>\n",
       "      <td>1299000.0</td>\n",
       "      <td>8341000.0</td>\n",
       "      <td>0.0</td>\n",
       "      <td>7</td>\n",
       "      <td>-1.416796e+06</td>\n",
       "      <td>G</td>\n",
       "      <td>N</td>\n",
       "      <td>0.0</td>\n",
       "      <td>980210.0</td>\n",
       "      <td>0.0</td>\n",
       "    </tr>\n",
       "  </tbody>\n",
       "</table>\n",
       "<p>13238 rows × 39 columns</p>\n",
       "</div>"
      ],
      "text/plain": [
       "       periodo   id_cli  edad genero estado_civil  ult_actual  \\\n",
       "3       201902  3905021    28      F          SOL    20180824   \n",
       "22      201902  2114397    44      F          SOL    20180906   \n",
       "31      201902  8132417    58      M          CAS    20180823   \n",
       "45      201902  8167939    69      F           NI    20180817   \n",
       "51      201902   966757    38      F          SOL    20181023   \n",
       "...        ...      ...   ...    ...          ...         ...   \n",
       "10936   202011  1503360    38      F          SOL    20200803   \n",
       "10945   202011   164784    46      F           NI    20190117   \n",
       "10970   202011  2085434    39      F           UL    20190722   \n",
       "10985   202011   909574    40      M          CAS    20200617   \n",
       "10990   202011  2844891    31      F           NI    20200831   \n",
       "\n",
       "      ind_mora_vigente departamento_residencia            mora_max  \\\n",
       "3                    N             BOGOTA D.C.   Entre 0 y 30 dias   \n",
       "22                   N            CUNDINAMARCA                NApl   \n",
       "31                   N                 CORDOBA   Entre 0 y 30 dias   \n",
       "45                   N             BOGOTA D.C.   Entre 0 y 30 dias   \n",
       "51                   N         ESTADO EXTERIOR                NApl   \n",
       "...                ...                     ...                 ...   \n",
       "10936                S                   VALLE   Entre 0 y 30 dias   \n",
       "10945                N             BOGOTA D.C.                NApl   \n",
       "10970                N                 BOLIVAR   Entre 0 y 30 dias   \n",
       "10985                N               ATLANTICO                NApl   \n",
       "10990                N      NORTE DE SANTANDER  Entre 31 y 60 dias   \n",
       "\n",
       "       cupo_total_tc  ...  cuota_tc_mdo  saldo_no_rot_mdo  cuota_libranza_sf  \\\n",
       "3                0.0  ...     2333000.0        17821000.0                0.0   \n",
       "22               0.0  ...           0.0        64124000.0                0.0   \n",
       "31         7300000.0  ...      237000.0         1721000.0                0.0   \n",
       "45               0.0  ...           0.0       131769000.0                0.0   \n",
       "51               0.0  ...           0.0               0.0                0.0   \n",
       "...              ...  ...           ...               ...                ...   \n",
       "10936            0.0  ...           0.0           46000.0                0.0   \n",
       "10945            0.0  ...       16000.0         3517000.0                0.0   \n",
       "10970            0.0  ...      470000.0        96120000.0                0.0   \n",
       "10985            0.0  ...           0.0               0.0                0.0   \n",
       "10990      5400000.0  ...     1299000.0         8341000.0                0.0   \n",
       "\n",
       "       cant_oblig_tot_sf           ind  rep_calif_cred  convenio_lib  \\\n",
       "3                      5 -2.011812e+05               D             N   \n",
       "22                     1  5.457897e+05               B             N   \n",
       "31                     6  1.435327e+04               C             N   \n",
       "45                     1 -5.671765e+05               H             N   \n",
       "51                     0  1.147500e+05            NApl             N   \n",
       "...                  ...           ...             ...           ...   \n",
       "10936                  2 -6.752020e+05               G             N   \n",
       "10945                  2  3.998452e+05               H             S   \n",
       "10970                  7 -4.103800e+05               D             N   \n",
       "10985                  0  2.439291e+06               C             N   \n",
       "10990                  7 -1.416796e+06               G             N   \n",
       "\n",
       "      ingreso_nomina  ingreso_segurida_social gasto_familiar  \n",
       "3          1840000.0                      0.0            0.0  \n",
       "22               0.0                      0.0            0.0  \n",
       "31               0.0                      0.0            0.0  \n",
       "45               0.0                      0.0            0.0  \n",
       "51               0.0                      0.0            0.0  \n",
       "...              ...                      ...            ...  \n",
       "10936      1719000.0                1200000.0            0.0  \n",
       "10945      1047036.0                1331000.0            0.0  \n",
       "10970            0.0                 828116.0            0.0  \n",
       "10985            0.0                4099648.0            0.0  \n",
       "10990            0.0                 980210.0            0.0  \n",
       "\n",
       "[13238 rows x 39 columns]"
      ]
     },
     "execution_count": 53,
     "metadata": {},
     "output_type": "execute_result"
    }
   ],
   "source": [
    "bc_dataframe[bc_dataframe['gasto_familiar'] == 0]"
   ]
  },
  {
   "cell_type": "code",
   "execution_count": 63,
   "id": "binary-thumbnail",
   "metadata": {},
   "outputs": [],
   "source": [
    "bc_dataframe['ingreso_calculado'] =  bc_dataframe['ingreso_segurida_social']  + bc_dataframe['ingreso_nompen'] "
   ]
  },
  {
   "cell_type": "code",
   "execution_count": 66,
   "id": "detected-identifier",
   "metadata": {},
   "outputs": [
    {
     "data": {
      "text/html": [
       "<div>\n",
       "<style scoped>\n",
       "    .dataframe tbody tr th:only-of-type {\n",
       "        vertical-align: middle;\n",
       "    }\n",
       "\n",
       "    .dataframe tbody tr th {\n",
       "        vertical-align: top;\n",
       "    }\n",
       "\n",
       "    .dataframe thead th {\n",
       "        text-align: right;\n",
       "    }\n",
       "</style>\n",
       "<table border=\"1\" class=\"dataframe\">\n",
       "  <thead>\n",
       "    <tr style=\"text-align: right;\">\n",
       "      <th></th>\n",
       "      <th>ingreso_calculado</th>\n",
       "      <th>ingreso_final</th>\n",
       "    </tr>\n",
       "  </thead>\n",
       "  <tbody>\n",
       "    <tr>\n",
       "      <th>0</th>\n",
       "      <td>2632226.0</td>\n",
       "      <td>2.827421e+06</td>\n",
       "    </tr>\n",
       "    <tr>\n",
       "      <th>1</th>\n",
       "      <td>0.0</td>\n",
       "      <td>1.701541e+06</td>\n",
       "    </tr>\n",
       "    <tr>\n",
       "      <th>2</th>\n",
       "      <td>0.0</td>\n",
       "      <td>1.052586e+07</td>\n",
       "    </tr>\n",
       "    <tr>\n",
       "      <th>3</th>\n",
       "      <td>1840000.0</td>\n",
       "      <td>2.745875e+06</td>\n",
       "    </tr>\n",
       "    <tr>\n",
       "      <th>4</th>\n",
       "      <td>0.0</td>\n",
       "      <td>4.865000e+06</td>\n",
       "    </tr>\n",
       "    <tr>\n",
       "      <th>...</th>\n",
       "      <td>...</td>\n",
       "      <td>...</td>\n",
       "    </tr>\n",
       "    <tr>\n",
       "      <th>11007</th>\n",
       "      <td>2462702.0</td>\n",
       "      <td>3.213373e+06</td>\n",
       "    </tr>\n",
       "    <tr>\n",
       "      <th>11008</th>\n",
       "      <td>1500000.0</td>\n",
       "      <td>5.353454e+06</td>\n",
       "    </tr>\n",
       "    <tr>\n",
       "      <th>11009</th>\n",
       "      <td>0.0</td>\n",
       "      <td>1.577280e+06</td>\n",
       "    </tr>\n",
       "    <tr>\n",
       "      <th>11010</th>\n",
       "      <td>1069390.0</td>\n",
       "      <td>1.069390e+06</td>\n",
       "    </tr>\n",
       "    <tr>\n",
       "      <th>11011</th>\n",
       "      <td>3840000.0</td>\n",
       "      <td>2.000000e+06</td>\n",
       "    </tr>\n",
       "  </tbody>\n",
       "</table>\n",
       "<p>210123 rows × 2 columns</p>\n",
       "</div>"
      ],
      "text/plain": [
       "       ingreso_calculado  ingreso_final\n",
       "0              2632226.0   2.827421e+06\n",
       "1                    0.0   1.701541e+06\n",
       "2                    0.0   1.052586e+07\n",
       "3              1840000.0   2.745875e+06\n",
       "4                    0.0   4.865000e+06\n",
       "...                  ...            ...\n",
       "11007          2462702.0   3.213373e+06\n",
       "11008          1500000.0   5.353454e+06\n",
       "11009                0.0   1.577280e+06\n",
       "11010          1069390.0   1.069390e+06\n",
       "11011          3840000.0   2.000000e+06\n",
       "\n",
       "[210123 rows x 2 columns]"
      ]
     },
     "execution_count": 66,
     "metadata": {},
     "output_type": "execute_result"
    }
   ],
   "source": [
    "bc_dataframe[['ingreso_calculado', 'ingreso_final']]"
   ]
  },
  {
   "cell_type": "code",
   "execution_count": 64,
   "id": "chicken-chapter",
   "metadata": {},
   "outputs": [
    {
     "name": "stderr",
     "output_type": "stream",
     "text": [
      "g:\\mi unidad\\packen\\data analysis\\python\\p_projects\\bc-dataton\\venv\\lib\\site-packages\\seaborn\\_decorators.py:36: FutureWarning: Pass the following variables as keyword args: x, y. From version 0.12, the only valid positional argument will be `data`, and passing other arguments without an explicit keyword will result in an error or misinterpretation.\n",
      "  warnings.warn(\n"
     ]
    },
    {
     "data": {
      "text/plain": [
       "<AxesSubplot:xlabel='ingreso_final', ylabel='ingreso_calculado'>"
      ]
     },
     "execution_count": 64,
     "metadata": {},
     "output_type": "execute_result"
    },
    {
     "data": {
      "image/png": "[encoded data removed]",
      "text/plain": [
       "<Figure size 1152x720 with 1 Axes>"
      ]
     },
     "metadata": {},
     "output_type": "display_data"
    }
   ],
   "source": [
    "bc_dataframe[['ingreso_nompen', 'ingreso_nomina']]\n",
    "sns.scatterplot(bc_dataframe['ingreso_final'], bc_dataframe['ingreso_calculado'])"
   ]
  },
  {
   "cell_type": "code",
   "execution_count": 69,
   "id": "quarterly-lotus",
   "metadata": {},
   "outputs": [
    {
     "name": "stderr",
     "output_type": "stream",
     "text": [
      "g:\\mi unidad\\packen\\data analysis\\python\\p_projects\\bc-dataton\\venv\\lib\\site-packages\\seaborn\\_decorators.py:36: FutureWarning: Pass the following variables as keyword args: x, y. From version 0.12, the only valid positional argument will be `data`, and passing other arguments without an explicit keyword will result in an error or misinterpretation.\n",
      "  warnings.warn(\n"
     ]
    },
    {
     "data": {
      "text/plain": [
       "<AxesSubplot:ylabel='gasto_familiar'>"
      ]
     },
     "execution_count": 69,
     "metadata": {},
     "output_type": "execute_result"
    },
    {
     "data": {
      "image/png": "[encoded data removed]",
      "text/plain": [
       "<Figure size 1152x720 with 1 Axes>"
      ]
     },
     "metadata": {},
     "output_type": "display_data"
    }
   ],
   "source": [
    "sns.scatterplot((bc_dataframe['ingreso_calculado'] + bc_dataframe['ingreso_final'])/2, bc_dataframe['gasto_familiar'])"
   ]
  },
  {
   "cell_type": "code",
   "execution_count": 62,
   "id": "familiar-needle",
   "metadata": {},
   "outputs": [
    {
     "data": {
      "text/html": [
       "<div>\n",
       "<style scoped>\n",
       "    .dataframe tbody tr th:only-of-type {\n",
       "        vertical-align: middle;\n",
       "    }\n",
       "\n",
       "    .dataframe tbody tr th {\n",
       "        vertical-align: top;\n",
       "    }\n",
       "\n",
       "    .dataframe thead th {\n",
       "        text-align: right;\n",
       "    }\n",
       "</style>\n",
       "<table border=\"1\" class=\"dataframe\">\n",
       "  <thead>\n",
       "    <tr style=\"text-align: right;\">\n",
       "      <th></th>\n",
       "      <th>cat_ingreso</th>\n",
       "      <th>ingreso_nompen</th>\n",
       "      <th>ingreso_nomina</th>\n",
       "    </tr>\n",
       "  </thead>\n",
       "  <tbody>\n",
       "    <tr>\n",
       "      <th>0</th>\n",
       "      <td>NOM</td>\n",
       "      <td>2632226.0</td>\n",
       "      <td>2009941.5</td>\n",
       "    </tr>\n",
       "    <tr>\n",
       "      <th>3</th>\n",
       "      <td>NOM</td>\n",
       "      <td>1840000.0</td>\n",
       "      <td>1840000.0</td>\n",
       "    </tr>\n",
       "    <tr>\n",
       "      <th>7</th>\n",
       "      <td>NOM</td>\n",
       "      <td>18057540.0</td>\n",
       "      <td>5547700.0</td>\n",
       "    </tr>\n",
       "    <tr>\n",
       "      <th>8</th>\n",
       "      <td>NOM</td>\n",
       "      <td>2826718.0</td>\n",
       "      <td>3113016.0</td>\n",
       "    </tr>\n",
       "    <tr>\n",
       "      <th>12</th>\n",
       "      <td>NOM</td>\n",
       "      <td>2744866.0</td>\n",
       "      <td>2746783.0</td>\n",
       "    </tr>\n",
       "    <tr>\n",
       "      <th>...</th>\n",
       "      <td>...</td>\n",
       "      <td>...</td>\n",
       "      <td>...</td>\n",
       "    </tr>\n",
       "    <tr>\n",
       "      <th>11000</th>\n",
       "      <td>NOM</td>\n",
       "      <td>3076221.0</td>\n",
       "      <td>3151361.0</td>\n",
       "    </tr>\n",
       "    <tr>\n",
       "      <th>11002</th>\n",
       "      <td>NOM</td>\n",
       "      <td>5921587.0</td>\n",
       "      <td>0.0</td>\n",
       "    </tr>\n",
       "    <tr>\n",
       "      <th>11005</th>\n",
       "      <td>NOM</td>\n",
       "      <td>1428000.0</td>\n",
       "      <td>0.0</td>\n",
       "    </tr>\n",
       "    <tr>\n",
       "      <th>11007</th>\n",
       "      <td>NOM</td>\n",
       "      <td>2462702.0</td>\n",
       "      <td>2227125.0</td>\n",
       "    </tr>\n",
       "    <tr>\n",
       "      <th>11011</th>\n",
       "      <td>NOM</td>\n",
       "      <td>1840000.0</td>\n",
       "      <td>1856250.0</td>\n",
       "    </tr>\n",
       "  </tbody>\n",
       "</table>\n",
       "<p>70901 rows × 3 columns</p>\n",
       "</div>"
      ],
      "text/plain": [
       "      cat_ingreso  ingreso_nompen  ingreso_nomina\n",
       "0             NOM       2632226.0       2009941.5\n",
       "3             NOM       1840000.0       1840000.0\n",
       "7             NOM      18057540.0       5547700.0\n",
       "8             NOM       2826718.0       3113016.0\n",
       "12            NOM       2744866.0       2746783.0\n",
       "...           ...             ...             ...\n",
       "11000         NOM       3076221.0       3151361.0\n",
       "11002         NOM       5921587.0             0.0\n",
       "11005         NOM       1428000.0             0.0\n",
       "11007         NOM       2462702.0       2227125.0\n",
       "11011         NOM       1840000.0       1856250.0\n",
       "\n",
       "[70901 rows x 3 columns]"
      ]
     },
     "execution_count": 62,
     "metadata": {},
     "output_type": "execute_result"
    }
   ],
   "source": [
    "bc_dataframe[bc_dataframe['cat_ingreso'] == \"NOM\"][['cat_ingreso','ingreso_nompen', 'ingreso_nomina']]"
   ]
  },
  {
   "cell_type": "code",
   "execution_count": 60,
   "id": "initial-curve",
   "metadata": {},
   "outputs": [
    {
     "data": {
      "text/plain": [
       "OTROS      126998\n",
       "NOM         70901\n",
       "PEN         11521\n",
       "NOM PEN       703\n",
       "Name: cat_ingreso, dtype: int64"
      ]
     },
     "execution_count": 60,
     "metadata": {},
     "output_type": "execute_result"
    }
   ],
   "source": [
    "bc_dataframe['cat_ingreso'].value_counts()"
   ]
  },
  {
   "cell_type": "code",
   "execution_count": null,
   "id": "hundred-puppy",
   "metadata": {},
   "outputs": [],
   "source": []
  },
  {
   "cell_type": "markdown",
   "id": "sunset-costa",
   "metadata": {},
   "source": [
    "# Preprocessing class"
   ]
  },
  {
   "cell_type": "code",
   "execution_count": 4,
   "id": "conservative-waste",
   "metadata": {},
   "outputs": [],
   "source": [
    "class DataFramePreProcessor:\n",
    "    \n",
    "    def __init__(self, dataframe, test=False):\n",
    "        self.test = test\n",
    "        self.original_dataframe = dataframe.copy()\n",
    "        self.modeling_dataframe = None\n",
    "    \n",
    "    \n",
    "    def handleMissingData(self, dataframe):\n",
    "        dataframe['ingreso_final'] = dataframe['ingreso_final'].fillna(0)\n",
    "        dataframe['ind'] = dataframe['ind'].fillna(0)\n",
    "        return dataframe\n",
    "    \n",
    "    # Borrar filas deacuerdo a cierta logica de negocio\n",
    "    def rowFilter(self, dataframe):\n",
    "        return dataframe[\n",
    "            (dataframe['edad'] < 80) & # Imputar a percentil 99\n",
    "            (dataframe['gasto_familiar'] >= 0) &\n",
    "            (dataframe['gasto_familiar'] < 10000000) &\n",
    "            (dataframe['cant_oblig_tot_sf'] < 13) &\n",
    "            (dataframe['cuota_de_consumo'] >= 0) & # Mas bien transformar a cero\n",
    "            (dataframe['ingreso_final'] < 50000000) &\n",
    "            (dataframe['cuota_cred_hipot'] > 0)\n",
    "        ] \n",
    "    \n",
    "    def oneEncodeVariables(self):\n",
    "        pass\n",
    "    \n",
    "    def newVars(self, dataframe):\n",
    "        pct_vars = [\n",
    "            'cuota_cred_hipot',\n",
    "            'cuota_tarjeta_de_credito',\n",
    "            'cuota_de_consumo',\n",
    "            'cuota_rotativos',\n",
    "            'cuota_sector_real_comercio',\n",
    "            'cuota_de_sector_solidario',\n",
    "            'cuota_tc_bancolombia',\n",
    "            'cuota_libranza_sf',\n",
    "            'cupo_total_tc',\n",
    "            'cupo_tc_mdo'\n",
    "        ]\n",
    "        \n",
    "        cat_vars = [\n",
    "            'mora_max', # Tal vez haya que encontrar el umbral correcto\n",
    "            'estado_civil',\n",
    "            'rep_calif_cred'\n",
    "        ]\n",
    "        \n",
    "\n",
    "        \n",
    "        dummified = []\n",
    "        for var in cat_vars:\n",
    "            dummified.append(\n",
    "                pd.get_dummies(dataframe[var], drop_first=True, prefix=var)\n",
    "            )\n",
    "        \n",
    "        dummified = pd.concat(dummified, axis=1)\n",
    "        dataframe = pd.concat([dataframe.drop(cat_vars, axis=1),dummified], axis=1)\n",
    "        for var in pct_vars:\n",
    "            dataframe[f\"{var}_pct\"] = dataframe[var] / dataframe['ingreso_final'] \n",
    "            dataframe[f\"{var}_pct\"] = dataframe[f\"{var}_pct\"].replace(dict.fromkeys([np.nan, np.inf], 0))\n",
    "            \n",
    "        for var in pct_vars:\n",
    "            dataframe[f\"{var}_log\"] = np.log(dataframe[var]+1)\n",
    "        \n",
    "        dataframe['genero'] = np.where(dataframe['genero'] == 'M', 0, 1)\n",
    "        dataframe['ind_mora_vigente'] = np.where(dataframe['ind_mora_vigente'] == \"S\", 1, 0)\n",
    "        dataframe['convenio_lib'] = np.where(dataframe['convenio_lib'] == 'S', 1, 0)\n",
    "        dataframe['ingreso_calculado'] =  dataframe['ingreso_segurida_social']  +  \\\n",
    "                                          dataframe[['ingreso_nompen', 'ingreso_nomina']].max(axis=1) \n",
    "        dataframe['ind_annio'] = dataframe['periodo'].apply(lambda x: 1 if str(x)[:4] == '2020' else 0)\n",
    "        dataframe['ind_covid'] = np.where(\n",
    "            dataframe['periodo'].isin([202004,202003,202005]), 1,0)\n",
    "        if not self.test:\n",
    "            dataframe['log_gasto_familiar'] = np.log(dataframe['gasto_familiar'] +1 ) \n",
    "            \n",
    "        dataframe['ingreso_final'] = np.log(dataframe['ingreso_final']+1)\n",
    "        dataframe['cupo_total_tc'] = np.log(dataframe['cupo_total_tc']+1)\n",
    "        dataframe['ingreso_nomina'] = np.log(dataframe['ingreso_nomina']+1)\n",
    "        dataframe['ingreso_segurida_social'] = np.log(dataframe['ingreso_segurida_social']+1)\n",
    "        dataframe['ingreso_nompen'] = np.log(dataframe['ingreso_nompen']+1)\n",
    "        dataframe['ingreso_calculado'] = np.log(dataframe['ingreso_calculado']+1)\n",
    "        \n",
    "         \n",
    "\n",
    "        dataframe['obl_total_pct'] = dataframe['cuota_cred_hipot_pct'] + \\\n",
    "                                     dataframe['cuota_tarjeta_de_credito_pct'] +\\\n",
    "                                     dataframe['cuota_de_consumo_pct'] + \\\n",
    "                                     dataframe['cuota_rotativos_pct'] + \\\n",
    "                                     dataframe['cuota_sector_real_comercio_pct'] + \\\n",
    "                                     dataframe['cuota_de_sector_solidario_pct'] + \\\n",
    "                                     dataframe['cuota_libranza_sf_pct']\n",
    "                                \n",
    "        dataframe['ingreso_corr'] = dataframe[['ingreso_final', 'ingreso_calculado']].max(axis=1)\n",
    "        dataframe['ingreso_corr_log'] = np.log(dataframe['ingreso_corr']+1)\n",
    "        \n",
    "        dataframe['interact_ing_gen']  = dataframe['genero'] * dataframe['ingreso_corr']\n",
    "        dataframe['interact_ing_ed']  = dataframe['edad'] * dataframe['ingreso_corr']\n",
    "        dataframe['interact_cup_gen']  = dataframe['genero'] * dataframe['cupo_total_tc']\n",
    "        dataframe['interact_cup_ed']  = dataframe['edad'] * dataframe['cupo_total_tc']\n",
    "        \n",
    "        dataframe['ingreso_cero'] = np.where(dataframe['ingreso_corr'] == 0, 1, 0)\n",
    "        dataframe['ingreso_geo_alto']  = np.where(dataframe['ingreso_corr'] < 14.90, 1, 0) # ALgo mas tecnico\n",
    "        dataframe['es_ciudad_principal'] = np.where(\n",
    "            dataframe['departamento_residencia'].isin(['BOGOTA D.C.', 'ANTIOQUIA', 'VALLE', 'CUNDINAMARCA']), 1,0)\n",
    "        \n",
    "        dataframe['pc10'] = np.where(dataframe['ingreso_corr'] <= np.quantile(dataframe['ingreso_corr'],0.1), 1, 0)\n",
    "        dataframe['pc90'] = np.where(dataframe['ingreso_corr'] >= np.quantile(dataframe['ingreso_corr'],0.9), 1, 0)\n",
    "\n",
    "        return dataframe\n",
    "    \n",
    "    def process(self):\n",
    "        \n",
    "        complete_df = self.handleMissingData(self.original_dataframe)\n",
    "        if not self.test:\n",
    "            filtered_df = self.rowFilter(complete_df)\n",
    "            grown_df    = self.newVars(filtered_df)\n",
    "        else:\n",
    "            grown_df    = self.newVars(complete_df)\n",
    "        self.modeling_dataframe = grown_df\n",
    "        \n",
    "        return self.modeling_dataframe\n",
    "        "
   ]
  },
  {
   "cell_type": "code",
   "execution_count": 206,
   "id": "second-award",
   "metadata": {},
   "outputs": [
    {
     "data": {
      "text/html": [
       "<div>\n",
       "<style scoped>\n",
       "    .dataframe tbody tr th:only-of-type {\n",
       "        vertical-align: middle;\n",
       "    }\n",
       "\n",
       "    .dataframe tbody tr th {\n",
       "        vertical-align: top;\n",
       "    }\n",
       "\n",
       "    .dataframe thead th {\n",
       "        text-align: right;\n",
       "    }\n",
       "</style>\n",
       "<table border=\"1\" class=\"dataframe\">\n",
       "  <thead>\n",
       "    <tr style=\"text-align: right;\">\n",
       "      <th></th>\n",
       "      <th>periodo</th>\n",
       "      <th>id_cli</th>\n",
       "      <th>edad</th>\n",
       "      <th>genero</th>\n",
       "      <th>ult_actual</th>\n",
       "      <th>ind_mora_vigente</th>\n",
       "      <th>departamento_residencia</th>\n",
       "      <th>cupo_total_tc</th>\n",
       "      <th>cuota_tc_bancolombia</th>\n",
       "      <th>nro_tot_cuentas</th>\n",
       "      <th>...</th>\n",
       "      <th>ingreso_corr</th>\n",
       "      <th>interact_ing_gen</th>\n",
       "      <th>interact_ing_ed</th>\n",
       "      <th>interact_cup_gen</th>\n",
       "      <th>interact_cup_ed</th>\n",
       "      <th>ingreso_cero</th>\n",
       "      <th>ingreso_geo_alto</th>\n",
       "      <th>es_ciudad_principal</th>\n",
       "      <th>pc10</th>\n",
       "      <th>pc90</th>\n",
       "    </tr>\n",
       "  </thead>\n",
       "  <tbody>\n",
       "  </tbody>\n",
       "</table>\n",
       "<p>0 rows × 83 columns</p>\n",
       "</div>"
      ],
      "text/plain": [
       "Empty DataFrame\n",
       "Columns: [periodo, id_cli, edad, genero, ult_actual, ind_mora_vigente, departamento_residencia, cupo_total_tc, cuota_tc_bancolombia, nro_tot_cuentas, ctas_activas, cuota_cred_hipot, mediana_nom3, mediana_pen3, ingreso_nompen, cat_ingreso, ingreso_final, cant_mora_30_tdc_ult_3m_sf, cant_mora_30_consum_ult_3m_sf, cuota_de_vivienda, cuota_de_consumo, cuota_rotativos, cuota_tarjeta_de_credito, cuota_de_sector_solidario, cuota_sector_real_comercio, cupo_tc_mdo, saldo_prom3_tdc_mdo, cuota_tc_mdo, saldo_no_rot_mdo, cuota_libranza_sf, cant_oblig_tot_sf, ind, convenio_lib, ingreso_nomina, ingreso_segurida_social, gasto_familiar, mora_max_Entre 31 y 60 dias, mora_max_Mas de 60, mora_max_NApl, estado_civil_DIV, estado_civil_NI, estado_civil_OTRO, estado_civil_SOL, estado_civil_UL, estado_civil_VIU, rep_calif_cred_B, rep_calif_cred_C, rep_calif_cred_D, rep_calif_cred_E, rep_calif_cred_F, rep_calif_cred_G, rep_calif_cred_H, rep_calif_cred_NApl, cuota_cred_hipot_pct, cuota_tarjeta_de_credito_pct, cuota_de_consumo_pct, cuota_rotativos_pct, cuota_sector_real_comercio_pct, cuota_de_sector_solidario_pct, cuota_tc_bancolombia_pct, cuota_libranza_sf_pct, cuota_cred_hipot_log, cuota_tarjeta_de_credito_log, cuota_de_consumo_log, cuota_rotativos_log, cuota_sector_real_comercio_log, cuota_de_sector_solidario_log, cuota_tc_bancolombia_log, cuota_libranza_sf_log, ingreso_calculado, ind_annio, log_gasto_familiar, obl_total_pct, ingreso_corr, interact_ing_gen, interact_ing_ed, interact_cup_gen, interact_cup_ed, ingreso_cero, ingreso_geo_alto, es_ciudad_principal, pc10, pc90]\n",
       "Index: []\n",
       "\n",
       "[0 rows x 83 columns]"
      ]
     },
     "execution_count": 206,
     "metadata": {},
     "output_type": "execute_result"
    }
   ],
   "source": [
    "fe_dataframe.modeling_dataframe[fe_dataframe.modeling_dataframe['cuota_libranza_sf'] < 0 ]"
   ]
  },
  {
   "cell_type": "code",
   "execution_count": 207,
   "id": "banner-founder",
   "metadata": {},
   "outputs": [
    {
     "data": {
      "text/plain": [
       "count     122491.00000\n",
       "mean      807668.67164\n",
       "std       749693.33845\n",
       "min          651.37500\n",
       "25%       342860.82000\n",
       "50%       595544.59000\n",
       "75%      1021982.54500\n",
       "max     17369144.46000\n",
       "Name: cuota_cred_hipot, dtype: float64"
      ]
     },
     "execution_count": 207,
     "metadata": {},
     "output_type": "execute_result"
    }
   ],
   "source": [
    "fe_dataframe.modeling_dataframe['cuota_cred_hipot'].describe()"
   ]
  },
  {
   "cell_type": "code",
   "execution_count": 305,
   "id": "curious-march",
   "metadata": {},
   "outputs": [
    {
     "data": {
      "text/plain": [
       "es_ciudad_principal\n",
       "0   1211598.09147\n",
       "1   1289140.64473\n",
       "Name: gasto_familiar, dtype: float64"
      ]
     },
     "execution_count": 305,
     "metadata": {},
     "output_type": "execute_result"
    }
   ],
   "source": [
    "fe_dataframe.modeling_dataframe.groupby('es_ciudad_principal')['gasto_familiar'].mean()"
   ]
  },
  {
   "cell_type": "code",
   "execution_count": 5,
   "id": "owned-french",
   "metadata": {},
   "outputs": [],
   "source": [
    "fe_dataframe = DataFramePreProcessor(bc_dataframe)"
   ]
  },
  {
   "cell_type": "code",
   "execution_count": 6,
   "id": "annual-greensboro",
   "metadata": {
    "scrolled": false
   },
   "outputs": [
    {
     "data": {
      "text/html": [
       "<div>\n",
       "<style scoped>\n",
       "    .dataframe tbody tr th:only-of-type {\n",
       "        vertical-align: middle;\n",
       "    }\n",
       "\n",
       "    .dataframe tbody tr th {\n",
       "        vertical-align: top;\n",
       "    }\n",
       "\n",
       "    .dataframe thead th {\n",
       "        text-align: right;\n",
       "    }\n",
       "</style>\n",
       "<table border=\"1\" class=\"dataframe\">\n",
       "  <thead>\n",
       "    <tr style=\"text-align: right;\">\n",
       "      <th></th>\n",
       "      <th>periodo</th>\n",
       "      <th>id_cli</th>\n",
       "      <th>edad</th>\n",
       "      <th>genero</th>\n",
       "      <th>ult_actual</th>\n",
       "      <th>ind_mora_vigente</th>\n",
       "      <th>departamento_residencia</th>\n",
       "      <th>cupo_total_tc</th>\n",
       "      <th>cuota_tc_bancolombia</th>\n",
       "      <th>nro_tot_cuentas</th>\n",
       "      <th>...</th>\n",
       "      <th>ingreso_corr_log</th>\n",
       "      <th>interact_ing_gen</th>\n",
       "      <th>interact_ing_ed</th>\n",
       "      <th>interact_cup_gen</th>\n",
       "      <th>interact_cup_ed</th>\n",
       "      <th>ingreso_cero</th>\n",
       "      <th>ingreso_geo_alto</th>\n",
       "      <th>es_ciudad_principal</th>\n",
       "      <th>pc10</th>\n",
       "      <th>pc90</th>\n",
       "    </tr>\n",
       "  </thead>\n",
       "  <tbody>\n",
       "    <tr>\n",
       "      <th>13</th>\n",
       "      <td>201902</td>\n",
       "      <td>3529380</td>\n",
       "      <td>35</td>\n",
       "      <td>1</td>\n",
       "      <td>20181227</td>\n",
       "      <td>0</td>\n",
       "      <td>ANTIOQUIA</td>\n",
       "      <td>0.00000</td>\n",
       "      <td>0.00000</td>\n",
       "      <td>1</td>\n",
       "      <td>...</td>\n",
       "      <td>2.79958</td>\n",
       "      <td>15.43782</td>\n",
       "      <td>540.32370</td>\n",
       "      <td>0.00000</td>\n",
       "      <td>0.00000</td>\n",
       "      <td>0</td>\n",
       "      <td>0</td>\n",
       "      <td>1</td>\n",
       "      <td>0</td>\n",
       "      <td>0</td>\n",
       "    </tr>\n",
       "    <tr>\n",
       "      <th>17</th>\n",
       "      <td>201902</td>\n",
       "      <td>1588624</td>\n",
       "      <td>38</td>\n",
       "      <td>0</td>\n",
       "      <td>20170814</td>\n",
       "      <td>0</td>\n",
       "      <td>BOGOTA D.C.</td>\n",
       "      <td>0.00000</td>\n",
       "      <td>0.00000</td>\n",
       "      <td>0</td>\n",
       "      <td>...</td>\n",
       "      <td>2.75315</td>\n",
       "      <td>0.00000</td>\n",
       "      <td>558.29470</td>\n",
       "      <td>0.00000</td>\n",
       "      <td>0.00000</td>\n",
       "      <td>0</td>\n",
       "      <td>1</td>\n",
       "      <td>1</td>\n",
       "      <td>0</td>\n",
       "      <td>0</td>\n",
       "    </tr>\n",
       "    <tr>\n",
       "      <th>97</th>\n",
       "      <td>201902</td>\n",
       "      <td>2131147</td>\n",
       "      <td>29</td>\n",
       "      <td>1</td>\n",
       "      <td>20181001</td>\n",
       "      <td>1</td>\n",
       "      <td>VALLE</td>\n",
       "      <td>0.00000</td>\n",
       "      <td>0.00000</td>\n",
       "      <td>1</td>\n",
       "      <td>...</td>\n",
       "      <td>2.80502</td>\n",
       "      <td>15.52736</td>\n",
       "      <td>450.29331</td>\n",
       "      <td>0.00000</td>\n",
       "      <td>0.00000</td>\n",
       "      <td>0</td>\n",
       "      <td>0</td>\n",
       "      <td>1</td>\n",
       "      <td>0</td>\n",
       "      <td>0</td>\n",
       "    </tr>\n",
       "    <tr>\n",
       "      <th>102</th>\n",
       "      <td>201902</td>\n",
       "      <td>2264031</td>\n",
       "      <td>33</td>\n",
       "      <td>1</td>\n",
       "      <td>20171117</td>\n",
       "      <td>0</td>\n",
       "      <td>BOGOTA D.C.</td>\n",
       "      <td>16.03471</td>\n",
       "      <td>450800.00000</td>\n",
       "      <td>2</td>\n",
       "      <td>...</td>\n",
       "      <td>2.85028</td>\n",
       "      <td>16.29259</td>\n",
       "      <td>537.65538</td>\n",
       "      <td>16.03471</td>\n",
       "      <td>529.14557</td>\n",
       "      <td>0</td>\n",
       "      <td>0</td>\n",
       "      <td>1</td>\n",
       "      <td>0</td>\n",
       "      <td>0</td>\n",
       "    </tr>\n",
       "    <tr>\n",
       "      <th>118</th>\n",
       "      <td>201902</td>\n",
       "      <td>1274806</td>\n",
       "      <td>50</td>\n",
       "      <td>1</td>\n",
       "      <td>20180525</td>\n",
       "      <td>0</td>\n",
       "      <td>BOGOTA D.C.</td>\n",
       "      <td>0.00000</td>\n",
       "      <td>0.00000</td>\n",
       "      <td>1</td>\n",
       "      <td>...</td>\n",
       "      <td>2.72683</td>\n",
       "      <td>14.28443</td>\n",
       "      <td>714.22149</td>\n",
       "      <td>0.00000</td>\n",
       "      <td>0.00000</td>\n",
       "      <td>0</td>\n",
       "      <td>1</td>\n",
       "      <td>1</td>\n",
       "      <td>0</td>\n",
       "      <td>0</td>\n",
       "    </tr>\n",
       "    <tr>\n",
       "      <th>...</th>\n",
       "      <td>...</td>\n",
       "      <td>...</td>\n",
       "      <td>...</td>\n",
       "      <td>...</td>\n",
       "      <td>...</td>\n",
       "      <td>...</td>\n",
       "      <td>...</td>\n",
       "      <td>...</td>\n",
       "      <td>...</td>\n",
       "      <td>...</td>\n",
       "      <td>...</td>\n",
       "      <td>...</td>\n",
       "      <td>...</td>\n",
       "      <td>...</td>\n",
       "      <td>...</td>\n",
       "      <td>...</td>\n",
       "      <td>...</td>\n",
       "      <td>...</td>\n",
       "      <td>...</td>\n",
       "      <td>...</td>\n",
       "      <td>...</td>\n",
       "    </tr>\n",
       "    <tr>\n",
       "      <th>110133</th>\n",
       "      <td>202011</td>\n",
       "      <td>3413099</td>\n",
       "      <td>48</td>\n",
       "      <td>0</td>\n",
       "      <td>20180528</td>\n",
       "      <td>0</td>\n",
       "      <td>ANTIOQUIA</td>\n",
       "      <td>0.00000</td>\n",
       "      <td>0.00000</td>\n",
       "      <td>1</td>\n",
       "      <td>...</td>\n",
       "      <td>2.71349</td>\n",
       "      <td>0.00000</td>\n",
       "      <td>675.92770</td>\n",
       "      <td>0.00000</td>\n",
       "      <td>0.00000</td>\n",
       "      <td>0</td>\n",
       "      <td>1</td>\n",
       "      <td>1</td>\n",
       "      <td>0</td>\n",
       "      <td>0</td>\n",
       "    </tr>\n",
       "    <tr>\n",
       "      <th>110179</th>\n",
       "      <td>202011</td>\n",
       "      <td>4962097</td>\n",
       "      <td>54</td>\n",
       "      <td>0</td>\n",
       "      <td>20200825</td>\n",
       "      <td>0</td>\n",
       "      <td>ANTIOQUIA</td>\n",
       "      <td>0.00000</td>\n",
       "      <td>0.00000</td>\n",
       "      <td>1</td>\n",
       "      <td>...</td>\n",
       "      <td>2.74989</td>\n",
       "      <td>0.00000</td>\n",
       "      <td>790.61157</td>\n",
       "      <td>0.00000</td>\n",
       "      <td>0.00000</td>\n",
       "      <td>0</td>\n",
       "      <td>1</td>\n",
       "      <td>1</td>\n",
       "      <td>0</td>\n",
       "      <td>0</td>\n",
       "    </tr>\n",
       "    <tr>\n",
       "      <th>110187</th>\n",
       "      <td>202011</td>\n",
       "      <td>190045</td>\n",
       "      <td>47</td>\n",
       "      <td>1</td>\n",
       "      <td>20180807</td>\n",
       "      <td>1</td>\n",
       "      <td>RISARALDA</td>\n",
       "      <td>13.99783</td>\n",
       "      <td>39495.07350</td>\n",
       "      <td>0</td>\n",
       "      <td>...</td>\n",
       "      <td>2.74241</td>\n",
       "      <td>14.52440</td>\n",
       "      <td>682.64702</td>\n",
       "      <td>13.99783</td>\n",
       "      <td>657.89815</td>\n",
       "      <td>0</td>\n",
       "      <td>1</td>\n",
       "      <td>0</td>\n",
       "      <td>0</td>\n",
       "      <td>0</td>\n",
       "    </tr>\n",
       "    <tr>\n",
       "      <th>110193</th>\n",
       "      <td>202011</td>\n",
       "      <td>2045927</td>\n",
       "      <td>48</td>\n",
       "      <td>0</td>\n",
       "      <td>20200909</td>\n",
       "      <td>0</td>\n",
       "      <td>CAUCA</td>\n",
       "      <td>0.00000</td>\n",
       "      <td>0.00000</td>\n",
       "      <td>1</td>\n",
       "      <td>...</td>\n",
       "      <td>2.78030</td>\n",
       "      <td>0.00000</td>\n",
       "      <td>725.94450</td>\n",
       "      <td>0.00000</td>\n",
       "      <td>0.00000</td>\n",
       "      <td>0</td>\n",
       "      <td>0</td>\n",
       "      <td>0</td>\n",
       "      <td>0</td>\n",
       "      <td>0</td>\n",
       "    </tr>\n",
       "    <tr>\n",
       "      <th>110219</th>\n",
       "      <td>202011</td>\n",
       "      <td>2883293</td>\n",
       "      <td>58</td>\n",
       "      <td>1</td>\n",
       "      <td>20190926</td>\n",
       "      <td>0</td>\n",
       "      <td>ANTIOQUIA</td>\n",
       "      <td>0.00000</td>\n",
       "      <td>0.00000</td>\n",
       "      <td>1</td>\n",
       "      <td>...</td>\n",
       "      <td>2.74264</td>\n",
       "      <td>14.52797</td>\n",
       "      <td>842.62229</td>\n",
       "      <td>0.00000</td>\n",
       "      <td>0.00000</td>\n",
       "      <td>0</td>\n",
       "      <td>1</td>\n",
       "      <td>1</td>\n",
       "      <td>0</td>\n",
       "      <td>0</td>\n",
       "    </tr>\n",
       "  </tbody>\n",
       "</table>\n",
       "<p>152495 rows × 89 columns</p>\n",
       "</div>"
      ],
      "text/plain": [
       "        periodo   id_cli  edad  genero  ult_actual  ind_mora_vigente  \\\n",
       "13       201902  3529380    35       1    20181227                 0   \n",
       "17       201902  1588624    38       0    20170814                 0   \n",
       "97       201902  2131147    29       1    20181001                 1   \n",
       "102      201902  2264031    33       1    20171117                 0   \n",
       "118      201902  1274806    50       1    20180525                 0   \n",
       "...         ...      ...   ...     ...         ...               ...   \n",
       "110133   202011  3413099    48       0    20180528                 0   \n",
       "110179   202011  4962097    54       0    20200825                 0   \n",
       "110187   202011   190045    47       1    20180807                 1   \n",
       "110193   202011  2045927    48       0    20200909                 0   \n",
       "110219   202011  2883293    58       1    20190926                 0   \n",
       "\n",
       "       departamento_residencia  cupo_total_tc  cuota_tc_bancolombia  \\\n",
       "13                   ANTIOQUIA        0.00000               0.00000   \n",
       "17                 BOGOTA D.C.        0.00000               0.00000   \n",
       "97                       VALLE        0.00000               0.00000   \n",
       "102                BOGOTA D.C.       16.03471          450800.00000   \n",
       "118                BOGOTA D.C.        0.00000               0.00000   \n",
       "...                        ...            ...                   ...   \n",
       "110133               ANTIOQUIA        0.00000               0.00000   \n",
       "110179               ANTIOQUIA        0.00000               0.00000   \n",
       "110187               RISARALDA       13.99783           39495.07350   \n",
       "110193                   CAUCA        0.00000               0.00000   \n",
       "110219               ANTIOQUIA        0.00000               0.00000   \n",
       "\n",
       "        nro_tot_cuentas  ...  ingreso_corr_log  interact_ing_gen  \\\n",
       "13                    1  ...           2.79958          15.43782   \n",
       "17                    0  ...           2.75315           0.00000   \n",
       "97                    1  ...           2.80502          15.52736   \n",
       "102                   2  ...           2.85028          16.29259   \n",
       "118                   1  ...           2.72683          14.28443   \n",
       "...                 ...  ...               ...               ...   \n",
       "110133                1  ...           2.71349           0.00000   \n",
       "110179                1  ...           2.74989           0.00000   \n",
       "110187                0  ...           2.74241          14.52440   \n",
       "110193                1  ...           2.78030           0.00000   \n",
       "110219                1  ...           2.74264          14.52797   \n",
       "\n",
       "        interact_ing_ed  interact_cup_gen  interact_cup_ed ingreso_cero  \\\n",
       "13            540.32370           0.00000          0.00000            0   \n",
       "17            558.29470           0.00000          0.00000            0   \n",
       "97            450.29331           0.00000          0.00000            0   \n",
       "102           537.65538          16.03471        529.14557            0   \n",
       "118           714.22149           0.00000          0.00000            0   \n",
       "...                 ...               ...              ...          ...   \n",
       "110133        675.92770           0.00000          0.00000            0   \n",
       "110179        790.61157           0.00000          0.00000            0   \n",
       "110187        682.64702          13.99783        657.89815            0   \n",
       "110193        725.94450           0.00000          0.00000            0   \n",
       "110219        842.62229           0.00000          0.00000            0   \n",
       "\n",
       "        ingreso_geo_alto es_ciudad_principal pc10  pc90  \n",
       "13                     0                   1    0     0  \n",
       "17                     1                   1    0     0  \n",
       "97                     0                   1    0     0  \n",
       "102                    0                   1    0     0  \n",
       "118                    1                   1    0     0  \n",
       "...                  ...                 ...  ...   ...  \n",
       "110133                 1                   1    0     0  \n",
       "110179                 1                   1    0     0  \n",
       "110187                 1                   0    0     0  \n",
       "110193                 0                   0    0     0  \n",
       "110219                 1                   1    0     0  \n",
       "\n",
       "[152495 rows x 89 columns]"
      ]
     },
     "execution_count": 6,
     "metadata": {},
     "output_type": "execute_result"
    }
   ],
   "source": [
    "fe_dataframe.process()"
   ]
  },
  {
   "cell_type": "code",
   "execution_count": 52,
   "id": "infinite-baptist",
   "metadata": {},
   "outputs": [
    {
     "data": {
      "text/plain": [
       "9311748.6"
      ]
     },
     "execution_count": 52,
     "metadata": {},
     "output_type": "execute_result"
    }
   ],
   "source": [
    "np.quantile(bc_dataframe.dropna()['ingreso_final'], 0.9)"
   ]
  },
  {
   "cell_type": "code",
   "execution_count": 395,
   "id": "anonymous-cheese",
   "metadata": {},
   "outputs": [
    {
     "data": {
      "text/html": [
       "<div>\n",
       "<style scoped>\n",
       "    .dataframe tbody tr th:only-of-type {\n",
       "        vertical-align: middle;\n",
       "    }\n",
       "\n",
       "    .dataframe tbody tr th {\n",
       "        vertical-align: top;\n",
       "    }\n",
       "\n",
       "    .dataframe thead th {\n",
       "        text-align: right;\n",
       "    }\n",
       "</style>\n",
       "<table border=\"1\" class=\"dataframe\">\n",
       "  <thead>\n",
       "    <tr style=\"text-align: right;\">\n",
       "      <th></th>\n",
       "      <th>ingreso_final</th>\n",
       "      <th>ingreso_calculado</th>\n",
       "      <th>ingreso_corr</th>\n",
       "    </tr>\n",
       "  </thead>\n",
       "  <tbody>\n",
       "    <tr>\n",
       "      <th>ingreso_final</th>\n",
       "      <td>1.00000</td>\n",
       "      <td>0.01813</td>\n",
       "      <td>0.87505</td>\n",
       "    </tr>\n",
       "    <tr>\n",
       "      <th>ingreso_calculado</th>\n",
       "      <td>0.01813</td>\n",
       "      <td>1.00000</td>\n",
       "      <td>0.14357</td>\n",
       "    </tr>\n",
       "    <tr>\n",
       "      <th>ingreso_corr</th>\n",
       "      <td>0.87505</td>\n",
       "      <td>0.14357</td>\n",
       "      <td>1.00000</td>\n",
       "    </tr>\n",
       "  </tbody>\n",
       "</table>\n",
       "</div>"
      ],
      "text/plain": [
       "                   ingreso_final  ingreso_calculado  ingreso_corr\n",
       "ingreso_final            1.00000            0.01813       0.87505\n",
       "ingreso_calculado        0.01813            1.00000       0.14357\n",
       "ingreso_corr             0.87505            0.14357       1.00000"
      ]
     },
     "execution_count": 395,
     "metadata": {},
     "output_type": "execute_result"
    }
   ],
   "source": [
    "fe_dataframe.modeling_dataframe[['ingreso_final', 'ingreso_calculado', 'ingreso_corr']].corr()"
   ]
  },
  {
   "cell_type": "markdown",
   "id": "southern-thesis",
   "metadata": {},
   "source": [
    "# Modeling"
   ]
  },
  {
   "cell_type": "code",
   "execution_count": 76,
   "id": "interpreted-cooperation",
   "metadata": {},
   "outputs": [
    {
     "name": "stdout",
     "output_type": "stream",
     "text": [
      "<class 'pandas.core.frame.DataFrame'>\n",
      "Int64Index: 1617483 entries, 0 to 88159\n",
      "Data columns (total 83 columns):\n",
      " #   Column                          Non-Null Count    Dtype  \n",
      "---  ------                          --------------    -----  \n",
      " 0   periodo                         1617483 non-null  int64  \n",
      " 1   id_cli                          1617483 non-null  int64  \n",
      " 2   edad                            1617483 non-null  int64  \n",
      " 3   genero                          1617483 non-null  int32  \n",
      " 4   ult_actual                      1617483 non-null  int64  \n",
      " 5   ind_mora_vigente                1617483 non-null  int32  \n",
      " 6   departamento_residencia         1617483 non-null  object \n",
      " 7   cupo_total_tc                   1617483 non-null  float64\n",
      " 8   cuota_tc_bancolombia            1617483 non-null  float64\n",
      " 9   nro_tot_cuentas                 1617483 non-null  int64  \n",
      " 10  ctas_activas                    1617483 non-null  int64  \n",
      " 11  cuota_cred_hipot                1617483 non-null  float64\n",
      " 12  mediana_nom3                    1617483 non-null  float64\n",
      " 13  mediana_pen3                    1617483 non-null  float64\n",
      " 14  ingreso_nompen                  1617483 non-null  float64\n",
      " 15  cat_ingreso                     1617483 non-null  object \n",
      " 16  ingreso_final                   1617483 non-null  float64\n",
      " 17  cant_mora_30_tdc_ult_3m_sf      1617483 non-null  object \n",
      " 18  cant_mora_30_consum_ult_3m_sf   1617483 non-null  object \n",
      " 19  cuota_de_vivienda               1617483 non-null  float64\n",
      " 20  cuota_de_consumo                1617483 non-null  float64\n",
      " 21  cuota_rotativos                 1617483 non-null  float64\n",
      " 22  cuota_tarjeta_de_credito        1617483 non-null  float64\n",
      " 23  cuota_de_sector_solidario       1617483 non-null  float64\n",
      " 24  cuota_sector_real_comercio      1617483 non-null  float64\n",
      " 25  cupo_tc_mdo                     1617483 non-null  float64\n",
      " 26  saldo_prom3_tdc_mdo             1617483 non-null  float64\n",
      " 27  cuota_tc_mdo                    1617483 non-null  float64\n",
      " 28  saldo_no_rot_mdo                1617483 non-null  float64\n",
      " 29  cuota_libranza_sf               1617483 non-null  float64\n",
      " 30  cant_oblig_tot_sf               1617483 non-null  int64  \n",
      " 31  ind                             1617483 non-null  float64\n",
      " 32  convenio_lib                    1617483 non-null  int32  \n",
      " 33  ingreso_nomina                  1617483 non-null  float64\n",
      " 34  ingreso_segurida_social         1617483 non-null  float64\n",
      " 35  gasto_familiar                  1617483 non-null  float64\n",
      " 36  mora_max_Entre 31 y 60 dias     1617483 non-null  uint8  \n",
      " 37  mora_max_Mas de 60              1617483 non-null  uint8  \n",
      " 38  mora_max_NApl                   1617483 non-null  uint8  \n",
      " 39  estado_civil_DIV                1617483 non-null  uint8  \n",
      " 40  estado_civil_NI                 1617483 non-null  uint8  \n",
      " 41  estado_civil_OTRO               1617483 non-null  uint8  \n",
      " 42  estado_civil_SOL                1617483 non-null  uint8  \n",
      " 43  estado_civil_UL                 1617483 non-null  uint8  \n",
      " 44  estado_civil_VIU                1617483 non-null  uint8  \n",
      " 45  rep_calif_cred_B                1617483 non-null  uint8  \n",
      " 46  rep_calif_cred_C                1617483 non-null  uint8  \n",
      " 47  rep_calif_cred_D                1617483 non-null  uint8  \n",
      " 48  rep_calif_cred_E                1617483 non-null  uint8  \n",
      " 49  rep_calif_cred_F                1617483 non-null  uint8  \n",
      " 50  rep_calif_cred_G                1617483 non-null  uint8  \n",
      " 51  rep_calif_cred_H                1617483 non-null  uint8  \n",
      " 52  rep_calif_cred_NApl             1617483 non-null  uint8  \n",
      " 53  cuota_cred_hipot_pct            1617483 non-null  float64\n",
      " 54  cuota_tarjeta_de_credito_pct    1617483 non-null  float64\n",
      " 55  cuota_de_consumo_pct            1617483 non-null  float64\n",
      " 56  cuota_rotativos_pct             1617483 non-null  float64\n",
      " 57  cuota_sector_real_comercio_pct  1617483 non-null  float64\n",
      " 58  cuota_de_sector_solidario_pct   1617483 non-null  float64\n",
      " 59  cuota_tc_bancolombia_pct        1617483 non-null  float64\n",
      " 60  cuota_libranza_sf_pct           1617483 non-null  float64\n",
      " 61  cuota_cred_hipot_log            1617481 non-null  float64\n",
      " 62  cuota_tarjeta_de_credito_log    1617483 non-null  float64\n",
      " 63  cuota_de_consumo_log            1617483 non-null  float64\n",
      " 64  cuota_rotativos_log             1617483 non-null  float64\n",
      " 65  cuota_sector_real_comercio_log  1617483 non-null  float64\n",
      " 66  cuota_de_sector_solidario_log   1617483 non-null  float64\n",
      " 67  cuota_tc_bancolombia_log        1617483 non-null  float64\n",
      " 68  cuota_libranza_sf_log           1617483 non-null  float64\n",
      " 69  ingreso_calculado               1617483 non-null  float64\n",
      " 70  ind_annio                       1617483 non-null  int64  \n",
      " 71  log_gasto_familiar              1617483 non-null  float64\n",
      " 72  obl_total_pct                   1617483 non-null  float64\n",
      " 73  ingreso_corr                    1617483 non-null  float64\n",
      " 74  interact_ing_gen                1617483 non-null  float64\n",
      " 75  interact_ing_ed                 1617483 non-null  float64\n",
      " 76  interact_cup_gen                1617483 non-null  float64\n",
      " 77  interact_cup_ed                 1617483 non-null  float64\n",
      " 78  ingreso_cero                    1617483 non-null  int32  \n",
      " 79  ingreso_geo_alto                1617483 non-null  int32  \n",
      " 80  es_ciudad_principal             1617483 non-null  int32  \n",
      " 81  pc10                            1617483 non-null  int32  \n",
      " 82  pc90                            1617483 non-null  int32  \n",
      "dtypes: float64(46), int32(8), int64(8), object(4), uint8(17)\n",
      "memory usage: 803.7+ MB\n"
     ]
    }
   ],
   "source": [
    "fe_dataframe.modeling_dataframe.info()"
   ]
  },
  {
   "cell_type": "code",
   "execution_count": 33,
   "id": "center-reporter",
   "metadata": {},
   "outputs": [],
   "source": [
    "feature_cols = [\n",
    "     'ingreso_corr_log',\n",
    "  #  'ingreso_final',\n",
    "  #  'ingreso_calculado',\n",
    "    'cuota_cred_hipot_log',\n",
    "    'cuota_tarjeta_de_credito_log',\n",
    "    'cuota_de_consumo_log',\n",
    "    'cuota_rotativos_log',\n",
    "    'cuota_libranza_sf_log',\n",
    "   # 'genero',\n",
    "    'cuota_de_sector_solidario',\n",
    "    'cuota_sector_real_comercio',\n",
    "    'ind_mora_vigente',\n",
    "    'ind_annio',\n",
    "    'cuota_tc_bancolombia_log',\n",
    "    'cupo_tc_mdo_log',\n",
    "    'convenio_lib',\n",
    "    'cant_oblig_tot_sf',\n",
    "    'edad',\n",
    "    #'estado_civil_DIV',\n",
    "    #'estado_civil_NI',\n",
    "    #'estado_civil_OTRO',\n",
    "    'estado_civil_SOL',\n",
    "    #'estado_civil_UL',\n",
    "    #'estado_civil_VIU',\n",
    "    'nro_tot_cuentas',\n",
    "    'ctas_activas',\n",
    "    'interact_ing_gen',\n",
    "    'interact_ing_ed',\n",
    "    'interact_cup_gen',\n",
    "    'interact_cup_ed',\n",
    "    'obl_total_pct',\n",
    "    'ingreso_cero',\n",
    "    'ingreso_geo_alto',\n",
    "    'es_ciudad_principal',\n",
    "    'cupo_total_tc_log',\n",
    "    'ind_covid'\n",
    "]\n",
    "X = fe_dataframe.modeling_dataframe[fe_dataframe.modeling_dataframe['periodo'] == 202007][feature_cols]\n",
    "y = fe_dataframe.modeling_dataframe[fe_dataframe.modeling_dataframe['periodo'] == 202007]['gasto_familiar']\n",
    "\n",
    "X_train, X_test, y_train, y_test = train_test_split(X, y, test_size=0.3, random_state=101)"
   ]
  },
  {
   "cell_type": "code",
   "execution_count": 34,
   "id": "civic-religious",
   "metadata": {},
   "outputs": [
    {
     "data": {
      "text/plain": [
       "XGBRegressor(base_score=0.5, booster='gbtree', colsample_bylevel=1,\n",
       "             colsample_bynode=1, colsample_bytree=1, gamma=0, gpu_id=-1,\n",
       "             importance_type='gain', interaction_constraints='',\n",
       "             learning_rate=0.300000012, max_delta_step=0, max_depth=6,\n",
       "             min_child_weight=1, missing=nan, monotone_constraints='()',\n",
       "             n_estimators=50, n_jobs=8, num_parallel_tree=1, random_state=101,\n",
       "             reg_alpha=0, reg_lambda=1, scale_pos_weight=1, subsample=1,\n",
       "             tree_method='exact', validate_parameters=1, verbosity=None)"
      ]
     },
     "execution_count": 34,
     "metadata": {},
     "output_type": "execute_result"
    }
   ],
   "source": [
    "xgb_reg = xgb.XGBRegressor(objective='reg:squarederror', n_estimators=50, random_state=101)\n",
    "xgb_reg.fit(X_train, y_train)"
   ]
  },
  {
   "cell_type": "code",
   "execution_count": 35,
   "id": "allied-lodging",
   "metadata": {},
   "outputs": [
    {
     "data": {
      "text/plain": [
       "<AxesSubplot:title={'center':'Feature importance'}, xlabel='F score', ylabel='Features'>"
      ]
     },
     "execution_count": 35,
     "metadata": {},
     "output_type": "execute_result"
    },
    {
     "data": {
      "image/png": "[encoded data removed]",
      "text/plain": [
       "<Figure size 1152x720 with 1 Axes>"
      ]
     },
     "metadata": {},
     "output_type": "display_data"
    }
   ],
   "source": [
    "xgb.plot_importance(xgb_reg)"
   ]
  },
  {
   "cell_type": "code",
   "execution_count": 36,
   "id": "exclusive-tsunami",
   "metadata": {},
   "outputs": [
    {
     "data": {
      "text/plain": [
       "0.8680735360341739"
      ]
     },
     "execution_count": 36,
     "metadata": {},
     "output_type": "execute_result"
    }
   ],
   "source": [
    "y_pred = xgb_reg.predict(X_test)\n",
    "mean_absolute_percentage_error(y_pred, y_test)"
   ]
  },
  {
   "cell_type": "code",
   "execution_count": 37,
   "id": "conventional-archives",
   "metadata": {},
   "outputs": [
    {
     "data": {
      "text/plain": [
       "0.4436128557160939"
      ]
     },
     "execution_count": 37,
     "metadata": {},
     "output_type": "execute_result"
    }
   ],
   "source": [
    "y_pred_train = xgb_reg.predict(X_train)\n",
    "mean_absolute_percentage_error(y_pred_train, y_train)"
   ]
  },
  {
   "cell_type": "code",
   "execution_count": 430,
   "id": "processed-durham",
   "metadata": {},
   "outputs": [
    {
     "data": {
      "text/plain": [
       "<catboost.core.CatBoostRegressor at 0x27161498ee0>"
      ]
     },
     "execution_count": 430,
     "metadata": {},
     "output_type": "execute_result"
    }
   ],
   "source": [
    "cat_reg = CatBoostRegressor()\n",
    "cat_reg.fit(X_train, y_train, verbose=False)"
   ]
  },
  {
   "cell_type": "code",
   "execution_count": 431,
   "id": "strategic-extent",
   "metadata": {},
   "outputs": [
    {
     "data": {
      "text/plain": [
       "0.7697726248607693"
      ]
     },
     "execution_count": 431,
     "metadata": {},
     "output_type": "execute_result"
    }
   ],
   "source": [
    "catboost_predictions = cat_reg.predict(X_test)\n",
    "mean_absolute_percentage_error(catboost_predictions, y_test)"
   ]
  },
  {
   "cell_type": "code",
   "execution_count": 239,
   "id": "cosmetic-purchase",
   "metadata": {},
   "outputs": [],
   "source": [
    "import optuna \n",
    "import joblib\n",
    "from optuna import Trial, visualization\n",
    "from optuna.samplers import TPESampler"
   ]
  },
  {
   "cell_type": "code",
   "execution_count": 253,
   "id": "incident-alarm",
   "metadata": {},
   "outputs": [],
   "source": [
    "def objective(trial: Trial,X,y) -> float:\n",
    "    \n",
    "    joblib.dump(study, 'study.pkl')\n",
    "    \n",
    "    train_X,test_X,train_y,test_y = train_test_split(X, y, test_size = 0.30,random_state = 101)\n",
    "\n",
    "    param = {\n",
    "                \"n_estimators\" : trial.suggest_int('n_estimators', 0, 100),\n",
    "                'max_depth':trial.suggest_int('max_depth', 2, 10),\n",
    "                'reg_alpha':trial.suggest_int('reg_alpha', 0, 5),\n",
    "                'reg_lambda':trial.suggest_int('reg_lambda', 0, 5),\n",
    "                'min_child_weight':trial.suggest_int('min_child_weight', 0, 5),\n",
    "                'gamma':trial.suggest_int('gamma', 0, 5),\n",
    "                'learning_rate':trial.suggest_loguniform('learning_rate',0.01,0.5),\n",
    "                'colsample_bytree':trial.suggest_discrete_uniform('colsample_bytree',0.1,1,0.01),\n",
    "                'nthread' : -1\n",
    "            }\n",
    "    model = xgb.XGBRegressor(**param)\n",
    "\n",
    "    model.fit(train_X,train_y)\n",
    "    \n",
    "    kfold = KFold(n_splits=5, random_state=101)\n",
    "    results = cross_val_score(model, X, Y, cv=kfold, scoring=percentage_)\n",
    "    predictions = model.predict(test_X)\n",
    "\n",
    "    return mean_absolute_percentage_error(predictions,test_y)    "
   ]
  },
  {
   "cell_type": "code",
   "execution_count": 254,
   "id": "looking-dutch",
   "metadata": {
    "scrolled": true
   },
   "outputs": [
    {
     "name": "stderr",
     "output_type": "stream",
     "text": [
      "\u001b[32m[I 2021-01-19 19:16:23,393]\u001b[0m A new study created in memory with name: no-name-b5c9bfc0-0312-43f6-a144-02247f475ce5\u001b[0m\n",
      "\u001b[32m[I 2021-01-19 19:16:29,016]\u001b[0m Trial 0 finished with value: 0.6416670454419807 and parameters: {'n_estimators': 57, 'max_depth': 7, 'reg_alpha': 0, 'reg_lambda': 2, 'min_child_weight': 1, 'gamma': 0, 'learning_rate': 0.1877371892229076, 'colsample_bytree': 0.47}. Best is trial 0 with value: 0.6416670454419807.\u001b[0m\n",
      "\u001b[32m[I 2021-01-19 19:16:35,739]\u001b[0m Trial 1 finished with value: 0.8654754205686288 and parameters: {'n_estimators': 82, 'max_depth': 7, 'reg_alpha': 1, 'reg_lambda': 0, 'min_child_weight': 4, 'gamma': 3, 'learning_rate': 0.014973192018657272, 'colsample_bytree': 0.22}. Best is trial 0 with value: 0.6416670454419807.\u001b[0m\n",
      "\u001b[32m[I 2021-01-19 19:16:42,825]\u001b[0m Trial 2 finished with value: 0.6835234600383058 and parameters: {'n_estimators': 69, 'max_depth': 8, 'reg_alpha': 2, 'reg_lambda': 0, 'min_child_weight': 0, 'gamma': 0, 'learning_rate': 0.03369000836421449, 'colsample_bytree': 0.29000000000000004}. Best is trial 0 with value: 0.6416670454419807.\u001b[0m\n",
      "\u001b[32m[I 2021-01-19 19:16:44,774]\u001b[0m Trial 3 finished with value: 0.6375657364018221 and parameters: {'n_estimators': 35, 'max_depth': 2, 'reg_alpha': 2, 'reg_lambda': 0, 'min_child_weight': 1, 'gamma': 3, 'learning_rate': 0.2516184911829332, 'colsample_bytree': 0.79}. Best is trial 3 with value: 0.6375657364018221.\u001b[0m\n",
      "\u001b[32m[I 2021-01-19 19:16:47,385]\u001b[0m Trial 4 finished with value: 0.6487246701209134 and parameters: {'n_estimators': 91, 'max_depth': 3, 'reg_alpha': 2, 'reg_lambda': 1, 'min_child_weight': 1, 'gamma': 4, 'learning_rate': 0.054039810927352924, 'colsample_bytree': 0.15000000000000002}. Best is trial 3 with value: 0.6375657364018221.\u001b[0m\n",
      "\u001b[32m[I 2021-01-19 19:16:49,528]\u001b[0m Trial 5 finished with value: 0.8097802647561059 and parameters: {'n_estimators': 35, 'max_depth': 6, 'reg_alpha': 1, 'reg_lambda': 5, 'min_child_weight': 5, 'gamma': 0, 'learning_rate': 0.043606245631114884, 'colsample_bytree': 0.11}. Best is trial 3 with value: 0.6375657364018221.\u001b[0m\n",
      "\u001b[32m[I 2021-01-19 19:16:56,892]\u001b[0m Trial 6 finished with value: 0.6435620728370162 and parameters: {'n_estimators': 61, 'max_depth': 9, 'reg_alpha': 4, 'reg_lambda': 3, 'min_child_weight': 0, 'gamma': 2, 'learning_rate': 0.153799459387783, 'colsample_bytree': 0.33}. Best is trial 3 with value: 0.6375657364018221.\u001b[0m\n",
      "\u001b[32m[I 2021-01-19 19:16:59,513]\u001b[0m Trial 7 finished with value: 0.6336354557790639 and parameters: {'n_estimators': 36, 'max_depth': 4, 'reg_alpha': 3, 'reg_lambda': 5, 'min_child_weight': 4, 'gamma': 2, 'learning_rate': 0.18316149356103006, 'colsample_bytree': 0.6}. Best is trial 7 with value: 0.6336354557790639.\u001b[0m\n",
      "\u001b[32m[I 2021-01-19 19:17:02,261]\u001b[0m Trial 8 finished with value: 1.1507640545171334 and parameters: {'n_estimators': 21, 'max_depth': 9, 'reg_alpha': 4, 'reg_lambda': 4, 'min_child_weight': 0, 'gamma': 5, 'learning_rate': 0.038552502487077873, 'colsample_bytree': 0.30000000000000004}. Best is trial 7 with value: 0.6336354557790639.\u001b[0m\n",
      "\u001b[32m[I 2021-01-19 19:17:10,001]\u001b[0m Trial 9 finished with value: 0.6367008799737267 and parameters: {'n_estimators': 70, 'max_depth': 5, 'reg_alpha': 2, 'reg_lambda': 2, 'min_child_weight': 1, 'gamma': 3, 'learning_rate': 0.20874822504741028, 'colsample_bytree': 0.99}. Best is trial 7 with value: 0.6336354557790639.\u001b[0m\n",
      "\u001b[32m[I 2021-01-19 19:17:10,908]\u001b[0m Trial 10 finished with value: 0.8803816939561249 and parameters: {'n_estimators': 2, 'max_depth': 4, 'reg_alpha': 5, 'reg_lambda': 5, 'min_child_weight': 3, 'gamma': 1, 'learning_rate': 0.4618640395822721, 'colsample_bytree': 0.7}. Best is trial 7 with value: 0.6336354557790639.\u001b[0m\n",
      "\u001b[32m[I 2021-01-19 19:17:14,592]\u001b[0m Trial 11 finished with value: 0.6362995439728706 and parameters: {'n_estimators': 41, 'max_depth': 4, 'reg_alpha': 3, 'reg_lambda': 2, 'min_child_weight': 3, 'gamma': 2, 'learning_rate': 0.11753690874565947, 'colsample_bytree': 1.0}. Best is trial 7 with value: 0.6336354557790639.\u001b[0m\n",
      "\u001b[32m[I 2021-01-19 19:17:16,670]\u001b[0m Trial 12 finished with value: 0.6465117823627533 and parameters: {'n_estimators': 37, 'max_depth': 2, 'reg_alpha': 4, 'reg_lambda': 3, 'min_child_weight': 3, 'gamma': 2, 'learning_rate': 0.09960998185617735, 'colsample_bytree': 0.98}. Best is trial 7 with value: 0.6336354557790639.\u001b[0m\n",
      "\u001b[32m[I 2021-01-19 19:17:18,488]\u001b[0m Trial 13 finished with value: 0.6391547850618176 and parameters: {'n_estimators': 12, 'max_depth': 4, 'reg_alpha': 3, 'reg_lambda': 4, 'min_child_weight': 5, 'gamma': 1, 'learning_rate': 0.49447704103742035, 'colsample_bytree': 0.78}. Best is trial 7 with value: 0.6336354557790639.\u001b[0m\n",
      "\u001b[32m[I 2021-01-19 19:17:21,429]\u001b[0m Trial 14 finished with value: 0.6482845973666 and parameters: {'n_estimators': 43, 'max_depth': 4, 'reg_alpha': 3, 'reg_lambda': 1, 'min_child_weight': 4, 'gamma': 1, 'learning_rate': 0.072412602509704, 'colsample_bytree': 0.56}. Best is trial 7 with value: 0.6336354557790639.\u001b[0m\n",
      "\u001b[32m[I 2021-01-19 19:17:23,735]\u001b[0m Trial 15 finished with value: 0.6860186311032633 and parameters: {'n_estimators': 20, 'max_depth': 5, 'reg_alpha': 5, 'reg_lambda': 4, 'min_child_weight': 4, 'gamma': 2, 'learning_rate': 0.10647958637641795, 'colsample_bytree': 0.91}. Best is trial 7 with value: 0.6336354557790639.\u001b[0m\n",
      "\u001b[32m[I 2021-01-19 19:17:26,631]\u001b[0m Trial 16 finished with value: 0.6379486176113104 and parameters: {'n_estimators': 46, 'max_depth': 3, 'reg_alpha': 3, 'reg_lambda': 1, 'min_child_weight': 2, 'gamma': 4, 'learning_rate': 0.3186303632366027, 'colsample_bytree': 0.5700000000000001}. Best is trial 7 with value: 0.6336354557790639.\u001b[0m\n",
      "\u001b[32m[I 2021-01-19 19:17:28,699]\u001b[0m Trial 17 finished with value: 0.6537379044727009 and parameters: {'n_estimators': 26, 'max_depth': 5, 'reg_alpha': 4, 'reg_lambda': 2, 'min_child_weight': 3, 'gamma': 1, 'learning_rate': 0.11239547698241648, 'colsample_bytree': 0.45000000000000007}. Best is trial 7 with value: 0.6336354557790639.\u001b[0m\n",
      "\u001b[32m[I 2021-01-19 19:17:29,495]\u001b[0m Trial 18 finished with value: 6.219891762129465 and parameters: {'n_estimators': 7, 'max_depth': 3, 'reg_alpha': 3, 'reg_lambda': 3, 'min_child_weight': 2, 'gamma': 2, 'learning_rate': 0.02066742212459036, 'colsample_bytree': 0.66}. Best is trial 7 with value: 0.6336354557790639.\u001b[0m\n",
      "\u001b[32m[I 2021-01-19 19:17:36,718]\u001b[0m Trial 19 finished with value: 0.6456190827458947 and parameters: {'n_estimators': 54, 'max_depth': 6, 'reg_alpha': 1, 'reg_lambda': 5, 'min_child_weight': 4, 'gamma': 4, 'learning_rate': 0.33475587677542307, 'colsample_bytree': 0.89}. Best is trial 7 with value: 0.6336354557790639.\u001b[0m\n",
      "\u001b[32m[I 2021-01-19 19:17:38,624]\u001b[0m Trial 20 finished with value: 0.6460110622424071 and parameters: {'n_estimators': 28, 'max_depth': 2, 'reg_alpha': 5, 'reg_lambda': 2, 'min_child_weight': 5, 'gamma': 3, 'learning_rate': 0.1409641736514257, 'colsample_bytree': 0.41000000000000003}. Best is trial 7 with value: 0.6336354557790639.\u001b[0m\n",
      "\u001b[32m[I 2021-01-19 19:17:45,676]\u001b[0m Trial 21 finished with value: 0.6370481639348401 and parameters: {'n_estimators': 72, 'max_depth': 5, 'reg_alpha': 2, 'reg_lambda': 2, 'min_child_weight': 2, 'gamma': 3, 'learning_rate': 0.22375715387544015, 'colsample_bytree': 0.94}. Best is trial 7 with value: 0.6336354557790639.\u001b[0m\n",
      "\u001b[32m[I 2021-01-19 19:17:50,702]\u001b[0m Trial 22 finished with value: 0.6341987602047289 and parameters: {'n_estimators': 68, 'max_depth': 4, 'reg_alpha': 3, 'reg_lambda': 1, 'min_child_weight': 3, 'gamma': 2, 'learning_rate': 0.07472648141158379, 'colsample_bytree': 0.84}. Best is trial 7 with value: 0.6336354557790639.\u001b[0m\n",
      "\u001b[32m[I 2021-01-19 19:17:55,627]\u001b[0m Trial 23 finished with value: 0.6428672874599145 and parameters: {'n_estimators': 49, 'max_depth': 4, 'reg_alpha': 3, 'reg_lambda': 1, 'min_child_weight': 3, 'gamma': 2, 'learning_rate': 0.07401016914281365, 'colsample_bytree': 0.85}. Best is trial 7 with value: 0.6336354557790639.\u001b[0m\n",
      "\u001b[32m[I 2021-01-19 19:18:00,158]\u001b[0m Trial 24 finished with value: 0.6333934836092139 and parameters: {'n_estimators': 82, 'max_depth': 3, 'reg_alpha': 4, 'reg_lambda': 1, 'min_child_weight': 4, 'gamma': 1, 'learning_rate': 0.08467566532680947, 'colsample_bytree': 0.64}. Best is trial 24 with value: 0.6333934836092139.\u001b[0m\n"
     ]
    },
    {
     "name": "stderr",
     "output_type": "stream",
     "text": [
      "\u001b[32m[I 2021-01-19 19:18:04,796]\u001b[0m Trial 25 finished with value: 0.6347102395977456 and parameters: {'n_estimators': 94, 'max_depth': 3, 'reg_alpha': 4, 'reg_lambda': 1, 'min_child_weight': 4, 'gamma': 1, 'learning_rate': 0.05828899046817628, 'colsample_bytree': 0.65}. Best is trial 24 with value: 0.6333934836092139.\u001b[0m\n",
      "\u001b[32m[I 2021-01-19 19:18:09,148]\u001b[0m Trial 26 finished with value: 0.6868446952262435 and parameters: {'n_estimators': 78, 'max_depth': 3, 'reg_alpha': 4, 'reg_lambda': 0, 'min_child_weight': 4, 'gamma': 1, 'learning_rate': 0.028418676066706998, 'colsample_bytree': 0.72}. Best is trial 24 with value: 0.6333934836092139.\u001b[0m\n",
      "\u001b[32m[I 2021-01-19 19:18:12,174]\u001b[0m Trial 27 finished with value: 0.6349545631477521 and parameters: {'n_estimators': 86, 'max_depth': 2, 'reg_alpha': 5, 'reg_lambda': 1, 'min_child_weight': 5, 'gamma': 0, 'learning_rate': 0.08352897592966982, 'colsample_bytree': 0.61}. Best is trial 24 with value: 0.6333934836092139.\u001b[0m\n",
      "\u001b[32m[I 2021-01-19 19:18:21,377]\u001b[0m Trial 28 finished with value: 0.6323693933330499 and parameters: {'n_estimators': 100, 'max_depth': 5, 'reg_alpha': 4, 'reg_lambda': 0, 'min_child_weight': 4, 'gamma': 1, 'learning_rate': 0.05994992970620956, 'colsample_bytree': 0.8}. Best is trial 28 with value: 0.6323693933330499.\u001b[0m\n",
      "\u001b[32m[I 2021-01-19 19:18:26,957]\u001b[0m Trial 29 finished with value: 0.6343132323077112 and parameters: {'n_estimators': 59, 'max_depth': 6, 'reg_alpha': 4, 'reg_lambda': 0, 'min_child_weight': 5, 'gamma': 0, 'learning_rate': 0.14692471424920933, 'colsample_bytree': 0.51}. Best is trial 28 with value: 0.6323693933330499.\u001b[0m\n",
      "\u001b[32m[I 2021-01-19 19:18:39,579]\u001b[0m Trial 30 finished with value: 0.9942732819942829 and parameters: {'n_estimators': 96, 'max_depth': 7, 'reg_alpha': 5, 'reg_lambda': 0, 'min_child_weight': 4, 'gamma': 1, 'learning_rate': 0.010098393517080818, 'colsample_bytree': 0.75}. Best is trial 28 with value: 0.6323693933330499.\u001b[0m\n",
      "\u001b[32m[I 2021-01-19 19:18:48,527]\u001b[0m Trial 31 finished with value: 0.6332390245821959 and parameters: {'n_estimators': 99, 'max_depth': 5, 'reg_alpha': 3, 'reg_lambda': 1, 'min_child_weight': 3, 'gamma': 2, 'learning_rate': 0.0536964922272141, 'colsample_bytree': 0.85}. Best is trial 28 with value: 0.6323693933330499.\u001b[0m\n",
      "\u001b[32m[I 2021-01-19 19:18:57,371]\u001b[0m Trial 32 finished with value: 0.6339893384661889 and parameters: {'n_estimators': 98, 'max_depth': 5, 'reg_alpha': 4, 'reg_lambda': 0, 'min_child_weight': 4, 'gamma': 1, 'learning_rate': 0.05161252563774758, 'colsample_bytree': 0.83}. Best is trial 28 with value: 0.6323693933330499.\u001b[0m\n",
      "\u001b[32m[I 2021-01-19 19:19:07,427]\u001b[0m Trial 33 finished with value: 0.6822361080040744 and parameters: {'n_estimators': 88, 'max_depth': 7, 'reg_alpha': 3, 'reg_lambda': 0, 'min_child_weight': 4, 'gamma': 2, 'learning_rate': 0.024822574227734075, 'colsample_bytree': 0.67}. Best is trial 28 with value: 0.6323693933330499.\u001b[0m\n",
      "\u001b[32m[I 2021-01-19 19:19:15,336]\u001b[0m Trial 34 finished with value: 0.6327420607357874 and parameters: {'n_estimators': 100, 'max_depth': 5, 'reg_alpha': 4, 'reg_lambda': 1, 'min_child_weight': 3, 'gamma': 0, 'learning_rate': 0.06042005545726782, 'colsample_bytree': 0.61}. Best is trial 28 with value: 0.6323693933330499.\u001b[0m\n",
      "\u001b[32m[I 2021-01-19 19:19:25,819]\u001b[0m Trial 35 finished with value: 0.6394621431709353 and parameters: {'n_estimators': 81, 'max_depth': 7, 'reg_alpha': 4, 'reg_lambda': 1, 'min_child_weight': 2, 'gamma': 0, 'learning_rate': 0.04562759103836637, 'colsample_bytree': 0.77}. Best is trial 28 with value: 0.6323693933330499.\u001b[0m\n",
      "\u001b[32m[I 2021-01-19 19:19:34,550]\u001b[0m Trial 36 finished with value: 0.6422584969385782 and parameters: {'n_estimators': 97, 'max_depth': 6, 'reg_alpha': 0, 'reg_lambda': 0, 'min_child_weight': 3, 'gamma': 0, 'learning_rate': 0.0349561314537947, 'colsample_bytree': 0.51}. Best is trial 28 with value: 0.6323693933330499.\u001b[0m\n",
      "\u001b[32m[I 2021-01-19 19:19:48,294]\u001b[0m Trial 37 finished with value: 0.6316013457499098 and parameters: {'n_estimators': 99, 'max_depth': 8, 'reg_alpha': 4, 'reg_lambda': 1, 'min_child_weight': 3, 'gamma': 0, 'learning_rate': 0.0601525142343335, 'colsample_bytree': 0.71}. Best is trial 37 with value: 0.6316013457499098.\u001b[0m\n",
      "\u001b[32m[I 2021-01-19 19:20:06,251]\u001b[0m Trial 38 finished with value: 0.633251477010009 and parameters: {'n_estimators': 100, 'max_depth': 10, 'reg_alpha': 5, 'reg_lambda': 0, 'min_child_weight': 2, 'gamma': 0, 'learning_rate': 0.05814983040229576, 'colsample_bytree': 0.72}. Best is trial 37 with value: 0.6316013457499098.\u001b[0m\n",
      "\u001b[32m[I 2021-01-19 19:20:19,924]\u001b[0m Trial 39 finished with value: 0.6576350827686999 and parameters: {'n_estimators': 91, 'max_depth': 8, 'reg_alpha': 4, 'reg_lambda': 2, 'min_child_weight': 3, 'gamma': 0, 'learning_rate': 0.030197480289764853, 'colsample_bytree': 0.8}. Best is trial 37 with value: 0.6316013457499098.\u001b[0m\n",
      "\u001b[32m[I 2021-01-19 19:20:35,715]\u001b[0m Trial 40 finished with value: 0.6359129186578291 and parameters: {'n_estimators': 100, 'max_depth': 8, 'reg_alpha': 4, 'reg_lambda': 1, 'min_child_weight': 3, 'gamma': 0, 'learning_rate': 0.04206394742425596, 'colsample_bytree': 0.89}. Best is trial 37 with value: 0.6316013457499098.\u001b[0m\n",
      "\u001b[32m[I 2021-01-19 19:20:53,947]\u001b[0m Trial 41 finished with value: 0.632647215292755 and parameters: {'n_estimators': 99, 'max_depth': 10, 'reg_alpha': 5, 'reg_lambda': 0, 'min_child_weight': 2, 'gamma': 0, 'learning_rate': 0.05685606828067401, 'colsample_bytree': 0.72}. Best is trial 37 with value: 0.6316013457499098.\u001b[0m\n",
      "\u001b[32m[I 2021-01-19 19:21:10,336]\u001b[0m Trial 42 finished with value: 0.6333673219763798 and parameters: {'n_estimators': 91, 'max_depth': 10, 'reg_alpha': 5, 'reg_lambda': 0, 'min_child_weight': 2, 'gamma': 0, 'learning_rate': 0.05968514401903928, 'colsample_bytree': 0.71}. Best is trial 37 with value: 0.6316013457499098.\u001b[0m\n",
      "\u001b[32m[I 2021-01-19 19:21:27,536]\u001b[0m Trial 43 finished with value: 0.6329910503935506 and parameters: {'n_estimators': 100, 'max_depth': 9, 'reg_alpha': 5, 'reg_lambda': 0, 'min_child_weight': 2, 'gamma': 0, 'learning_rate': 0.048892987841161355, 'colsample_bytree': 0.82}. Best is trial 37 with value: 0.6316013457499098.\u001b[0m\n",
      "\u001b[32m[I 2021-01-19 19:21:42,562]\u001b[0m Trial 44 finished with value: 0.637177964726243 and parameters: {'n_estimators': 88, 'max_depth': 9, 'reg_alpha': 5, 'reg_lambda': 0, 'min_child_weight': 1, 'gamma': 0, 'learning_rate': 0.04402850961087012, 'colsample_bytree': 0.75}. Best is trial 37 with value: 0.6316013457499098.\u001b[0m\n",
      "\u001b[32m[I 2021-01-19 19:21:55,947]\u001b[0m Trial 45 finished with value: 0.6338308969469523 and parameters: {'n_estimators': 76, 'max_depth': 9, 'reg_alpha': 5, 'reg_lambda': 0, 'min_child_weight': 2, 'gamma': 0, 'learning_rate': 0.06422719597539693, 'colsample_bytree': 0.8099999999999999}. Best is trial 37 with value: 0.6316013457499098.\u001b[0m\n",
      "\u001b[32m[I 2021-01-19 19:22:11,718]\u001b[0m Trial 46 finished with value: 0.6347191504028652 and parameters: {'n_estimators': 93, 'max_depth': 10, 'reg_alpha': 5, 'reg_lambda': 0, 'min_child_weight': 1, 'gamma': 0, 'learning_rate': 0.08874630659937593, 'colsample_bytree': 0.6}. Best is trial 37 with value: 0.6316013457499098.\u001b[0m\n",
      "\u001b[32m[I 2021-01-19 19:22:26,111]\u001b[0m Trial 47 finished with value: 0.7198989255513077 and parameters: {'n_estimators': 88, 'max_depth': 9, 'reg_alpha': 5, 'reg_lambda': 1, 'min_child_weight': 2, 'gamma': 1, 'learning_rate': 0.020428166211573645, 'colsample_bytree': 0.69}. Best is trial 37 with value: 0.6316013457499098.\u001b[0m\n",
      "\u001b[32m[I 2021-01-19 19:22:44,360]\u001b[0m Trial 48 finished with value: 0.6426107779933352 and parameters: {'n_estimators': 100, 'max_depth': 8, 'reg_alpha': 4, 'reg_lambda': 0, 'min_child_weight': 1, 'gamma': 0, 'learning_rate': 0.03497567973758106, 'colsample_bytree': 0.95}. Best is trial 37 with value: 0.6316013457499098.\u001b[0m\n",
      "\u001b[32m[I 2021-01-19 19:23:03,666]\u001b[0m Trial 49 finished with value: 0.6377656938548399 and parameters: {'n_estimators': 85, 'max_depth': 10, 'reg_alpha': 5, 'reg_lambda': 0, 'min_child_weight': 2, 'gamma': 0, 'learning_rate': 0.046066102347810264, 'colsample_bytree': 0.75}. Best is trial 37 with value: 0.6316013457499098.\u001b[0m\n"
     ]
    }
   ],
   "source": [
    "study = optuna.create_study(direction='minimize',sampler=TPESampler())\n",
    "study.optimize(lambda trial : objective(trial,X,y),n_trials= 50)"
   ]
  },
  {
   "cell_type": "code",
   "execution_count": 264,
   "id": "european-abraham",
   "metadata": {},
   "outputs": [
    {
     "data": {
      "text/plain": [
       "{'n_estimators': 99,\n",
       " 'max_depth': 8,\n",
       " 'reg_alpha': 4,\n",
       " 'reg_lambda': 1,\n",
       " 'min_child_weight': 3,\n",
       " 'gamma': 0,\n",
       " 'learning_rate': 0.0601525142343335,\n",
       " 'colsample_bytree': 0.71}"
      ]
     },
     "execution_count": 264,
     "metadata": {},
     "output_type": "execute_result"
    }
   ],
   "source": [
    "study.best_trial.params"
   ]
  },
  {
   "cell_type": "code",
   "execution_count": 28,
   "id": "accepting-arena",
   "metadata": {},
   "outputs": [
    {
     "name": "stdout",
     "output_type": "stream",
     "text": [
      "Best trial: score 0.7713162150654792,\n",
      "params {'n_estimators': 83, 'max_depth': 7, 'reg_alpha': 0, 'reg_lambda': 5, 'min_child_weight': 0, 'gamma': 2, 'learning_rate': 0.07552594062445633, 'colsample_bytree': 0.35}\n"
     ]
    }
   ],
   "source": [
    "print('Best trial: score {},\\nparams {}'.format(study.best_trial.value,study.best_trial.params))"
   ]
  },
  {
   "cell_type": "code",
   "execution_count": 159,
   "id": "tired-harvest",
   "metadata": {},
   "outputs": [
    {
     "data": {
      "text/plain": [
       "XGBRegressor(base_score=0.5, booster='gbtree', colsample_bylevel=1,\n",
       "             colsample_bynode=1, colsample_bytree=0.71, gamma=0, gpu_id=-1,\n",
       "             importance_type='gain', interaction_constraints='',\n",
       "             learning_rate=0.0601525142343335, max_delta_step=0, max_depth=8,\n",
       "             min_child_weight=3, missing=nan, monotone_constraints='()',\n",
       "             n_estimators=99, n_jobs=8, num_parallel_tree=1, random_state=0,\n",
       "             reg_alpha=4, reg_lambda=1, scale_pos_weight=1, subsample=1,\n",
       "             tree_method='exact', validate_parameters=1, verbosity=None)"
      ]
     },
     "execution_count": 159,
     "metadata": {},
     "output_type": "execute_result"
    }
   ],
   "source": [
    "best_params = {'n_estimators': 99,\n",
    " 'max_depth': 8,\n",
    " 'reg_alpha': 4,\n",
    " 'reg_lambda': 1,\n",
    " 'min_child_weight': 3,\n",
    " 'gamma': 0,\n",
    " 'learning_rate': 0.0601525142343335,\n",
    " 'colsample_bytree': 0.71}\n",
    "xgb_reg_log = xgb.XGBRegressor(**best_params)\n",
    "xgb_reg_log.fit(X_train, np.log(y_train+1))"
   ]
  },
  {
   "cell_type": "code",
   "execution_count": 160,
   "id": "qualified-monitoring",
   "metadata": {},
   "outputs": [
    {
     "data": {
      "text/plain": [
       "0.15774911579215442"
      ]
     },
     "execution_count": 160,
     "metadata": {},
     "output_type": "execute_result"
    }
   ],
   "source": [
    "y_pred = xgb_reg_log.predict(X_test)\n",
    "mean_absolute_percentage_error(y_pred, np.log(y_test+1))"
   ]
  },
  {
   "cell_type": "code",
   "execution_count": 161,
   "id": "coral-isolation",
   "metadata": {},
   "outputs": [
    {
     "data": {
      "text/plain": [
       "XGBRegressor(base_score=0.5, booster='gbtree', colsample_bylevel=1,\n",
       "             colsample_bynode=1, colsample_bytree=0.71, gamma=0, gpu_id=-1,\n",
       "             importance_type='gain', interaction_constraints='',\n",
       "             learning_rate=0.0601525142343335, max_delta_step=0, max_depth=8,\n",
       "             min_child_weight=3, missing=nan, monotone_constraints='()',\n",
       "             n_estimators=99, n_jobs=8, num_parallel_tree=1, random_state=0,\n",
       "             reg_alpha=4, reg_lambda=1, scale_pos_weight=1, subsample=1,\n",
       "             tree_method='exact', validate_parameters=1, verbosity=None)"
      ]
     },
     "execution_count": 161,
     "metadata": {},
     "output_type": "execute_result"
    }
   ],
   "source": [
    "best_params = {'n_estimators': 99,\n",
    " 'max_depth': 8,\n",
    " 'reg_alpha': 4,\n",
    " 'reg_lambda': 1,\n",
    " 'min_child_weight': 3,\n",
    " 'gamma': 0,\n",
    " 'learning_rate': 0.0601525142343335,\n",
    " 'colsample_bytree': 0.71}\n",
    "xgb_reg = xgb.XGBRegressor(**best_params)\n",
    "xgb_reg.fit(X_train, y_train)"
   ]
  },
  {
   "cell_type": "code",
   "execution_count": 162,
   "id": "patient-indication",
   "metadata": {},
   "outputs": [
    {
     "data": {
      "text/plain": [
       "0.6396620544524475"
      ]
     },
     "execution_count": 162,
     "metadata": {},
     "output_type": "execute_result"
    }
   ],
   "source": [
    "y_pred = xgb_reg.predict(X_test)\n",
    "mean_absolute_percentage_error(y_pred, y_test)"
   ]
  },
  {
   "cell_type": "code",
   "execution_count": 352,
   "id": "representative-worship",
   "metadata": {},
   "outputs": [
    {
     "name": "stderr",
     "output_type": "stream",
     "text": [
      "g:\\mi unidad\\packen\\data analysis\\python\\p_projects\\bc-dataton\\venv\\lib\\site-packages\\seaborn\\_decorators.py:36: FutureWarning: Pass the following variables as keyword args: x, y. From version 0.12, the only valid positional argument will be `data`, and passing other arguments without an explicit keyword will result in an error or misinterpretation.\n",
      "  warnings.warn(\n"
     ]
    },
    {
     "data": {
      "text/plain": [
       "<AxesSubplot:ylabel='log_gasto_familiar'>"
      ]
     },
     "execution_count": 352,
     "metadata": {},
     "output_type": "execute_result"
    },
    {
     "data": {
      "image/png": "[encoded data removed]",
      "text/plain": [
       "<Figure size 1152x720 with 1 Axes>"
      ]
     },
     "metadata": {},
     "output_type": "display_data"
    }
   ],
   "source": [
    "sns.scatterplot(y_pred, y_test)"
   ]
  },
  {
   "cell_type": "code",
   "execution_count": 75,
   "id": "academic-worry",
   "metadata": {},
   "outputs": [],
   "source": [
    "from sklearn.neural_network import MLPRegressor"
   ]
  },
  {
   "cell_type": "code",
   "execution_count": 76,
   "id": "moral-inspector",
   "metadata": {},
   "outputs": [],
   "source": [
    "regr = MLPRegressor(random_state=1, max_iter=500).fit(X_train, y_train)"
   ]
  },
  {
   "cell_type": "code",
   "execution_count": 77,
   "id": "compound-sitting",
   "metadata": {},
   "outputs": [
    {
     "data": {
      "text/plain": [
       "3.7987137491026854"
      ]
     },
     "execution_count": 77,
     "metadata": {},
     "output_type": "execute_result"
    }
   ],
   "source": [
    "nn_predictions = regr.predict(X_test)\n",
    "mean_absolute_percentage_error(nn_predictions, y_test)"
   ]
  },
  {
   "cell_type": "markdown",
   "id": "imposed-karen",
   "metadata": {},
   "source": [
    "# GLM"
   ]
  },
  {
   "cell_type": "code",
   "execution_count": 87,
   "id": "loaded-algorithm",
   "metadata": {},
   "outputs": [
    {
     "data": {
      "text/plain": [
       "ingreso_final                     0\n",
       "ingreso_calculado                 0\n",
       "cuota_cred_hipot_pct              0\n",
       "cupo_total_tc                     0\n",
       "cuota_tarjeta_de_credito_pct      0\n",
       "cuota_de_consumo_pct              0\n",
       "cuota_rotativos_pct               0\n",
       "cuota_libranza_sf_pct             0\n",
       "genero                            0\n",
       "cuota_de_sector_solidario_pct     0\n",
       "cuota_sector_real_comercio_pct    0\n",
       "ind_mora_vigente                  0\n",
       "ind_annio                         0\n",
       "cuota_tc_bancolombia_pct          0\n",
       "cupo_tc_mdo                       0\n",
       "convenio_lib                      0\n",
       "cant_oblig_tot_sf                 0\n",
       "edad                              0\n",
       "estado_civil_DIV                  0\n",
       "estado_civil_NI                   0\n",
       "estado_civil_OTRO                 0\n",
       "estado_civil_SOL                  0\n",
       "estado_civil_UL                   0\n",
       "estado_civil_VIU                  0\n",
       "ind                               0\n",
       "nro_tot_cuentas                   0\n",
       "ctas_activas                      0\n",
       "ingreso_nomina                    0\n",
       "ingreso_nompen                    0\n",
       "ingreso_segurida_social           0\n",
       "rep_calif_cred_B                  0\n",
       "rep_calif_cred_C                  0\n",
       "rep_calif_cred_D                  0\n",
       "rep_calif_cred_E                  0\n",
       "rep_calif_cred_F                  0\n",
       "rep_calif_cred_G                  0\n",
       "rep_calif_cred_H                  0\n",
       "rep_calif_cred_NApl               0\n",
       "gasto_familiar                    0\n",
       "dtype: int64"
      ]
     },
     "execution_count": 87,
     "metadata": {},
     "output_type": "execute_result"
    }
   ],
   "source": [
    "fe_dataframe.modeling_dataframe[glm_features].isnull().sum()"
   ]
  },
  {
   "cell_type": "code",
   "execution_count": 39,
   "id": "sunset-truck",
   "metadata": {
    "scrolled": false
   },
   "outputs": [
    {
     "name": "stdout",
     "output_type": "stream",
     "text": [
      "                     Generalized Linear Model Regression Results                      \n",
      "======================================================================================\n",
      "Dep. Variable:     np.log(gasto_familiar + 1)   No. Observations:               153356\n",
      "Model:                                    GLM   Df Residuals:                   153344\n",
      "Model Family:                         Poisson   Df Model:                           11\n",
      "Link Function:                            log   Scale:                          1.0000\n",
      "Method:                                  IRLS   Log-Likelihood:            -4.5553e+05\n",
      "Date:                        Tue, 19 Jan 2021   Deviance:                   2.7207e+05\n",
      "Time:                                20:31:51   Pearson chi2:                 1.47e+05\n",
      "No. Iterations:                             4                                         \n",
      "Covariance Type:                    nonrobust                                         \n",
      "============================================================================================\n",
      "                               coef    std err          z      P>|z|      [0.025      0.975]\n",
      "--------------------------------------------------------------------------------------------\n",
      "Intercept                    1.0124      0.060     16.767      0.000       0.894       1.131\n",
      "ingreso_corr_log             0.4249      0.022     18.946      0.000       0.381       0.469\n",
      "cuota_cred_hipot_log         0.0288      0.001     28.724      0.000       0.027       0.031\n",
      "cupo_total_tc_log            0.0081      0.001      6.184      0.000       0.006       0.011\n",
      "cuota_de_consumo_log        -0.0002      0.000     -1.366      0.172      -0.000     6.7e-05\n",
      "edad                        -0.0005   6.77e-05     -7.473      0.000      -0.001      -0.000\n",
      "cuota_tc_bancolombia_log    -0.0105      0.002     -6.452      0.000      -0.014      -0.007\n",
      "ind_annio                   -0.0150      0.001    -10.397      0.000      -0.018      -0.012\n",
      "obl_total_pct               -0.0009      0.000     -2.285      0.022      -0.002      -0.000\n",
      "ingreso_geo_alto            -0.0112      0.002     -4.582      0.000      -0.016      -0.006\n",
      "ingreso_cero                 1.2332      0.062     19.826      0.000       1.111       1.355\n",
      "es_ciudad_principal          0.0087      0.002      5.669      0.000       0.006       0.012\n",
      "============================================================================================\n"
     ]
    }
   ],
   "source": [
    "# Fit Poisson regression of sat by weight\\\n",
    "glm_feat_formula = [\n",
    "    'ingreso_corr_log',\n",
    "    'cuota_cred_hipot_log',\n",
    "    'cupo_total_tc_log',\n",
    "    # 'cuota_tarjeta_de_credito_log',\n",
    "    'cuota_de_consumo_log',\n",
    "    'edad',\n",
    "    # 'genero',\n",
    "    'cuota_tc_bancolombia_log',\n",
    "    'ind_annio',\n",
    "    # 'cupo_tc_mdo_log',\n",
    "   # 'edad:ingreso_corr',\n",
    "   # 'edad*cuota_cred_hipot_log',\n",
    "   #  'genero:ingreso_corr',\n",
    "    'obl_total_pct',\n",
    "    'ingreso_geo_alto',\n",
    "    'ingreso_cero',\n",
    "    'es_ciudad_principal'\n",
    "]\n",
    "glm_formula = 'np.log(gasto_familiar+1) ~ ' + ' + '.join(glm_feat_formula)\n",
    "glm_features = feature_cols + ['gasto_familiar']\n",
    "glm_data = fe_dataframe.modeling_dataframe[glm_features]\n",
    "# glm_data = glm_data[glm_data['gasto_familiar'] < 10000000]\n",
    "model = glm( glm_formula, data = glm_data,\n",
    "            family = sm.families.Poisson()).fit()\n",
    "\n",
    "# Display model results\n",
    "print(model.summary())"
   ]
  },
  {
   "cell_type": "code",
   "execution_count": 295,
   "id": "permanent-marshall",
   "metadata": {},
   "outputs": [
    {
     "name": "stderr",
     "output_type": "stream",
     "text": [
      "g:\\mi unidad\\packen\\data analysis\\python\\p_projects\\bc-dataton\\venv\\lib\\site-packages\\seaborn\\distributions.py:2557: FutureWarning: `distplot` is a deprecated function and will be removed in a future version. Please adapt your code to use either `displot` (a figure-level function with similar flexibility) or `histplot` (an axes-level function for histograms).\n",
      "  warnings.warn(msg, FutureWarning)\n"
     ]
    },
    {
     "data": {
      "text/plain": [
       "<AxesSubplot:xlabel='gasto_familiar', ylabel='Density'>"
      ]
     },
     "execution_count": 295,
     "metadata": {},
     "output_type": "execute_result"
    },
    {
     "data": {
      "image/png": "[encoded data removed]",
      "text/plain": [
       "<Figure size 1152x720 with 1 Axes>"
      ]
     },
     "metadata": {},
     "output_type": "display_data"
    }
   ],
   "source": [
    "sns.distplot(np.log(glm_data['gasto_familiar']+1))"
   ]
  },
  {
   "cell_type": "code",
   "execution_count": 133,
   "id": "junior-zambia",
   "metadata": {},
   "outputs": [
    {
     "data": {
      "text/html": [
       "<div>\n",
       "<style scoped>\n",
       "    .dataframe tbody tr th:only-of-type {\n",
       "        vertical-align: middle;\n",
       "    }\n",
       "\n",
       "    .dataframe tbody tr th {\n",
       "        vertical-align: top;\n",
       "    }\n",
       "\n",
       "    .dataframe thead th {\n",
       "        text-align: right;\n",
       "    }\n",
       "</style>\n",
       "<table border=\"1\" class=\"dataframe\">\n",
       "  <thead>\n",
       "    <tr style=\"text-align: right;\">\n",
       "      <th></th>\n",
       "      <th>ingreso_final</th>\n",
       "      <th>ingreso_calculado</th>\n",
       "      <th>cuota_cred_hipot_pct</th>\n",
       "      <th>cupo_total_tc</th>\n",
       "      <th>cuota_tarjeta_de_credito_pct</th>\n",
       "      <th>cuota_de_consumo_pct</th>\n",
       "      <th>cuota_rotativos_pct</th>\n",
       "      <th>cuota_libranza_sf_pct</th>\n",
       "      <th>genero</th>\n",
       "      <th>cuota_de_sector_solidario_pct</th>\n",
       "      <th>...</th>\n",
       "      <th>ingreso_segurida_social</th>\n",
       "      <th>rep_calif_cred_B</th>\n",
       "      <th>rep_calif_cred_C</th>\n",
       "      <th>rep_calif_cred_D</th>\n",
       "      <th>rep_calif_cred_E</th>\n",
       "      <th>rep_calif_cred_F</th>\n",
       "      <th>rep_calif_cred_G</th>\n",
       "      <th>rep_calif_cred_H</th>\n",
       "      <th>rep_calif_cred_NApl</th>\n",
       "      <th>gasto_familiar</th>\n",
       "    </tr>\n",
       "  </thead>\n",
       "  <tbody>\n",
       "    <tr>\n",
       "      <th>count</th>\n",
       "      <td>1013400.00000</td>\n",
       "      <td>1013400.00000</td>\n",
       "      <td>1013400.00000</td>\n",
       "      <td>1013400.00000</td>\n",
       "      <td>1013400.00000</td>\n",
       "      <td>1013400.00000</td>\n",
       "      <td>1013400.00000</td>\n",
       "      <td>1013400.00000</td>\n",
       "      <td>1013400.00000</td>\n",
       "      <td>1013400.00000</td>\n",
       "      <td>...</td>\n",
       "      <td>1013400.00000</td>\n",
       "      <td>1013400.00000</td>\n",
       "      <td>1013400.00000</td>\n",
       "      <td>1013400.00000</td>\n",
       "      <td>1013400.00000</td>\n",
       "      <td>1013400.00000</td>\n",
       "      <td>1013400.00000</td>\n",
       "      <td>1013400.00000</td>\n",
       "      <td>1013400.00000</td>\n",
       "      <td>1013400.00000</td>\n",
       "    </tr>\n",
       "    <tr>\n",
       "      <th>mean</th>\n",
       "      <td>14.76997</td>\n",
       "      <td>2001145.57726</td>\n",
       "      <td>0.02100</td>\n",
       "      <td>6.00252</td>\n",
       "      <td>0.10404</td>\n",
       "      <td>0.19464</td>\n",
       "      <td>0.00570</td>\n",
       "      <td>0.02850</td>\n",
       "      <td>0.49557</td>\n",
       "      <td>0.01854</td>\n",
       "      <td>...</td>\n",
       "      <td>4.05077</td>\n",
       "      <td>0.13744</td>\n",
       "      <td>0.13861</td>\n",
       "      <td>0.11183</td>\n",
       "      <td>0.06993</td>\n",
       "      <td>0.04012</td>\n",
       "      <td>0.11104</td>\n",
       "      <td>0.09627</td>\n",
       "      <td>0.09490</td>\n",
       "      <td>765522.03685</td>\n",
       "    </tr>\n",
       "    <tr>\n",
       "      <th>std</th>\n",
       "      <td>1.56519</td>\n",
       "      <td>3777353.15946</td>\n",
       "      <td>0.14252</td>\n",
       "      <td>7.63325</td>\n",
       "      <td>0.47243</td>\n",
       "      <td>2.41957</td>\n",
       "      <td>0.30507</td>\n",
       "      <td>0.50487</td>\n",
       "      <td>0.49998</td>\n",
       "      <td>0.59299</td>\n",
       "      <td>...</td>\n",
       "      <td>6.53894</td>\n",
       "      <td>0.34431</td>\n",
       "      <td>0.34554</td>\n",
       "      <td>0.31516</td>\n",
       "      <td>0.25503</td>\n",
       "      <td>0.19624</td>\n",
       "      <td>0.31418</td>\n",
       "      <td>0.29496</td>\n",
       "      <td>0.29308</td>\n",
       "      <td>1058623.99122</td>\n",
       "    </tr>\n",
       "    <tr>\n",
       "      <th>min</th>\n",
       "      <td>0.00000</td>\n",
       "      <td>0.00000</td>\n",
       "      <td>-0.43312</td>\n",
       "      <td>0.00000</td>\n",
       "      <td>0.00000</td>\n",
       "      <td>0.00000</td>\n",
       "      <td>0.00000</td>\n",
       "      <td>0.00000</td>\n",
       "      <td>0.00000</td>\n",
       "      <td>0.00000</td>\n",
       "      <td>...</td>\n",
       "      <td>0.00000</td>\n",
       "      <td>0.00000</td>\n",
       "      <td>0.00000</td>\n",
       "      <td>0.00000</td>\n",
       "      <td>0.00000</td>\n",
       "      <td>0.00000</td>\n",
       "      <td>0.00000</td>\n",
       "      <td>0.00000</td>\n",
       "      <td>0.00000</td>\n",
       "      <td>0.00000</td>\n",
       "    </tr>\n",
       "    <tr>\n",
       "      <th>25%</th>\n",
       "      <td>14.26020</td>\n",
       "      <td>0.00000</td>\n",
       "      <td>0.00000</td>\n",
       "      <td>0.00000</td>\n",
       "      <td>0.00000</td>\n",
       "      <td>0.00000</td>\n",
       "      <td>0.00000</td>\n",
       "      <td>0.00000</td>\n",
       "      <td>0.00000</td>\n",
       "      <td>0.00000</td>\n",
       "      <td>...</td>\n",
       "      <td>0.00000</td>\n",
       "      <td>0.00000</td>\n",
       "      <td>0.00000</td>\n",
       "      <td>0.00000</td>\n",
       "      <td>0.00000</td>\n",
       "      <td>0.00000</td>\n",
       "      <td>0.00000</td>\n",
       "      <td>0.00000</td>\n",
       "      <td>0.00000</td>\n",
       "      <td>180354.00000</td>\n",
       "    </tr>\n",
       "    <tr>\n",
       "      <th>50%</th>\n",
       "      <td>14.79485</td>\n",
       "      <td>807503.00000</td>\n",
       "      <td>0.00000</td>\n",
       "      <td>0.00000</td>\n",
       "      <td>0.02056</td>\n",
       "      <td>0.00000</td>\n",
       "      <td>0.00000</td>\n",
       "      <td>0.00000</td>\n",
       "      <td>0.00000</td>\n",
       "      <td>0.00000</td>\n",
       "      <td>...</td>\n",
       "      <td>0.00000</td>\n",
       "      <td>0.00000</td>\n",
       "      <td>0.00000</td>\n",
       "      <td>0.00000</td>\n",
       "      <td>0.00000</td>\n",
       "      <td>0.00000</td>\n",
       "      <td>0.00000</td>\n",
       "      <td>0.00000</td>\n",
       "      <td>0.00000</td>\n",
       "      <td>426113.00000</td>\n",
       "    </tr>\n",
       "    <tr>\n",
       "      <th>75%</th>\n",
       "      <td>15.39770</td>\n",
       "      <td>2719204.50000</td>\n",
       "      <td>0.00000</td>\n",
       "      <td>15.29712</td>\n",
       "      <td>0.11120</td>\n",
       "      <td>0.14480</td>\n",
       "      <td>0.00000</td>\n",
       "      <td>0.00000</td>\n",
       "      <td>1.00000</td>\n",
       "      <td>0.00000</td>\n",
       "      <td>...</td>\n",
       "      <td>13.62691</td>\n",
       "      <td>0.00000</td>\n",
       "      <td>0.00000</td>\n",
       "      <td>0.00000</td>\n",
       "      <td>0.00000</td>\n",
       "      <td>0.00000</td>\n",
       "      <td>0.00000</td>\n",
       "      <td>0.00000</td>\n",
       "      <td>0.00000</td>\n",
       "      <td>910449.10500</td>\n",
       "    </tr>\n",
       "    <tr>\n",
       "      <th>max</th>\n",
       "      <td>21.18475</td>\n",
       "      <td>381096170.00000</td>\n",
       "      <td>62.76979</td>\n",
       "      <td>20.10337</td>\n",
       "      <td>137.49425</td>\n",
       "      <td>1017.77375</td>\n",
       "      <td>283.65719</td>\n",
       "      <td>117.11432</td>\n",
       "      <td>1.00000</td>\n",
       "      <td>301.53884</td>\n",
       "      <td>...</td>\n",
       "      <td>19.06253</td>\n",
       "      <td>1.00000</td>\n",
       "      <td>1.00000</td>\n",
       "      <td>1.00000</td>\n",
       "      <td>1.00000</td>\n",
       "      <td>1.00000</td>\n",
       "      <td>1.00000</td>\n",
       "      <td>1.00000</td>\n",
       "      <td>1.00000</td>\n",
       "      <td>9999293.00000</td>\n",
       "    </tr>\n",
       "  </tbody>\n",
       "</table>\n",
       "<p>8 rows × 39 columns</p>\n",
       "</div>"
      ],
      "text/plain": [
       "       ingreso_final  ingreso_calculado  cuota_cred_hipot_pct  cupo_total_tc  \\\n",
       "count  1013400.00000      1013400.00000         1013400.00000  1013400.00000   \n",
       "mean        14.76997      2001145.57726               0.02100        6.00252   \n",
       "std          1.56519      3777353.15946               0.14252        7.63325   \n",
       "min          0.00000            0.00000              -0.43312        0.00000   \n",
       "25%         14.26020            0.00000               0.00000        0.00000   \n",
       "50%         14.79485       807503.00000               0.00000        0.00000   \n",
       "75%         15.39770      2719204.50000               0.00000       15.29712   \n",
       "max         21.18475    381096170.00000              62.76979       20.10337   \n",
       "\n",
       "       cuota_tarjeta_de_credito_pct  cuota_de_consumo_pct  \\\n",
       "count                 1013400.00000         1013400.00000   \n",
       "mean                        0.10404               0.19464   \n",
       "std                         0.47243               2.41957   \n",
       "min                         0.00000               0.00000   \n",
       "25%                         0.00000               0.00000   \n",
       "50%                         0.02056               0.00000   \n",
       "75%                         0.11120               0.14480   \n",
       "max                       137.49425            1017.77375   \n",
       "\n",
       "       cuota_rotativos_pct  cuota_libranza_sf_pct        genero  \\\n",
       "count        1013400.00000          1013400.00000 1013400.00000   \n",
       "mean               0.00570                0.02850       0.49557   \n",
       "std                0.30507                0.50487       0.49998   \n",
       "min                0.00000                0.00000       0.00000   \n",
       "25%                0.00000                0.00000       0.00000   \n",
       "50%                0.00000                0.00000       0.00000   \n",
       "75%                0.00000                0.00000       1.00000   \n",
       "max              283.65719              117.11432       1.00000   \n",
       "\n",
       "       cuota_de_sector_solidario_pct  ...  ingreso_segurida_social  \\\n",
       "count                  1013400.00000  ...            1013400.00000   \n",
       "mean                         0.01854  ...                  4.05077   \n",
       "std                          0.59299  ...                  6.53894   \n",
       "min                          0.00000  ...                  0.00000   \n",
       "25%                          0.00000  ...                  0.00000   \n",
       "50%                          0.00000  ...                  0.00000   \n",
       "75%                          0.00000  ...                 13.62691   \n",
       "max                        301.53884  ...                 19.06253   \n",
       "\n",
       "       rep_calif_cred_B  rep_calif_cred_C  rep_calif_cred_D  rep_calif_cred_E  \\\n",
       "count     1013400.00000     1013400.00000     1013400.00000     1013400.00000   \n",
       "mean            0.13744           0.13861           0.11183           0.06993   \n",
       "std             0.34431           0.34554           0.31516           0.25503   \n",
       "min             0.00000           0.00000           0.00000           0.00000   \n",
       "25%             0.00000           0.00000           0.00000           0.00000   \n",
       "50%             0.00000           0.00000           0.00000           0.00000   \n",
       "75%             0.00000           0.00000           0.00000           0.00000   \n",
       "max             1.00000           1.00000           1.00000           1.00000   \n",
       "\n",
       "       rep_calif_cred_F  rep_calif_cred_G  rep_calif_cred_H  \\\n",
       "count     1013400.00000     1013400.00000     1013400.00000   \n",
       "mean            0.04012           0.11104           0.09627   \n",
       "std             0.19624           0.31418           0.29496   \n",
       "min             0.00000           0.00000           0.00000   \n",
       "25%             0.00000           0.00000           0.00000   \n",
       "50%             0.00000           0.00000           0.00000   \n",
       "75%             0.00000           0.00000           0.00000   \n",
       "max             1.00000           1.00000           1.00000   \n",
       "\n",
       "       rep_calif_cred_NApl  gasto_familiar  \n",
       "count        1013400.00000   1013400.00000  \n",
       "mean               0.09490    765522.03685  \n",
       "std                0.29308   1058623.99122  \n",
       "min                0.00000         0.00000  \n",
       "25%                0.00000    180354.00000  \n",
       "50%                0.00000    426113.00000  \n",
       "75%                0.00000    910449.10500  \n",
       "max                1.00000   9999293.00000  \n",
       "\n",
       "[8 rows x 39 columns]"
      ]
     },
     "execution_count": 133,
     "metadata": {},
     "output_type": "execute_result"
    }
   ],
   "source": [
    "glm_data.describe(include='all')"
   ]
  },
  {
   "cell_type": "code",
   "execution_count": 332,
   "id": "hairy-design",
   "metadata": {},
   "outputs": [],
   "source": [
    "glm_predictions = model.predict(fe_dataframe.modeling_dataframe[glm_features])"
   ]
  },
  {
   "cell_type": "code",
   "execution_count": 151,
   "id": "thorough-portal",
   "metadata": {},
   "outputs": [
    {
     "name": "stderr",
     "output_type": "stream",
     "text": [
      "g:\\mi unidad\\packen\\data analysis\\python\\p_projects\\bc-dataton\\venv\\lib\\site-packages\\seaborn\\distributions.py:2557: FutureWarning: `distplot` is a deprecated function and will be removed in a future version. Please adapt your code to use either `displot` (a figure-level function with similar flexibility) or `histplot` (an axes-level function for histograms).\n",
      "  warnings.warn(msg, FutureWarning)\n"
     ]
    },
    {
     "data": {
      "text/plain": [
       "<AxesSubplot:ylabel='Density'>"
      ]
     },
     "execution_count": 151,
     "metadata": {},
     "output_type": "execute_result"
    },
    {
     "data": {
      "image/png": "[encoded data removed]",
      "text/plain": [
       "<Figure size 1152x720 with 1 Axes>"
      ]
     },
     "metadata": {},
     "output_type": "display_data"
    }
   ],
   "source": [
    "exp_prediction = np.exp(glm_predictions) - 1\n",
    "sns.distplot(exp_prediction[exp_prediction < 10000000])"
   ]
  },
  {
   "cell_type": "code",
   "execution_count": 334,
   "id": "varied-pantyhose",
   "metadata": {},
   "outputs": [
    {
     "name": "stderr",
     "output_type": "stream",
     "text": [
      "g:\\mi unidad\\packen\\data analysis\\python\\p_projects\\bc-dataton\\venv\\lib\\site-packages\\seaborn\\distributions.py:2557: FutureWarning: `distplot` is a deprecated function and will be removed in a future version. Please adapt your code to use either `displot` (a figure-level function with similar flexibility) or `histplot` (an axes-level function for histograms).\n",
      "  warnings.warn(msg, FutureWarning)\n",
      "g:\\mi unidad\\packen\\data analysis\\python\\p_projects\\bc-dataton\\venv\\lib\\site-packages\\seaborn\\distributions.py:2557: FutureWarning: `distplot` is a deprecated function and will be removed in a future version. Please adapt your code to use either `displot` (a figure-level function with similar flexibility) or `histplot` (an axes-level function for histograms).\n",
      "  warnings.warn(msg, FutureWarning)\n",
      "g:\\mi unidad\\packen\\data analysis\\python\\p_projects\\bc-dataton\\venv\\lib\\site-packages\\seaborn\\distributions.py:2557: FutureWarning: `distplot` is a deprecated function and will be removed in a future version. Please adapt your code to use either `displot` (a figure-level function with similar flexibility) or `histplot` (an axes-level function for histograms).\n",
      "  warnings.warn(msg, FutureWarning)\n"
     ]
    },
    {
     "data": {
      "text/plain": [
       "<matplotlib.legend.Legend at 0x213410afeb0>"
      ]
     },
     "execution_count": 334,
     "metadata": {},
     "output_type": "execute_result"
    },
    {
     "data": {
      "image/png": "[encoded data removed]",
      "text/plain": [
       "<Figure size 1152x720 with 1 Axes>"
      ]
     },
     "metadata": {},
     "output_type": "display_data"
    }
   ],
   "source": [
    "sns.distplot(final_predictions_glm[final_predictions_glm <  10000000])\n",
    "sns.distplot(y_pred)\n",
    "sns.distplot(fe_dataframe.modeling_dataframe['gasto_familiar'])\n",
    "plt.legend(['GLM', \"XGBoost\", \"Real\"])"
   ]
  },
  {
   "cell_type": "markdown",
   "id": "respiratory-profile",
   "metadata": {},
   "source": [
    "# DL model"
   ]
  },
  {
   "cell_type": "code",
   "execution_count": null,
   "id": "elegant-musical",
   "metadata": {},
   "outputs": [],
   "source": []
  },
  {
   "cell_type": "code",
   "execution_count": 150,
   "id": "contrary-devil",
   "metadata": {},
   "outputs": [
    {
     "name": "stdout",
     "output_type": "stream",
     "text": [
      "Epoch 1/20\n",
      "3355/3355 [==============================] - 5s 1ms/step - loss: 38.2824\n",
      "Epoch 2/20\n",
      "3355/3355 [==============================] - 4s 1ms/step - loss: 12.7941\n",
      "Epoch 3/20\n",
      "3355/3355 [==============================] - 4s 1ms/step - loss: 12.4961\n",
      "Epoch 4/20\n",
      "3355/3355 [==============================] - 4s 1ms/step - loss: 12.8006\n",
      "Epoch 5/20\n",
      "3355/3355 [==============================] - 4s 1ms/step - loss: 12.6510\n",
      "Epoch 6/20\n",
      "3355/3355 [==============================] - 4s 1ms/step - loss: 12.3454\n",
      "Epoch 7/20\n",
      "3355/3355 [==============================] - 4s 1ms/step - loss: 12.5507\n",
      "Epoch 8/20\n",
      "3355/3355 [==============================] - 4s 1ms/step - loss: 12.4897\n",
      "Epoch 9/20\n",
      "3355/3355 [==============================] - 4s 1ms/step - loss: 12.5531\n",
      "Epoch 10/20\n",
      "3355/3355 [==============================] - 4s 1ms/step - loss: 12.5549\n",
      "Epoch 11/20\n",
      "3355/3355 [==============================] - 4s 1ms/step - loss: 12.3447\n",
      "Epoch 12/20\n",
      "3355/3355 [==============================] - 4s 1ms/step - loss: 12.4060\n",
      "Epoch 13/20\n",
      "3355/3355 [==============================] - 4s 1ms/step - loss: 12.3112\n",
      "Epoch 14/20\n",
      "3355/3355 [==============================] - 4s 1ms/step - loss: 12.1856\n",
      "Epoch 15/20\n",
      "3355/3355 [==============================] - 4s 1ms/step - loss: 12.3859\n",
      "Epoch 16/20\n",
      "3355/3355 [==============================] - 4s 1ms/step - loss: 12.3285\n",
      "Epoch 17/20\n",
      "3355/3355 [==============================] - 4s 1ms/step - loss: 12.3611\n",
      "Epoch 18/20\n",
      "3355/3355 [==============================] - 4s 1ms/step - loss: 12.0921\n",
      "Epoch 19/20\n",
      "3355/3355 [==============================] - 4s 1ms/step - loss: 12.4690\n",
      "Epoch 20/20\n",
      "3355/3355 [==============================] - 4s 1ms/step - loss: 12.7015\n"
     ]
    },
    {
     "data": {
      "text/plain": [
       "<tensorflow.python.keras.callbacks.History at 0x20445599070>"
      ]
     },
     "execution_count": 150,
     "metadata": {},
     "output_type": "execute_result"
    }
   ],
   "source": [
    "nn_model = Sequential()\n",
    "nn_model.add(Dense(30, activation = 'relu', input_shape = (X.shape[1],))) #Primera capa oculta, justo después de la capa input de 3 variables\n",
    "nn_model.add(Dropout(0.2))\n",
    "nn_model.add(Dense(30, activation = 'relu'))\n",
    "nn_model.add(BatchNormalization())\n",
    "nn_model.add(Dense(30, activation = 'relu'))\n",
    "nn_model.add(Dense(1))\n",
    "\n",
    "nn_model.compile(optimizer = 'adam', loss = 'mse')\n",
    "nn_model.fit(X_train, y_train, epochs=20)"
   ]
  },
  {
   "cell_type": "code",
   "execution_count": 87,
   "id": "prerequisite-lending",
   "metadata": {},
   "outputs": [
    {
     "data": {
      "text/plain": [
       "0.8384442947941376"
      ]
     },
     "execution_count": 87,
     "metadata": {},
     "output_type": "execute_result"
    }
   ],
   "source": [
    "nn_predictions = nn_model.predict(X_test)\n",
    "mean_absolute_percentage_error(nn_predictions, y_test)"
   ]
  },
  {
   "cell_type": "markdown",
   "id": "alike-franklin",
   "metadata": {},
   "source": [
    "# test"
   ]
  },
  {
   "cell_type": "code",
   "execution_count": 26,
   "id": "respiratory-vinyl",
   "metadata": {},
   "outputs": [
    {
     "data": {
      "text/html": [
       "<div>\n",
       "<style scoped>\n",
       "    .dataframe tbody tr th:only-of-type {\n",
       "        vertical-align: middle;\n",
       "    }\n",
       "\n",
       "    .dataframe tbody tr th {\n",
       "        vertical-align: top;\n",
       "    }\n",
       "\n",
       "    .dataframe thead th {\n",
       "        text-align: right;\n",
       "    }\n",
       "</style>\n",
       "<table border=\"1\" class=\"dataframe\">\n",
       "  <thead>\n",
       "    <tr style=\"text-align: right;\">\n",
       "      <th></th>\n",
       "      <th>id_registro</th>\n",
       "      <th>periodo</th>\n",
       "      <th>id_cli</th>\n",
       "      <th>edad</th>\n",
       "      <th>genero</th>\n",
       "      <th>estado_civil</th>\n",
       "      <th>ult_actual</th>\n",
       "      <th>ind_mora_vigente</th>\n",
       "      <th>departamento_residencia</th>\n",
       "      <th>mora_max</th>\n",
       "      <th>...</th>\n",
       "      <th>saldo_prom3_tdc_mdo</th>\n",
       "      <th>cuota_tc_mdo</th>\n",
       "      <th>saldo_no_rot_mdo</th>\n",
       "      <th>cuota_libranza_sf</th>\n",
       "      <th>cant_oblig_tot_sf</th>\n",
       "      <th>ind</th>\n",
       "      <th>rep_calif_cred</th>\n",
       "      <th>convenio_lib</th>\n",
       "      <th>ingreso_nomina</th>\n",
       "      <th>ingreso_segurida_social</th>\n",
       "    </tr>\n",
       "  </thead>\n",
       "  <tbody>\n",
       "    <tr>\n",
       "      <th>0</th>\n",
       "      <td>4055#201902</td>\n",
       "      <td>201902</td>\n",
       "      <td>4055</td>\n",
       "      <td>46</td>\n",
       "      <td>M</td>\n",
       "      <td>CAS</td>\n",
       "      <td>20180807</td>\n",
       "      <td>N</td>\n",
       "      <td>ANTIOQUIA</td>\n",
       "      <td>NApl</td>\n",
       "      <td>...</td>\n",
       "      <td>282500.00000</td>\n",
       "      <td>19000.00000</td>\n",
       "      <td>127148000.00000</td>\n",
       "      <td>1797000.00000</td>\n",
       "      <td>7</td>\n",
       "      <td>2060457.20000</td>\n",
       "      <td>A</td>\n",
       "      <td>S</td>\n",
       "      <td>2734528.00000</td>\n",
       "      <td>0.00000</td>\n",
       "    </tr>\n",
       "    <tr>\n",
       "      <th>1</th>\n",
       "      <td>12598#201902</td>\n",
       "      <td>201902</td>\n",
       "      <td>12598</td>\n",
       "      <td>43</td>\n",
       "      <td>M</td>\n",
       "      <td>SOL</td>\n",
       "      <td>20180130</td>\n",
       "      <td>N</td>\n",
       "      <td>CUNDINAMARCA</td>\n",
       "      <td>Entre 0 y 30 dias</td>\n",
       "      <td>...</td>\n",
       "      <td>0.00000</td>\n",
       "      <td>0.00000</td>\n",
       "      <td>87661000.00000</td>\n",
       "      <td>0.00000</td>\n",
       "      <td>5</td>\n",
       "      <td>-71874365.80000</td>\n",
       "      <td>H</td>\n",
       "      <td>S</td>\n",
       "      <td>2291070.00000</td>\n",
       "      <td>0.00000</td>\n",
       "    </tr>\n",
       "    <tr>\n",
       "      <th>2</th>\n",
       "      <td>23697#201902</td>\n",
       "      <td>201902</td>\n",
       "      <td>23697</td>\n",
       "      <td>45</td>\n",
       "      <td>M</td>\n",
       "      <td>CAS</td>\n",
       "      <td>20190110</td>\n",
       "      <td>N</td>\n",
       "      <td>BOGOTA D.C.</td>\n",
       "      <td>Entre 0 y 30 dias</td>\n",
       "      <td>...</td>\n",
       "      <td>33000.00000</td>\n",
       "      <td>33000.00000</td>\n",
       "      <td>58967000.00000</td>\n",
       "      <td>0.00000</td>\n",
       "      <td>3</td>\n",
       "      <td>-1448765.30000</td>\n",
       "      <td>A</td>\n",
       "      <td>S</td>\n",
       "      <td>0.00000</td>\n",
       "      <td>0.00000</td>\n",
       "    </tr>\n",
       "    <tr>\n",
       "      <th>3</th>\n",
       "      <td>23768#201902</td>\n",
       "      <td>201902</td>\n",
       "      <td>23768</td>\n",
       "      <td>58</td>\n",
       "      <td>M</td>\n",
       "      <td>NI</td>\n",
       "      <td>20180208</td>\n",
       "      <td>N</td>\n",
       "      <td>BOGOTA D.C.</td>\n",
       "      <td>NApl</td>\n",
       "      <td>...</td>\n",
       "      <td>0.00000</td>\n",
       "      <td>0.00000</td>\n",
       "      <td>0.00000</td>\n",
       "      <td>0.00000</td>\n",
       "      <td>0</td>\n",
       "      <td>2208260.39000</td>\n",
       "      <td>G</td>\n",
       "      <td>S</td>\n",
       "      <td>0.00000</td>\n",
       "      <td>0.00000</td>\n",
       "    </tr>\n",
       "    <tr>\n",
       "      <th>4</th>\n",
       "      <td>7174#201902</td>\n",
       "      <td>201902</td>\n",
       "      <td>7174</td>\n",
       "      <td>52</td>\n",
       "      <td>F</td>\n",
       "      <td>DIV</td>\n",
       "      <td>20180825</td>\n",
       "      <td>N</td>\n",
       "      <td>BOGOTA D.C.</td>\n",
       "      <td>Entre 0 y 30 dias</td>\n",
       "      <td>...</td>\n",
       "      <td>4088500.00000</td>\n",
       "      <td>11000.00000</td>\n",
       "      <td>22746000.00000</td>\n",
       "      <td>0.00000</td>\n",
       "      <td>7</td>\n",
       "      <td>3212635.74000</td>\n",
       "      <td>A</td>\n",
       "      <td>S</td>\n",
       "      <td>0.00000</td>\n",
       "      <td>0.00000</td>\n",
       "    </tr>\n",
       "    <tr>\n",
       "      <th>...</th>\n",
       "      <td>...</td>\n",
       "      <td>...</td>\n",
       "      <td>...</td>\n",
       "      <td>...</td>\n",
       "      <td>...</td>\n",
       "      <td>...</td>\n",
       "      <td>...</td>\n",
       "      <td>...</td>\n",
       "      <td>...</td>\n",
       "      <td>...</td>\n",
       "      <td>...</td>\n",
       "      <td>...</td>\n",
       "      <td>...</td>\n",
       "      <td>...</td>\n",
       "      <td>...</td>\n",
       "      <td>...</td>\n",
       "      <td>...</td>\n",
       "      <td>...</td>\n",
       "      <td>...</td>\n",
       "      <td>...</td>\n",
       "      <td>...</td>\n",
       "    </tr>\n",
       "    <tr>\n",
       "      <th>281661</th>\n",
       "      <td>8596193#202011</td>\n",
       "      <td>202011</td>\n",
       "      <td>8596193</td>\n",
       "      <td>47</td>\n",
       "      <td>F</td>\n",
       "      <td>SOL</td>\n",
       "      <td>20201010</td>\n",
       "      <td>N</td>\n",
       "      <td>ANTIOQUIA</td>\n",
       "      <td>Entre 0 y 30 dias</td>\n",
       "      <td>...</td>\n",
       "      <td>0.00000</td>\n",
       "      <td>0.00000</td>\n",
       "      <td>0.00000</td>\n",
       "      <td>0.00000</td>\n",
       "      <td>2</td>\n",
       "      <td>2101424.08500</td>\n",
       "      <td>A</td>\n",
       "      <td>S</td>\n",
       "      <td>2281362.50000</td>\n",
       "      <td>3876343.00000</td>\n",
       "    </tr>\n",
       "    <tr>\n",
       "      <th>281662</th>\n",
       "      <td>8616083#202011</td>\n",
       "      <td>202011</td>\n",
       "      <td>8616083</td>\n",
       "      <td>35</td>\n",
       "      <td>M</td>\n",
       "      <td>NI</td>\n",
       "      <td>20201003</td>\n",
       "      <td>N</td>\n",
       "      <td>BOGOTA D.C.</td>\n",
       "      <td>Entre 0 y 30 dias</td>\n",
       "      <td>...</td>\n",
       "      <td>8286666.66700</td>\n",
       "      <td>237000.00000</td>\n",
       "      <td>99000.00000</td>\n",
       "      <td>0.00000</td>\n",
       "      <td>12</td>\n",
       "      <td>11705497.77500</td>\n",
       "      <td>C</td>\n",
       "      <td>S</td>\n",
       "      <td>14510896.00000</td>\n",
       "      <td>0.00000</td>\n",
       "    </tr>\n",
       "    <tr>\n",
       "      <th>281663</th>\n",
       "      <td>8670207#202011</td>\n",
       "      <td>202011</td>\n",
       "      <td>8670207</td>\n",
       "      <td>47</td>\n",
       "      <td>M</td>\n",
       "      <td>DIV</td>\n",
       "      <td>20200616</td>\n",
       "      <td>N</td>\n",
       "      <td>CUNDINAMARCA</td>\n",
       "      <td>Entre 0 y 30 dias</td>\n",
       "      <td>...</td>\n",
       "      <td>30917000.00000</td>\n",
       "      <td>10350000.00000</td>\n",
       "      <td>300000.00000</td>\n",
       "      <td>0.00000</td>\n",
       "      <td>17</td>\n",
       "      <td>-41547904.85000</td>\n",
       "      <td>D</td>\n",
       "      <td>S</td>\n",
       "      <td>0.00000</td>\n",
       "      <td>0.00000</td>\n",
       "    </tr>\n",
       "    <tr>\n",
       "      <th>281664</th>\n",
       "      <td>8677655#202011</td>\n",
       "      <td>202011</td>\n",
       "      <td>8677655</td>\n",
       "      <td>42</td>\n",
       "      <td>F</td>\n",
       "      <td>CAS</td>\n",
       "      <td>20200423</td>\n",
       "      <td>N</td>\n",
       "      <td>ANTIOQUIA</td>\n",
       "      <td>Entre 0 y 30 dias</td>\n",
       "      <td>...</td>\n",
       "      <td>37608666.66700</td>\n",
       "      <td>1953000.00000</td>\n",
       "      <td>184811000.00000</td>\n",
       "      <td>0.00000</td>\n",
       "      <td>18</td>\n",
       "      <td>5313457.01250</td>\n",
       "      <td>B</td>\n",
       "      <td>S</td>\n",
       "      <td>11401109.00000</td>\n",
       "      <td>14481371.00000</td>\n",
       "    </tr>\n",
       "    <tr>\n",
       "      <th>281665</th>\n",
       "      <td>8692808#202011</td>\n",
       "      <td>202011</td>\n",
       "      <td>8692808</td>\n",
       "      <td>40</td>\n",
       "      <td>F</td>\n",
       "      <td>NI</td>\n",
       "      <td>20200221</td>\n",
       "      <td>N</td>\n",
       "      <td>BOGOTA D.C.</td>\n",
       "      <td>Entre 0 y 30 dias</td>\n",
       "      <td>...</td>\n",
       "      <td>60080000.00000</td>\n",
       "      <td>1141000.00000</td>\n",
       "      <td>25769000.00000</td>\n",
       "      <td>0.00000</td>\n",
       "      <td>14</td>\n",
       "      <td>-2172736.58000</td>\n",
       "      <td>E</td>\n",
       "      <td>S</td>\n",
       "      <td>0.00000</td>\n",
       "      <td>0.00000</td>\n",
       "    </tr>\n",
       "  </tbody>\n",
       "</table>\n",
       "<p>281666 rows × 39 columns</p>\n",
       "</div>"
      ],
      "text/plain": [
       "           id_registro  periodo   id_cli  edad genero estado_civil  \\\n",
       "0          4055#201902   201902     4055    46      M          CAS   \n",
       "1         12598#201902   201902    12598    43      M          SOL   \n",
       "2         23697#201902   201902    23697    45      M          CAS   \n",
       "3         23768#201902   201902    23768    58      M           NI   \n",
       "4          7174#201902   201902     7174    52      F          DIV   \n",
       "...                ...      ...      ...   ...    ...          ...   \n",
       "281661  8596193#202011   202011  8596193    47      F          SOL   \n",
       "281662  8616083#202011   202011  8616083    35      M           NI   \n",
       "281663  8670207#202011   202011  8670207    47      M          DIV   \n",
       "281664  8677655#202011   202011  8677655    42      F          CAS   \n",
       "281665  8692808#202011   202011  8692808    40      F           NI   \n",
       "\n",
       "        ult_actual ind_mora_vigente departamento_residencia  \\\n",
       "0         20180807                N               ANTIOQUIA   \n",
       "1         20180130                N            CUNDINAMARCA   \n",
       "2         20190110                N             BOGOTA D.C.   \n",
       "3         20180208                N             BOGOTA D.C.   \n",
       "4         20180825                N             BOGOTA D.C.   \n",
       "...            ...              ...                     ...   \n",
       "281661    20201010                N               ANTIOQUIA   \n",
       "281662    20201003                N             BOGOTA D.C.   \n",
       "281663    20200616                N            CUNDINAMARCA   \n",
       "281664    20200423                N               ANTIOQUIA   \n",
       "281665    20200221                N             BOGOTA D.C.   \n",
       "\n",
       "                 mora_max  ...  saldo_prom3_tdc_mdo   cuota_tc_mdo  \\\n",
       "0                    NApl  ...         282500.00000    19000.00000   \n",
       "1       Entre 0 y 30 dias  ...              0.00000        0.00000   \n",
       "2       Entre 0 y 30 dias  ...          33000.00000    33000.00000   \n",
       "3                    NApl  ...              0.00000        0.00000   \n",
       "4       Entre 0 y 30 dias  ...        4088500.00000    11000.00000   \n",
       "...                   ...  ...                  ...            ...   \n",
       "281661  Entre 0 y 30 dias  ...              0.00000        0.00000   \n",
       "281662  Entre 0 y 30 dias  ...        8286666.66700   237000.00000   \n",
       "281663  Entre 0 y 30 dias  ...       30917000.00000 10350000.00000   \n",
       "281664  Entre 0 y 30 dias  ...       37608666.66700  1953000.00000   \n",
       "281665  Entre 0 y 30 dias  ...       60080000.00000  1141000.00000   \n",
       "\n",
       "        saldo_no_rot_mdo  cuota_libranza_sf  cant_oblig_tot_sf  \\\n",
       "0        127148000.00000      1797000.00000                  7   \n",
       "1         87661000.00000            0.00000                  5   \n",
       "2         58967000.00000            0.00000                  3   \n",
       "3                0.00000            0.00000                  0   \n",
       "4         22746000.00000            0.00000                  7   \n",
       "...                  ...                ...                ...   \n",
       "281661           0.00000            0.00000                  2   \n",
       "281662       99000.00000            0.00000                 12   \n",
       "281663      300000.00000            0.00000                 17   \n",
       "281664   184811000.00000            0.00000                 18   \n",
       "281665    25769000.00000            0.00000                 14   \n",
       "\n",
       "                   ind  rep_calif_cred  convenio_lib ingreso_nomina  \\\n",
       "0        2060457.20000               A             S  2734528.00000   \n",
       "1      -71874365.80000               H             S  2291070.00000   \n",
       "2       -1448765.30000               A             S        0.00000   \n",
       "3        2208260.39000               G             S        0.00000   \n",
       "4        3212635.74000               A             S        0.00000   \n",
       "...                ...             ...           ...            ...   \n",
       "281661   2101424.08500               A             S  2281362.50000   \n",
       "281662  11705497.77500               C             S 14510896.00000   \n",
       "281663 -41547904.85000               D             S        0.00000   \n",
       "281664   5313457.01250               B             S 11401109.00000   \n",
       "281665  -2172736.58000               E             S        0.00000   \n",
       "\n",
       "        ingreso_segurida_social  \n",
       "0                       0.00000  \n",
       "1                       0.00000  \n",
       "2                       0.00000  \n",
       "3                       0.00000  \n",
       "4                       0.00000  \n",
       "...                         ...  \n",
       "281661            3876343.00000  \n",
       "281662                  0.00000  \n",
       "281663                  0.00000  \n",
       "281664           14481371.00000  \n",
       "281665                  0.00000  \n",
       "\n",
       "[281666 rows x 39 columns]"
      ]
     },
     "execution_count": 26,
     "metadata": {},
     "output_type": "execute_result"
    }
   ],
   "source": [
    "test_df = pd.read_csv(\"test_cleaned.csv\").drop(\"Unnamed: 0\", axis=1)\n",
    "test_df"
   ]
  },
  {
   "cell_type": "code",
   "execution_count": 59,
   "id": "genetic-ensemble",
   "metadata": {},
   "outputs": [
    {
     "data": {
      "text/plain": [
       "0         661604.40069\n",
       "1         985983.87458\n",
       "2         897955.95914\n",
       "3         347347.60933\n",
       "4         682651.64371\n",
       "              ...     \n",
       "281661    454408.37963\n",
       "281662   1171165.12779\n",
       "281663   2991076.58477\n",
       "281664   1017050.63458\n",
       "281665    711716.64829\n",
       "Length: 281666, dtype: float64"
      ]
     },
     "execution_count": 59,
     "metadata": {},
     "output_type": "execute_result"
    }
   ],
   "source": [
    "final_prediction"
   ]
  },
  {
   "cell_type": "code",
   "execution_count": 76,
   "id": "verbal-boating",
   "metadata": {},
   "outputs": [
    {
     "data": {
      "text/plain": [
       "(281666,)"
      ]
     },
     "execution_count": 76,
     "metadata": {},
     "output_type": "execute_result"
    }
   ],
   "source": [
    "final_predictions_nn.reshape(-1,).shape"
   ]
  },
  {
   "cell_type": "code",
   "execution_count": 72,
   "id": "corresponding-estate",
   "metadata": {},
   "outputs": [
    {
     "data": {
      "text/plain": [
       "(281666,)"
      ]
     },
     "execution_count": 72,
     "metadata": {},
     "output_type": "execute_result"
    }
   ],
   "source": [
    "final_predictions_xgb.shape"
   ]
  },
  {
   "cell_type": "code",
   "execution_count": 88,
   "id": "incorporated-distinction",
   "metadata": {},
   "outputs": [],
   "source": [
    "test_df['cuota_de_consumo'] = np.where(test_df['cuota_de_consumo'] <0 ,0, test_df['cuota_de_consumo'])\n",
    "test_df_modeling = DataFramePreProcessor(test_df, test=True)\n",
    "test_df_modeling.process()\n",
    "#final_prediction_cat = cat_reg.predict(test_df_modeling.modeling_dataframe[feature_cols])"
   ]
  },
  {
   "cell_type": "code",
   "execution_count": 183,
   "id": "corrected-nevada",
   "metadata": {},
   "outputs": [],
   "source": [
    "final_predictions_xgb_log=np.exp(xgb_reg_log.predict(test_df_modeling.modeling_dataframe[feature_cols]))-1\n",
    "final_predictions_xgb=xgb_reg.predict(test_df_modeling.modeling_dataframe[feature_cols])\n",
    "final_predictions_glm=np.exp(model.predict(test_df_modeling.modeling_dataframe[feature_cols]))-1\n",
    "final_predictions_nn=nn_model.predict(test_df_modeling.modeling_dataframe[feature_cols])                  \n",
    "final_prediction = final_predictions_glm*0.25 + final_predictions_xgb*0.25 + \\\n",
    "                   final_predictions_nn.reshape(-1,)*0.25 + final_predictions_xgb_log*0.25"
   ]
  },
  {
   "cell_type": "code",
   "execution_count": 139,
   "id": "ahead-watson",
   "metadata": {},
   "outputs": [
    {
     "data": {
      "text/plain": [
       "0.9999746524016796"
      ]
     },
     "execution_count": 139,
     "metadata": {},
     "output_type": "execute_result"
    }
   ],
   "source": [
    "xgb_train=xgb_reg.predict(X_test)\n",
    "nn_train=nn_model.predict(X_test)\n",
    "glm_train = np.exp(model.predict(X_test))-1\n",
    "ensemble_score= xgb_train*0.5 + glm_train*0.0 + nn_train.reshape(-1,)*0.5\n",
    "mean_absolute_percentage_error(ensemble_score, y_test)"
   ]
  },
  {
   "cell_type": "code",
   "execution_count": 184,
   "id": "local-nepal",
   "metadata": {},
   "outputs": [
    {
     "name": "stderr",
     "output_type": "stream",
     "text": [
      "g:\\mi unidad\\packen\\data analysis\\python\\p_projects\\bc-dataton\\venv\\lib\\site-packages\\seaborn\\distributions.py:2557: FutureWarning: `distplot` is a deprecated function and will be removed in a future version. Please adapt your code to use either `displot` (a figure-level function with similar flexibility) or `histplot` (an axes-level function for histograms).\n",
      "  warnings.warn(msg, FutureWarning)\n",
      "g:\\mi unidad\\packen\\data analysis\\python\\p_projects\\bc-dataton\\venv\\lib\\site-packages\\seaborn\\distributions.py:2557: FutureWarning: `distplot` is a deprecated function and will be removed in a future version. Please adapt your code to use either `displot` (a figure-level function with similar flexibility) or `histplot` (an axes-level function for histograms).\n",
      "  warnings.warn(msg, FutureWarning)\n"
     ]
    },
    {
     "data": {
      "text/plain": [
       "<AxesSubplot:xlabel='gasto_familiar', ylabel='Density'>"
      ]
     },
     "execution_count": 184,
     "metadata": {},
     "output_type": "execute_result"
    },
    {
     "data": {
      "image/png": "[encoded data removed]",
      "text/plain": [
       "<Figure size 1152x720 with 1 Axes>"
      ]
     },
     "metadata": {},
     "output_type": "display_data"
    }
   ],
   "source": [
    "sns.distplot(final_prediction[final_prediction < 10000000])\n",
    "#sns.distplot(final_predictions_nn[final_predictions_nn < 10000000])\n",
    "sns.distplot(fe_dataframe.modeling_dataframe['gasto_familiar'])\n",
    "#sns.distplot(y_test)"
   ]
  },
  {
   "cell_type": "code",
   "execution_count": 185,
   "id": "taken-characterization",
   "metadata": {},
   "outputs": [
    {
     "data": {
      "text/html": [
       "<div>\n",
       "<style scoped>\n",
       "    .dataframe tbody tr th:only-of-type {\n",
       "        vertical-align: middle;\n",
       "    }\n",
       "\n",
       "    .dataframe tbody tr th {\n",
       "        vertical-align: top;\n",
       "    }\n",
       "\n",
       "    .dataframe thead th {\n",
       "        text-align: right;\n",
       "    }\n",
       "</style>\n",
       "<table border=\"1\" class=\"dataframe\">\n",
       "  <thead>\n",
       "    <tr style=\"text-align: right;\">\n",
       "      <th></th>\n",
       "      <th>id_registro</th>\n",
       "      <th>gasto_familiar</th>\n",
       "    </tr>\n",
       "  </thead>\n",
       "  <tbody>\n",
       "    <tr>\n",
       "      <th>0</th>\n",
       "      <td>4055#201902</td>\n",
       "      <td>254486.45140</td>\n",
       "    </tr>\n",
       "    <tr>\n",
       "      <th>1</th>\n",
       "      <td>12598#201902</td>\n",
       "      <td>269680.37080</td>\n",
       "    </tr>\n",
       "    <tr>\n",
       "      <th>2</th>\n",
       "      <td>23697#201902</td>\n",
       "      <td>323651.26380</td>\n",
       "    </tr>\n",
       "    <tr>\n",
       "      <th>3</th>\n",
       "      <td>23768#201902</td>\n",
       "      <td>216778.38190</td>\n",
       "    </tr>\n",
       "    <tr>\n",
       "      <th>4</th>\n",
       "      <td>7174#201902</td>\n",
       "      <td>369292.42640</td>\n",
       "    </tr>\n",
       "    <tr>\n",
       "      <th>...</th>\n",
       "      <td>...</td>\n",
       "      <td>...</td>\n",
       "    </tr>\n",
       "    <tr>\n",
       "      <th>281661</th>\n",
       "      <td>8596193#202011</td>\n",
       "      <td>301050.72020</td>\n",
       "    </tr>\n",
       "    <tr>\n",
       "      <th>281662</th>\n",
       "      <td>8616083#202011</td>\n",
       "      <td>640165.57000</td>\n",
       "    </tr>\n",
       "    <tr>\n",
       "      <th>281663</th>\n",
       "      <td>8670207#202011</td>\n",
       "      <td>1589629.13130</td>\n",
       "    </tr>\n",
       "    <tr>\n",
       "      <th>281664</th>\n",
       "      <td>8677655#202011</td>\n",
       "      <td>502436.08200</td>\n",
       "    </tr>\n",
       "    <tr>\n",
       "      <th>281665</th>\n",
       "      <td>8692808#202011</td>\n",
       "      <td>275270.95020</td>\n",
       "    </tr>\n",
       "  </tbody>\n",
       "</table>\n",
       "<p>281666 rows × 2 columns</p>\n",
       "</div>"
      ],
      "text/plain": [
       "           id_registro  gasto_familiar\n",
       "0          4055#201902    254486.45140\n",
       "1         12598#201902    269680.37080\n",
       "2         23697#201902    323651.26380\n",
       "3         23768#201902    216778.38190\n",
       "4          7174#201902    369292.42640\n",
       "...                ...             ...\n",
       "281661  8596193#202011    301050.72020\n",
       "281662  8616083#202011    640165.57000\n",
       "281663  8670207#202011   1589629.13130\n",
       "281664  8677655#202011    502436.08200\n",
       "281665  8692808#202011    275270.95020\n",
       "\n",
       "[281666 rows x 2 columns]"
      ]
     },
     "execution_count": 185,
     "metadata": {},
     "output_type": "execute_result"
    }
   ],
   "source": [
    "submission = pd.concat([test_df['id_registro'],pd.Series(final_prediction)], axis=1)\n",
    "submission.columns = [\"id_registro\", \"gasto_familiar\"]\n",
    "submission['gasto_familiar'] = submission['gasto_familiar'].round(4)\n",
    "submission['gasto_familiar'] = np.where(submission['gasto_familiar'] > 10000000, 10000000, submission['gasto_familiar'])\n",
    "submission"
   ]
  },
  {
   "cell_type": "code",
   "execution_count": 92,
   "id": "serious-significance",
   "metadata": {},
   "outputs": [],
   "source": [
    "class PrepareSubmission:\n",
    "    \n",
    "    def __init__(self, dataframe, model):\n",
    "        self.test_dataframe = dataframe\n",
    "        self.model = model\n",
    "     \n",
    "    def makePrediction(self, dataframe)\n",
    "        test_df_modeling = DataFramePreProcessor(test_df, test=True)\n",
    "        test_df_modeling.process()\n",
    "        final_predictions=xgb_reg.predict(test_df_modeling.modeling_dataframe[feature_cols])\n",
    "    \n",
    "    \n",
    "    def prepareSubmissionDF(self, dataframe):\n",
    "        submission = pd.concat([test_df['id_registro'],pd.Series(final_predictions)], axis=1)\n",
    "        submission.columns = [\"id_registro\", \"gasto_familiar\"]\n",
    "    \n",
    "    \n",
    "    def submit(self):\n",
    "        submission.to_csv(\"submission_underground.csv\", index=False)"
   ]
  },
  {
   "cell_type": "code",
   "execution_count": 186,
   "id": "enhanced-effects",
   "metadata": {},
   "outputs": [],
   "source": [
    "submission.to_csv(\"submission_underground.csv\", index=False)"
   ]
  },
  {
   "cell_type": "code",
   "execution_count": 349,
   "id": "royal-narrative",
   "metadata": {},
   "outputs": [
    {
     "data": {
      "text/plain": [
       "32        -49577.95957\n",
       "37        -31132.87461\n",
       "62        -53999.65246\n",
       "87        -84479.18775\n",
       "107       -13693.60451\n",
       "              ...     \n",
       "281250   -157127.52459\n",
       "281302     -9315.22841\n",
       "281462    -12892.82637\n",
       "281547    -16814.90453\n",
       "281553    -13733.63068\n",
       "Length: 8545, dtype: float64"
      ]
     },
     "execution_count": 349,
     "metadata": {},
     "output_type": "execute_result"
    }
   ],
   "source": [
    "final_prediction[final_prediction < 0]"
   ]
  },
  {
   "cell_type": "markdown",
   "id": "competitive-reflection",
   "metadata": {},
   "source": [
    "# Compare predictions\n"
   ]
  },
  {
   "cell_type": "code",
   "execution_count": 92,
   "id": "exterior-chassis",
   "metadata": {},
   "outputs": [
    {
     "data": {
      "text/html": [
       "<div>\n",
       "<style scoped>\n",
       "    .dataframe tbody tr th:only-of-type {\n",
       "        vertical-align: middle;\n",
       "    }\n",
       "\n",
       "    .dataframe tbody tr th {\n",
       "        vertical-align: top;\n",
       "    }\n",
       "\n",
       "    .dataframe thead th {\n",
       "        text-align: right;\n",
       "    }\n",
       "</style>\n",
       "<table border=\"1\" class=\"dataframe\">\n",
       "  <thead>\n",
       "    <tr style=\"text-align: right;\">\n",
       "      <th></th>\n",
       "      <th>id_registro</th>\n",
       "      <th>gasto_familiar</th>\n",
       "    </tr>\n",
       "  </thead>\n",
       "  <tbody>\n",
       "    <tr>\n",
       "      <th>0</th>\n",
       "      <td>4055#201902</td>\n",
       "      <td>571420.17471</td>\n",
       "    </tr>\n",
       "    <tr>\n",
       "      <th>1</th>\n",
       "      <td>12598#201902</td>\n",
       "      <td>349476.25758</td>\n",
       "    </tr>\n",
       "    <tr>\n",
       "      <th>2</th>\n",
       "      <td>23697#201902</td>\n",
       "      <td>540001.77972</td>\n",
       "    </tr>\n",
       "    <tr>\n",
       "      <th>3</th>\n",
       "      <td>23768#201902</td>\n",
       "      <td>409353.73447</td>\n",
       "    </tr>\n",
       "    <tr>\n",
       "      <th>4</th>\n",
       "      <td>7174#201902</td>\n",
       "      <td>611864.98709</td>\n",
       "    </tr>\n",
       "    <tr>\n",
       "      <th>...</th>\n",
       "      <td>...</td>\n",
       "      <td>...</td>\n",
       "    </tr>\n",
       "    <tr>\n",
       "      <th>281661</th>\n",
       "      <td>8596193#202011</td>\n",
       "      <td>502656.56050</td>\n",
       "    </tr>\n",
       "    <tr>\n",
       "      <th>281662</th>\n",
       "      <td>8616083#202011</td>\n",
       "      <td>1159578.39967</td>\n",
       "    </tr>\n",
       "    <tr>\n",
       "      <th>281663</th>\n",
       "      <td>8670207#202011</td>\n",
       "      <td>3470185.48417</td>\n",
       "    </tr>\n",
       "    <tr>\n",
       "      <th>281664</th>\n",
       "      <td>8677655#202011</td>\n",
       "      <td>1136492.28569</td>\n",
       "    </tr>\n",
       "    <tr>\n",
       "      <th>281665</th>\n",
       "      <td>8692808#202011</td>\n",
       "      <td>761015.59699</td>\n",
       "    </tr>\n",
       "  </tbody>\n",
       "</table>\n",
       "<p>281666 rows × 2 columns</p>\n",
       "</div>"
      ],
      "text/plain": [
       "           id_registro  gasto_familiar\n",
       "0          4055#201902    571420.17471\n",
       "1         12598#201902    349476.25758\n",
       "2         23697#201902    540001.77972\n",
       "3         23768#201902    409353.73447\n",
       "4          7174#201902    611864.98709\n",
       "...                ...             ...\n",
       "281661  8596193#202011    502656.56050\n",
       "281662  8616083#202011   1159578.39967\n",
       "281663  8670207#202011   3470185.48417\n",
       "281664  8677655#202011   1136492.28569\n",
       "281665  8692808#202011    761015.59699\n",
       "\n",
       "[281666 rows x 2 columns]"
      ]
     },
     "execution_count": 92,
     "metadata": {},
     "output_type": "execute_result"
    }
   ],
   "source": [
    "best_submission = pd.read_csv(\"submission_underground XGBOOST + GLM.csv\")\n",
    "best_submission"
   ]
  },
  {
   "cell_type": "code",
   "execution_count": 187,
   "id": "surface-patrol",
   "metadata": {},
   "outputs": [
    {
     "name": "stderr",
     "output_type": "stream",
     "text": [
      "g:\\mi unidad\\packen\\data analysis\\python\\p_projects\\bc-dataton\\venv\\lib\\site-packages\\seaborn\\distributions.py:2557: FutureWarning: `distplot` is a deprecated function and will be removed in a future version. Please adapt your code to use either `displot` (a figure-level function with similar flexibility) or `histplot` (an axes-level function for histograms).\n",
      "  warnings.warn(msg, FutureWarning)\n",
      "g:\\mi unidad\\packen\\data analysis\\python\\p_projects\\bc-dataton\\venv\\lib\\site-packages\\seaborn\\distributions.py:2557: FutureWarning: `distplot` is a deprecated function and will be removed in a future version. Please adapt your code to use either `displot` (a figure-level function with similar flexibility) or `histplot` (an axes-level function for histograms).\n",
      "  warnings.warn(msg, FutureWarning)\n"
     ]
    },
    {
     "data": {
      "text/plain": [
       "<AxesSubplot:xlabel='gasto_familiar', ylabel='Density'>"
      ]
     },
     "execution_count": 187,
     "metadata": {},
     "output_type": "execute_result"
    },
    {
     "data": {
      "image/png": "[encoded data removed]",
      "text/plain": [
       "<Figure size 1152x720 with 1 Axes>"
      ]
     },
     "metadata": {},
     "output_type": "display_data"
    }
   ],
   "source": [
    "sns.distplot(submission['gasto_familiar'])\n",
    "sns.distplot(best_submission[best_submission['gasto_familiar'] < 10000000]['gasto_familiar'])"
   ]
  },
  {
   "cell_type": "code",
   "execution_count": 107,
   "id": "extensive-channels",
   "metadata": {},
   "outputs": [
    {
     "name": "stderr",
     "output_type": "stream",
     "text": [
      "g:\\mi unidad\\packen\\data analysis\\python\\p_projects\\bc-dataton\\venv\\lib\\site-packages\\seaborn\\distributions.py:2557: FutureWarning: `distplot` is a deprecated function and will be removed in a future version. Please adapt your code to use either `displot` (a figure-level function with similar flexibility) or `histplot` (an axes-level function for histograms).\n",
      "  warnings.warn(msg, FutureWarning)\n"
     ]
    },
    {
     "data": {
      "text/plain": [
       "<AxesSubplot:xlabel='gasto_familiar', ylabel='Density'>"
      ]
     },
     "execution_count": 107,
     "metadata": {},
     "output_type": "execute_result"
    },
    {
     "data": {
      "image/png": "[encoded data removed]",
      "text/plain": [
       "<Figure size 1152x720 with 1 Axes>"
      ]
     },
     "metadata": {},
     "output_type": "display_data"
    }
   ],
   "source": [
    "sns.distplot(best_submission[best_submission['gasto_familiar'] < 10000000]['gasto_familiar'])\n"
   ]
  },
  {
   "cell_type": "code",
   "execution_count": 129,
   "id": "weird-nebraska",
   "metadata": {},
   "outputs": [
    {
     "data": {
      "text/plain": [
       "10000000.0"
      ]
     },
     "execution_count": 129,
     "metadata": {},
     "output_type": "execute_result"
    }
   ],
   "source": [
    "np.quantile(submission['gasto_familiar'], 0.999999)"
   ]
  },
  {
   "cell_type": "code",
   "execution_count": null,
   "id": "signed-handle",
   "metadata": {},
   "outputs": [],
   "source": []
  }
 ],
 "metadata": {
  "kernelspec": {
   "display_name": "Python 3",
   "language": "python",
   "name": "python3"
  },
  "language_info": {
   "codemirror_mode": {
    "name": "ipython",
    "version": 3
   },
   "file_extension": ".py",
   "mimetype": "text/x-python",
   "name": "python",
   "nbconvert_exporter": "python",
   "pygments_lexer": "ipython3",
   "version": "3.8.5"
  }
 },
 "nbformat": 4,
 "nbformat_minor": 5
}
